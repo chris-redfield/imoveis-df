{
 "cells": [
  {
   "cell_type": "code",
   "execution_count": null,
   "metadata": {},
   "outputs": [],
   "source": [
    "import requests\n",
    "import pandas as pd\n",
    "\n",
    "import tqdm\n",
    "\n",
    "import random\n",
    "import time\n",
    "\n",
    "from bs4 import BeautifulSoup"
   ]
  },
  {
   "cell_type": "code",
   "execution_count": null,
   "metadata": {},
   "outputs": [],
   "source": [
    "df = pd.read_csv(\"data/apartamentos_incompleto.csv\")\n",
    "print(df.shape)\n",
    "df.head()"
   ]
  },
  {
   "cell_type": "code",
   "execution_count": null,
   "metadata": {},
   "outputs": [],
   "source": [
    "df = df.drop(['Unnamed: 0'],axis=1)\n",
    "df['condominio'] = ''\n",
    "df['IPTU'] = ''\n",
    "df['lat'] = ''\n",
    "df['long'] = ''\n",
    "df['area_total'] = ''\n",
    "df['area_util'] = ''\n",
    "df['banheiros'] = ''\n",
    "df['vagas'] = ''\n",
    "df['quartos'] = ''\n",
    "df['suites'] = ''\n",
    "df['idade'] = ''\n",
    "df['endereco'] = ''\n",
    "df['bairro'] = ''\n",
    "df['idade_anuncio'] = ''"
   ]
  },
  {
   "cell_type": "code",
   "execution_count": null,
   "metadata": {},
   "outputs": [],
   "source": [
    "SAVE_EVERY_N = 1000"
   ]
  },
  {
   "cell_type": "code",
   "execution_count": null,
   "metadata": {},
   "outputs": [],
   "source": [
    "for i, row in tqdm.tqdm_notebook(df.iterrows(), total=df.shape[0]):\n",
    "    try:\n",
    "        \n",
    "        tqdm.tqdm.write(str(i + 1) +\" Buscando item \" + row.url)\n",
    "        response = requests.get(row.url)\n",
    "        soup = BeautifulSoup(response.text, 'html.parser')\n",
    "\n",
    "        # Condominio e IPTU\n",
    "        valores = soup.findAll(\"div\",{\"class\":\"block-expensas block-row\"})\n",
    "        if(len(valores)>0):\n",
    "            for item in valores:\n",
    "                #tqdm.tqdm.write(str(item))\n",
    "                if(\"Condomínio\" in str(item) ):\n",
    "                    #print(item.find(\"span\").text)\n",
    "                    df.at[i,'condominio'] = item.find(\"span\").text\n",
    "                else:\n",
    "                    df.at[i,'IPTU'] = item.find(\"span\").text\n",
    "                    \n",
    "        # latlong\n",
    "        script = soup.findAll(\"script\")[2].string\n",
    "        lat = script[script.find(\"mapLat\") + 9:script.find(\"mapLat\") + 29].replace(\",\",\"\")\n",
    "        df.at[i,'lat'] = lat\n",
    "        \n",
    "        \n",
    "        long = script[script.find(\"mapLng\") + 9:script.find(\"mapLng\") + 29].replace(\",\",\"\")\n",
    "        df.at[i,'long'] = long\n",
    "        \n",
    "        # icones\n",
    "        icon_total = soup.find(\"i\",{\"class\":\"icon-f icon-f-stotal\"})\n",
    "        if icon_total is not None:\n",
    "            area_total = icon_total.findNext('b').text\n",
    "            df.at[i,'area_total'] = area_total\n",
    "        \n",
    "        icon_util = soup.find(\"i\",{\"class\":\"icon-f icon-f-scubierta\"})\n",
    "        if icon_util is not None:\n",
    "            area_util = icon_util.findNext('b').text\n",
    "            df.at[i,'area_util'] = area_util\n",
    "            \n",
    "        icon_banheiro = soup.find(\"i\",{\"class\":\"icon-f icon-f-bano\"})\n",
    "        if icon_banheiro is not None:\n",
    "            qtd_banheiros = icon_banheiro.findNext('b').text\n",
    "            df.at[i,'banheiros'] = qtd_banheiros\n",
    "            \n",
    "        icon_vagas = soup.find(\"i\",{\"class\":\"icon-f icon-f-cochera\"})\n",
    "        if icon_vagas is not None:\n",
    "            qtd_vagas = icon_vagas.findNext('b').text\n",
    "            df.at[i,'vagas'] = qtd_vagas\n",
    "        \n",
    "        icon_quartos = soup.find(\"i\",{\"class\":\"icon-f icon-f-dormitorio\"})\n",
    "        if icon_quartos is not None:\n",
    "            qtd_quartos = icon_quartos.findNext('b').text\n",
    "            df.at[i,'quartos'] = qtd_quartos\n",
    "        \n",
    "        icon_suites = soup.find(\"i\",{\"class\":\"icon-f icon-f-toilete\"})\n",
    "        if icon_suites is not None:\n",
    "            qtd_suites = icon_suites.findNext('b').text\n",
    "            df.at[i,'suites'] = qtd_suites\n",
    "        \n",
    "        icon_idade = soup.find(\"i\",{\"class\":\"icon-f icon-f-antiguedad\"})\n",
    "        if icon_idade is not None:\n",
    "            idade = icon_idade.findNext('b').text\n",
    "            df.at[i,'idade'] = idade\n",
    "        \n",
    "        h2_endereco = soup.find(\"h2\",{\"class\":\"title-location\"})\n",
    "        if h2_endereco is not None:\n",
    "            df.at[i,'endereco'] = h2_endereco.text\n",
    "            df.at[i,'bairro'] = h2_endereco.findNext(\"span\").text\n",
    "        \n",
    "        h5_idade = soup.find(\"h5\",{\"class\":\"section-date css-float-r\"})\n",
    "        if h5_idade is not None:\n",
    "            df.at[i,'idade_anuncio'] = h5_idade.text.replace(\"\\n Publicado há \",\"\").replace(\" dias\\n\",\"\")\n",
    "        \n",
    "    except Exception as e:\n",
    "        print(\"exceção ao buscar dados. Mensagem:\", str(e))\n",
    "        pass\n",
    "    \n",
    "    if (i % SAVE_EVERY_N) == 0:\n",
    "        print(\"Salvando arquivo intermediario em data/apartamentos_completo_intermediario.csv\")\n",
    "        df.to_csv(\"data/apartamentos_completo_intermediario.csv\")\n",
    "    \n",
    "    #dorme\n",
    "    aleatorio = random.randint(1, 4)\n",
    "    tqdm.tqdm.write(\"agora vou aguardar: \" + str(aleatorio))\n",
    "    time.sleep(aleatorio)\n",
    "\n",
    "print(df.shape)\n",
    "df.head(10)"
   ]
  },
  {
   "cell_type": "code",
   "execution_count": null,
   "metadata": {},
   "outputs": [],
   "source": [
    "df.to_csv(\"data/apartamentos_completo.csv\")"
   ]
  }
 ],
 "metadata": {
  "kernelspec": {
   "display_name": "Python 3",
   "language": "python",
   "name": "python3"
  },
  "language_info": {
   "codemirror_mode": {
    "name": "ipython",
    "version": 3
   },
   "file_extension": ".py",
   "mimetype": "text/x-python",
   "name": "python",
   "nbconvert_exporter": "python",
   "pygments_lexer": "ipython3",
   "version": "3.7.1"
  }
 },
 "nbformat": 4,
 "nbformat_minor": 2
}
