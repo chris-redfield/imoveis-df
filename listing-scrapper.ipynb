{
 "cells": [
  {
   "cell_type": "code",
   "execution_count": 1,
   "metadata": {},
   "outputs": [],
   "source": [
    "import requests\n",
    "import pandas as pd\n",
    "\n",
    "import tqdm\n",
    "\n",
    "import random\n",
    "import time\n",
    "\n",
    "from bs4 import BeautifulSoup"
   ]
  },
  {
   "cell_type": "code",
   "execution_count": 2,
   "metadata": {},
   "outputs": [
    {
     "name": "stdout",
     "output_type": "stream",
     "text": [
      "(16180, 4)\n"
     ]
    },
    {
     "data": {
      "text/html": [
       "<div>\n",
       "<style scoped>\n",
       "    .dataframe tbody tr th:only-of-type {\n",
       "        vertical-align: middle;\n",
       "    }\n",
       "\n",
       "    .dataframe tbody tr th {\n",
       "        vertical-align: top;\n",
       "    }\n",
       "\n",
       "    .dataframe thead th {\n",
       "        text-align: right;\n",
       "    }\n",
       "</style>\n",
       "<table border=\"1\" class=\"dataframe\">\n",
       "  <thead>\n",
       "    <tr style=\"text-align: right;\">\n",
       "      <th></th>\n",
       "      <th>Unnamed: 0</th>\n",
       "      <th>nome</th>\n",
       "      <th>valor_venda</th>\n",
       "      <th>url</th>\n",
       "    </tr>\n",
       "  </thead>\n",
       "  <tbody>\n",
       "    <tr>\n",
       "      <th>0</th>\n",
       "      <td>0</td>\n",
       "      <td>Estância Quintas Da Alvorada Casa Térrea Const...</td>\n",
       "      <td>340000</td>\n",
       "      <td>https://www.wimoveis.com.br/propriedades/estan...</td>\n",
       "    </tr>\n",
       "    <tr>\n",
       "      <th>1</th>\n",
       "      <td>1</td>\n",
       "      <td>Casa | 3 Quartos | Piscina | Rua 8 Vicente Pires</td>\n",
       "      <td>700000</td>\n",
       "      <td>https://www.wimoveis.com.br/propriedades/casa-...</td>\n",
       "    </tr>\n",
       "    <tr>\n",
       "      <th>2</th>\n",
       "      <td>2</td>\n",
       "      <td>Casa Com 3 Quartos 143,33 m² De Área Útil, Mod...</td>\n",
       "      <td>420000</td>\n",
       "      <td>https://www.wimoveis.com.br/propriedades/casa-...</td>\n",
       "    </tr>\n",
       "    <tr>\n",
       "      <th>3</th>\n",
       "      <td>3</td>\n",
       "      <td>Rua 4a - Excelente Casa - 03 Quartos - Fino Ac...</td>\n",
       "      <td>595000</td>\n",
       "      <td>https://www.wimoveis.com.br/propriedades/rua-4...</td>\n",
       "    </tr>\n",
       "    <tr>\n",
       "      <th>4</th>\n",
       "      <td>4</td>\n",
       "      <td>Qe 28 Guará II, 109 m² - 02 Quartos</td>\n",
       "      <td>680000</td>\n",
       "      <td>https://www.wimoveis.com.br/propriedades/qe-28...</td>\n",
       "    </tr>\n",
       "  </tbody>\n",
       "</table>\n",
       "</div>"
      ],
      "text/plain": [
       "   Unnamed: 0                                               nome  valor_venda  \\\n",
       "0           0  Estância Quintas Da Alvorada Casa Térrea Const...       340000   \n",
       "1           1   Casa | 3 Quartos | Piscina | Rua 8 Vicente Pires       700000   \n",
       "2           2  Casa Com 3 Quartos 143,33 m² De Área Útil, Mod...       420000   \n",
       "3           3  Rua 4a - Excelente Casa - 03 Quartos - Fino Ac...       595000   \n",
       "4           4                Qe 28 Guará II, 109 m² - 02 Quartos       680000   \n",
       "\n",
       "                                                 url  \n",
       "0  https://www.wimoveis.com.br/propriedades/estan...  \n",
       "1  https://www.wimoveis.com.br/propriedades/casa-...  \n",
       "2  https://www.wimoveis.com.br/propriedades/casa-...  \n",
       "3  https://www.wimoveis.com.br/propriedades/rua-4...  \n",
       "4  https://www.wimoveis.com.br/propriedades/qe-28...  "
      ]
     },
     "execution_count": 2,
     "metadata": {},
     "output_type": "execute_result"
    }
   ],
   "source": [
    "df = pd.read_csv(\"data/casas_incompleto.csv\")\n",
    "print(df.shape)\n",
    "df.head()"
   ]
  },
  {
   "cell_type": "code",
   "execution_count": 3,
   "metadata": {},
   "outputs": [],
   "source": [
    "df = df.drop(['Unnamed: 0'],axis=1)\n",
    "df['condominio'] = ''\n",
    "df['IPTU'] = ''\n",
    "df['lat'] = ''\n",
    "df['long'] = ''\n",
    "df['area_total'] = ''\n",
    "df['area_util'] = ''\n",
    "df['banheiros'] = ''\n",
    "df['vagas'] = ''\n",
    "df['quartos'] = ''\n",
    "df['suites'] = ''\n",
    "df['idade'] = ''\n",
    "df['endereco'] = ''\n",
    "df['bairro'] = ''\n",
    "df['idade_anuncio'] = ''"
   ]
  },
  {
   "cell_type": "code",
   "execution_count": 4,
   "metadata": {},
   "outputs": [],
   "source": [
    "SAVE_EVERY_N = 1000"
   ]
  },
  {
   "cell_type": "code",
   "execution_count": 7,
   "metadata": {},
   "outputs": [
    {
     "data": {
      "application/vnd.jupyter.widget-view+json": {
       "model_id": "c8b697dd16c541e69b20f97cd90dde89",
       "version_major": 2,
       "version_minor": 0
      },
      "text/plain": [
       "HBox(children=(IntProgress(value=0, max=16180), HTML(value='')))"
      ]
     },
     "metadata": {},
     "output_type": "display_data"
    },
    {
     "name": "stdout",
     "output_type": "stream",
     "text": [
      "1 Buscando item https://www.wimoveis.com.br/propriedades/estancia-quintas-da-alvorada-casa-terrea-construcao-2947102743.html\n",
      "None\n",
      "exceção ao buscar dados. Mensagem: 'NoneType' object has no attribute 'find'\n",
      "Salvando arquivo intermediario em data/casas_completo_intermediario.csv\n",
      "agora vou aguardar: 4\n",
      "\n"
     ]
    },
    {
     "ename": "KeyboardInterrupt",
     "evalue": "",
     "output_type": "error",
     "traceback": [
      "\u001b[0;31m---------------------------------------------------------------------------\u001b[0m",
      "\u001b[0;31mKeyboardInterrupt\u001b[0m                         Traceback (most recent call last)",
      "\u001b[0;32m<ipython-input-7-d7d81c9f82bf>\u001b[0m in \u001b[0;36m<module>\u001b[0;34m\u001b[0m\n\u001b[1;32m     83\u001b[0m     \u001b[0maleatorio\u001b[0m \u001b[0;34m=\u001b[0m \u001b[0mrandom\u001b[0m\u001b[0;34m.\u001b[0m\u001b[0mrandint\u001b[0m\u001b[0;34m(\u001b[0m\u001b[0;36m1\u001b[0m\u001b[0;34m,\u001b[0m \u001b[0;36m4\u001b[0m\u001b[0;34m)\u001b[0m\u001b[0;34m\u001b[0m\u001b[0;34m\u001b[0m\u001b[0m\n\u001b[1;32m     84\u001b[0m     \u001b[0mtqdm\u001b[0m\u001b[0;34m.\u001b[0m\u001b[0mtqdm\u001b[0m\u001b[0;34m.\u001b[0m\u001b[0mwrite\u001b[0m\u001b[0;34m(\u001b[0m\u001b[0;34m\"agora vou aguardar: \"\u001b[0m \u001b[0;34m+\u001b[0m \u001b[0mstr\u001b[0m\u001b[0;34m(\u001b[0m\u001b[0maleatorio\u001b[0m\u001b[0;34m)\u001b[0m\u001b[0;34m)\u001b[0m\u001b[0;34m\u001b[0m\u001b[0;34m\u001b[0m\u001b[0m\n\u001b[0;32m---> 85\u001b[0;31m     \u001b[0mtime\u001b[0m\u001b[0;34m.\u001b[0m\u001b[0msleep\u001b[0m\u001b[0;34m(\u001b[0m\u001b[0maleatorio\u001b[0m\u001b[0;34m)\u001b[0m\u001b[0;34m\u001b[0m\u001b[0;34m\u001b[0m\u001b[0m\n\u001b[0m\u001b[1;32m     86\u001b[0m \u001b[0;34m\u001b[0m\u001b[0m\n\u001b[1;32m     87\u001b[0m \u001b[0mprint\u001b[0m\u001b[0;34m(\u001b[0m\u001b[0mdf\u001b[0m\u001b[0;34m.\u001b[0m\u001b[0mshape\u001b[0m\u001b[0;34m)\u001b[0m\u001b[0;34m\u001b[0m\u001b[0;34m\u001b[0m\u001b[0m\n",
      "\u001b[0;31mKeyboardInterrupt\u001b[0m: "
     ]
    }
   ],
   "source": [
    "for i, row in tqdm.tqdm_notebook(df.iterrows(), total=df.shape[0]):\n",
    "    try:\n",
    "        \n",
    "        tqdm.tqdm.write(str(i + 1) +\" Buscando item \" + row.url)\n",
    "        response = requests.get(row.url)\n",
    "        soup = BeautifulSoup(response.text, 'html.parser')\n",
    "\n",
    "        # Condominio e IPTU\n",
    "        valores = soup.findAll(\"div\",{\"class\":\"block-expensas block-row\"})\n",
    "        if(len(valores)>0):\n",
    "            for item in valores:\n",
    "                #tqdm.tqdm.write(str(item))\n",
    "                if(\"Condomínio\" in str(item) ):\n",
    "                    #print(item.find(\"span\").text)\n",
    "                    df.at[i,'condominio'] = item.find(\"span\").text\n",
    "                else:\n",
    "                    df.at[i,'IPTU'] = item.find(\"span\").text\n",
    "                    \n",
    "        # latlong\n",
    "        script = soup.findAll(\"script\")[2].string\n",
    "        lat = script[script.find(\"mapLat\") + 9:script.find(\"mapLat\") + 29].replace(\",\",\"\")\n",
    "        df.at[i,'lat'] = lat\n",
    "        \n",
    "        \n",
    "        long = script[script.find(\"mapLng\") + 9:script.find(\"mapLng\") + 29].replace(\",\",\"\")\n",
    "        df.at[i,'long'] = long\n",
    "        \n",
    "        # icones\n",
    "        icon_total = soup.find(\"i\",{\"class\":\"icon-f icon-f-stotal\"})\n",
    "        if icon_total is not None:\n",
    "            area_total = icon_total.findNext('b').text\n",
    "            df.at[i,'area_total'] = area_total\n",
    "        \n",
    "        icon_util = soup.find(\"i\",{\"class\":\"icon-f icon-f-scubierta\"})\n",
    "        if icon_util is not None:\n",
    "            area_util = icon_util.findNext('b').text\n",
    "            df.at[i,'area_util'] = area_util\n",
    "            \n",
    "        icon_banheiro = soup.find(\"i\",{\"class\":\"icon-f icon-f-bano\"})\n",
    "        if icon_banheiro is not None:\n",
    "            qtd_banheiros = icon_banheiro.findNext('b').text\n",
    "            df.at[i,'banheiros'] = qtd_banheiros\n",
    "            \n",
    "        icon_vagas = soup.find(\"i\",{\"class\":\"icon-f icon-f-cochera\"})\n",
    "        if icon_vagas is not None:\n",
    "            qtd_vagas = icon_vagas.findNext('b').text\n",
    "            df.at[i,'vagas'] = qtd_vagas\n",
    "        \n",
    "        icon_quartos = soup.find(\"i\",{\"class\":\"icon-f icon-f-dormitorio\"})\n",
    "        if icon_quartos is not None:\n",
    "            qtd_quartos = icon_quartos.findNext('b').text\n",
    "            df.at[i,'quartos'] = qtd_quartos\n",
    "        \n",
    "        icon_suites = soup.find(\"i\",{\"class\":\"icon-f icon-f-toilete\"})\n",
    "        if icon_suites is not None:\n",
    "            qtd_suites = icon_suites.findNext('b').text\n",
    "            df.at[i,'suites'] = qtd_suites\n",
    "        \n",
    "        icon_idade = soup.find(\"i\",{\"class\":\"icon-f icon-f-antiguedad\"})\n",
    "        if icon_idade is not None:\n",
    "            idade = icon_idade.findNext('b').text\n",
    "            df.at[i,'idade'] = idade\n",
    "        \n",
    "        h2_endereco = soup.find(\"h2\",{\"class\":\"title-location\"})\n",
    "        if h2_endereco is not None:\n",
    "            df.at[i,'endereco'] = h2_endereco.text\n",
    "            df.at[i,'bairro'] = h2_endereco.findNext(\"span\").text\n",
    "        \n",
    "        h5_idade = soup.find(\"h5\",{\"class\":\"section-date css-float-r\"})\n",
    "        if h5_idade is not None:\n",
    "            df.at[i,'idade_anuncio'] = h5_idade.text.replace(\"\\n Publicado há \",\"\").replace(\" dias\\n\",\"\")\n",
    "        \n",
    "    except Exception as e:\n",
    "        print(\"exceção ao buscar dados. Mensagem:\", str(e))\n",
    "        pass\n",
    "    \n",
    "    if (i % SAVE_EVERY_N) == 0:\n",
    "        print(\"Salvando arquivo intermediario em data/casas_completo_intermediario.csv\")\n",
    "        df.to_csv(\"data/casas_completo_intermediario.csv\")\n",
    "    \n",
    "    #dorme\n",
    "    aleatorio = random.randint(1, 4)\n",
    "    tqdm.tqdm.write(\"agora vou aguardar: \" + str(aleatorio))\n",
    "    time.sleep(aleatorio)\n",
    "\n",
    "print(df.shape)\n",
    "df.head(10)"
   ]
  },
  {
   "cell_type": "code",
   "execution_count": null,
   "metadata": {},
   "outputs": [],
   "source": [
    "df.to_csv(\"data/apartamentos_completo.csv\")"
   ]
  }
 ],
 "metadata": {
  "kernelspec": {
   "display_name": "Python 3",
   "language": "python",
   "name": "python3"
  },
  "language_info": {
   "codemirror_mode": {
    "name": "ipython",
    "version": 3
   },
   "file_extension": ".py",
   "mimetype": "text/x-python",
   "name": "python",
   "nbconvert_exporter": "python",
   "pygments_lexer": "ipython3",
   "version": "3.7.3"
  }
 },
 "nbformat": 4,
 "nbformat_minor": 2
}
