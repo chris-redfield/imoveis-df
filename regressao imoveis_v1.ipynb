{
 "cells": [
  {
   "cell_type": "code",
   "execution_count": 1,
   "metadata": {},
   "outputs": [],
   "source": [
    "import pandas as pd\n",
    "import os\n",
    "import matplotlib.pyplot as plt\n",
    "\n",
    "from sklearn.ensemble import RandomForestRegressor\n",
    "from sklearn.model_selection import train_test_split\n",
    "from sklearn.metrics import mean_squared_error, r2_score, classification_report\n",
    "import math\n",
    "import numpy as np\n",
    "\n",
    "from yellowbrick.regressor import ResidualsPlot"
   ]
  },
  {
   "cell_type": "markdown",
   "metadata": {},
   "source": [
    "##  Carrega dados"
   ]
  },
  {
   "cell_type": "code",
   "execution_count": 2,
   "metadata": {},
   "outputs": [
    {
     "name": "stdout",
     "output_type": "stream",
     "text": [
      "(29001, 17)\n"
     ]
    },
    {
     "data": {
      "text/html": [
       "<div>\n",
       "<style scoped>\n",
       "    .dataframe tbody tr th:only-of-type {\n",
       "        vertical-align: middle;\n",
       "    }\n",
       "\n",
       "    .dataframe tbody tr th {\n",
       "        vertical-align: top;\n",
       "    }\n",
       "\n",
       "    .dataframe thead th {\n",
       "        text-align: right;\n",
       "    }\n",
       "</style>\n",
       "<table border=\"1\" class=\"dataframe\">\n",
       "  <thead>\n",
       "    <tr style=\"text-align: right;\">\n",
       "      <th></th>\n",
       "      <th>nome</th>\n",
       "      <th>valor_venda</th>\n",
       "      <th>url</th>\n",
       "      <th>condominio</th>\n",
       "      <th>IPTU</th>\n",
       "      <th>lat</th>\n",
       "      <th>long</th>\n",
       "      <th>area_total</th>\n",
       "      <th>area_util</th>\n",
       "      <th>banheiros</th>\n",
       "      <th>vagas</th>\n",
       "      <th>quartos</th>\n",
       "      <th>suites</th>\n",
       "      <th>idade</th>\n",
       "      <th>endereco</th>\n",
       "      <th>bairro</th>\n",
       "      <th>idade_anuncio</th>\n",
       "    </tr>\n",
       "  </thead>\n",
       "  <tbody>\n",
       "    <tr>\n",
       "      <th>0</th>\n",
       "      <td>Tower duplex  90m2</td>\n",
       "      <td>550000</td>\n",
       "      <td>https://www.wimoveis.com.br/propriedades/tower...</td>\n",
       "      <td>R$ 730</td>\n",
       "      <td>R$ 690</td>\n",
       "      <td>-15.842635250484830</td>\n",
       "      <td>-48.024645807548495</td>\n",
       "      <td>89m²</td>\n",
       "      <td>89m²</td>\n",
       "      <td>3.0</td>\n",
       "      <td>2.0</td>\n",
       "      <td>2.0</td>\n",
       "      <td>2.0</td>\n",
       "      <td>6</td>\n",
       "      <td>Qd 206,  Aguas Sul, Águas Claras</td>\n",
       "      <td>,  Aguas Sul, Águas Claras</td>\n",
       "      <td>52</td>\n",
       "    </tr>\n",
       "    <tr>\n",
       "      <th>1</th>\n",
       "      <td>SELECTION 36</td>\n",
       "      <td>2150000</td>\n",
       "      <td>https://www.wimoveis.com.br/propriedades/selec...</td>\n",
       "      <td>NaN</td>\n",
       "      <td>NaN</td>\n",
       "      <td>-15.742129999999999</td>\n",
       "      <td>-47.910919999999997</td>\n",
       "      <td>224m²</td>\n",
       "      <td>224m²</td>\n",
       "      <td>6.0</td>\n",
       "      <td>3.0</td>\n",
       "      <td>4.0</td>\n",
       "      <td>4.0</td>\n",
       "      <td>4</td>\n",
       "      <td>Quadra SQNW 110,  Noroeste, Brasília</td>\n",
       "      <td>,  Noroeste, Brasília</td>\n",
       "      <td>6</td>\n",
       "    </tr>\n",
       "    <tr>\n",
       "      <th>2</th>\n",
       "      <td>Elevador + Apartamento de 3 Quartos + Excelent...</td>\n",
       "      <td>420000</td>\n",
       "      <td>https://www.wimoveis.com.br/propriedades/eleva...</td>\n",
       "      <td>NaN</td>\n",
       "      <td>NaN</td>\n",
       "      <td>-15.739203900000000</td>\n",
       "      <td>-47.902473900000020</td>\n",
       "      <td>NaN</td>\n",
       "      <td>65m²</td>\n",
       "      <td>2.0</td>\n",
       "      <td>0.0</td>\n",
       "      <td>3.0</td>\n",
       "      <td>0.0</td>\n",
       "      <td>NaN</td>\n",
       "      <td>SCRN 706/707 BLOCO F - COMPLETO ARMÁRIOS- EXCE...</td>\n",
       "      <td>,  Asa Norte, Brasília</td>\n",
       "      <td>9</td>\n",
       "    </tr>\n",
       "    <tr>\n",
       "      <th>3</th>\n",
       "      <td>01, 02 QUARTOS E LOJA COMERCIAL - MEET NOROESTE</td>\n",
       "      <td>332420</td>\n",
       "      <td>https://www.wimoveis.com.br/propriedades/01-02...</td>\n",
       "      <td>NaN</td>\n",
       "      <td>NaN</td>\n",
       "      <td>-15.748856500000000</td>\n",
       "      <td>-47.896520000000010</td>\n",
       "      <td>NaN</td>\n",
       "      <td>NaN</td>\n",
       "      <td>NaN</td>\n",
       "      <td>NaN</td>\n",
       "      <td>NaN</td>\n",
       "      <td>NaN</td>\n",
       "      <td>NaN</td>\n",
       "      <td>NaN</td>\n",
       "      <td>NaN</td>\n",
       "      <td>14</td>\n",
       "    </tr>\n",
       "    <tr>\n",
       "      <th>4</th>\n",
       "      <td>Elegance Park Sul de 03 Suítes</td>\n",
       "      <td>1333800</td>\n",
       "      <td>https://www.wimoveis.com.br/propriedades/elega...</td>\n",
       "      <td>NaN</td>\n",
       "      <td>NaN</td>\n",
       "      <td>-15.827143900000000</td>\n",
       "      <td>-47.952883600000010</td>\n",
       "      <td>117m²</td>\n",
       "      <td>117m²</td>\n",
       "      <td>5.0</td>\n",
       "      <td>2.0</td>\n",
       "      <td>3.0</td>\n",
       "      <td>3.0</td>\n",
       "      <td>1</td>\n",
       "      <td>Sgcv 23,  Park Sul, Brasília</td>\n",
       "      <td>,  Park Sul, Brasília</td>\n",
       "      <td>8</td>\n",
       "    </tr>\n",
       "  </tbody>\n",
       "</table>\n",
       "</div>"
      ],
      "text/plain": [
       "                                                nome  valor_venda  \\\n",
       "0                                 Tower duplex  90m2       550000   \n",
       "1                                       SELECTION 36      2150000   \n",
       "2  Elevador + Apartamento de 3 Quartos + Excelent...       420000   \n",
       "3    01, 02 QUARTOS E LOJA COMERCIAL - MEET NOROESTE       332420   \n",
       "4                     Elegance Park Sul de 03 Suítes      1333800   \n",
       "\n",
       "                                                 url condominio    IPTU  \\\n",
       "0  https://www.wimoveis.com.br/propriedades/tower...     R$ 730  R$ 690   \n",
       "1  https://www.wimoveis.com.br/propriedades/selec...        NaN     NaN   \n",
       "2  https://www.wimoveis.com.br/propriedades/eleva...        NaN     NaN   \n",
       "3  https://www.wimoveis.com.br/propriedades/01-02...        NaN     NaN   \n",
       "4  https://www.wimoveis.com.br/propriedades/elega...        NaN     NaN   \n",
       "\n",
       "                   lat                 long area_total area_util  banheiros  \\\n",
       "0  -15.842635250484830  -48.024645807548495       89m²      89m²        3.0   \n",
       "1  -15.742129999999999  -47.910919999999997      224m²     224m²        6.0   \n",
       "2  -15.739203900000000  -47.902473900000020        NaN      65m²        2.0   \n",
       "3  -15.748856500000000  -47.896520000000010        NaN       NaN        NaN   \n",
       "4  -15.827143900000000  -47.952883600000010      117m²     117m²        5.0   \n",
       "\n",
       "   vagas  quartos  suites idade  \\\n",
       "0    2.0      2.0     2.0     6   \n",
       "1    3.0      4.0     4.0     4   \n",
       "2    0.0      3.0     0.0   NaN   \n",
       "3    NaN      NaN     NaN   NaN   \n",
       "4    2.0      3.0     3.0     1   \n",
       "\n",
       "                                            endereco  \\\n",
       "0                   Qd 206,  Aguas Sul, Águas Claras   \n",
       "1               Quadra SQNW 110,  Noroeste, Brasília   \n",
       "2  SCRN 706/707 BLOCO F - COMPLETO ARMÁRIOS- EXCE...   \n",
       "3                                                NaN   \n",
       "4                       Sgcv 23,  Park Sul, Brasília   \n",
       "\n",
       "                       bairro idade_anuncio  \n",
       "0  ,  Aguas Sul, Águas Claras            52  \n",
       "1       ,  Noroeste, Brasília             6  \n",
       "2      ,  Asa Norte, Brasília             9  \n",
       "3                         NaN            14  \n",
       "4       ,  Park Sul, Brasília             8  "
      ]
     },
     "execution_count": 2,
     "metadata": {},
     "output_type": "execute_result"
    }
   ],
   "source": [
    "df = pd.read_csv(\"data/apartamentos_completo_intermediario.csv\")\n",
    "df = df.drop(['Unnamed: 0'],axis=1)\n",
    "print(df.shape)\n",
    "df.head()"
   ]
  },
  {
   "cell_type": "code",
   "execution_count": 3,
   "metadata": {},
   "outputs": [
    {
     "data": {
      "text/plain": [
       "nome              object\n",
       "valor_venda        int64\n",
       "url               object\n",
       "condominio        object\n",
       "IPTU              object\n",
       "lat               object\n",
       "long              object\n",
       "area_total        object\n",
       "area_util         object\n",
       "banheiros        float64\n",
       "vagas            float64\n",
       "quartos          float64\n",
       "suites           float64\n",
       "idade             object\n",
       "endereco          object\n",
       "bairro            object\n",
       "idade_anuncio     object\n",
       "dtype: object"
      ]
     },
     "execution_count": 3,
     "metadata": {},
     "output_type": "execute_result"
    }
   ],
   "source": [
    "df.dtypes"
   ]
  },
  {
   "cell_type": "markdown",
   "metadata": {},
   "source": [
    "### Dropa imoveis que não tem latitude, longitude e área útil"
   ]
  },
  {
   "cell_type": "code",
   "execution_count": 4,
   "metadata": {},
   "outputs": [],
   "source": [
    "df.dropna(subset=['lat', 'long','area_util'],inplace=True)"
   ]
  },
  {
   "cell_type": "markdown",
   "metadata": {},
   "source": [
    "### Quantidade de valores nulos por coluna"
   ]
  },
  {
   "cell_type": "code",
   "execution_count": 5,
   "metadata": {},
   "outputs": [
    {
     "data": {
      "text/plain": [
       "<matplotlib.axes._subplots.AxesSubplot at 0x22b6b1e61d0>"
      ]
     },
     "execution_count": 5,
     "metadata": {},
     "output_type": "execute_result"
    },
    {
     "data": {
      "image/png": "[encoded data removed]",
      "text/plain": [
       "<Figure size 432x288 with 1 Axes>"
      ]
     },
     "metadata": {
      "needs_background": "light"
     },
     "output_type": "display_data"
    }
   ],
   "source": [
    "df.isna().sum().plot.bar()"
   ]
  },
  {
   "cell_type": "code",
   "execution_count": 6,
   "metadata": {},
   "outputs": [
    {
     "data": {
      "text/plain": [
       "nome                 0\n",
       "valor_venda          0\n",
       "url                  0\n",
       "condominio        9852\n",
       "IPTU             17920\n",
       "lat                  0\n",
       "long                 0\n",
       "area_total       10122\n",
       "area_util            0\n",
       "banheiros          714\n",
       "vagas             1805\n",
       "quartos             26\n",
       "suites            2368\n",
       "idade             9720\n",
       "endereco          2254\n",
       "bairro            2254\n",
       "idade_anuncio        0\n",
       "dtype: int64"
      ]
     },
     "execution_count": 6,
     "metadata": {},
     "output_type": "execute_result"
    }
   ],
   "source": [
    "df.isna().sum()"
   ]
  },
  {
   "cell_type": "markdown",
   "metadata": {},
   "source": [
    "### Remove outliers do preço de venda"
   ]
  },
  {
   "cell_type": "code",
   "execution_count": 7,
   "metadata": {},
   "outputs": [
    {
     "name": "stdout",
     "output_type": "stream",
     "text": [
      "(26414, 17)\n"
     ]
    },
    {
     "data": {
      "text/plain": [
       "count    2.641400e+04\n",
       "mean     2.649756e+06\n",
       "std      6.130884e+07\n",
       "min      5.500000e+01\n",
       "25%      2.700000e+05\n",
       "50%      4.700000e+05\n",
       "75%      9.800000e+05\n",
       "max      6.299000e+09\n",
       "Name: valor_venda, dtype: float64"
      ]
     },
     "execution_count": 7,
     "metadata": {},
     "output_type": "execute_result"
    }
   ],
   "source": [
    "print(df.shape)\n",
    "df.valor_venda.describe()"
   ]
  },
  {
   "cell_type": "markdown",
   "metadata": {},
   "source": [
    "### 6 bilhões parece muito para um imóvel\n",
    "Vamos remover aqueles que custam a partir de 65 milhões"
   ]
  },
  {
   "cell_type": "code",
   "execution_count": 8,
   "metadata": {},
   "outputs": [
    {
     "name": "stdout",
     "output_type": "stream",
     "text": [
      "(26331, 17)\n"
     ]
    },
    {
     "data": {
      "text/plain": [
       "count    2.633100e+04\n",
       "mean     7.370099e+05\n",
       "std      7.595369e+05\n",
       "min      5.500000e+01\n",
       "25%      2.693900e+05\n",
       "50%      4.600000e+05\n",
       "75%      9.800000e+05\n",
       "max      1.200000e+07\n",
       "Name: valor_venda, dtype: float64"
      ]
     },
     "execution_count": 8,
     "metadata": {},
     "output_type": "execute_result"
    }
   ],
   "source": [
    "df = df.loc[df.valor_venda < 65000000]\n",
    "print(df.shape)\n",
    "df.valor_venda.describe()"
   ]
  },
  {
   "cell_type": "markdown",
   "metadata": {},
   "source": [
    "### Checa distribuição dos Bairros"
   ]
  },
  {
   "cell_type": "code",
   "execution_count": 9,
   "metadata": {
    "scrolled": true
   },
   "outputs": [
    {
     "data": {
      "text/plain": [
       "Aguas Sul, Águas Claras                                 3218\n",
       "Noroeste, Brasília                                      3092\n",
       "Aguas Norte, Águas Claras                               2954\n",
       "Asa Norte, Brasília                                     2851\n",
       "Asa Sul, Brasília                                       2047\n",
       "Sudoeste, Brasília                                      1426\n",
       "Taguatinga Norte, Taguatinga                             783\n",
       "Park Sul, Brasília                                       675\n",
       "Guara II, Guará                                          610\n",
       "Samambaia Sul, Samambaia                                 501\n",
       "Lago Norte, Brasília                                     443\n",
       "Areal, Águas Claras                                      432\n",
       "Setor Marista, Goiânia                                   432\n",
       "Taguatinga Sul, Taguatinga                               423\n",
       "Setor Bueno, Goiânia                                     391\n",
       "Guara I, Guará                                           261\n",
       "Samambaia Norte, Samambaia                               252\n",
       "Cruzeiro Novo, Cruzeiro                                  212\n",
       "Centro, Brasília                                         187\n",
       "Ceilandia Norte, Ceilândia                               167\n",
       "Jardim Goiás, Goiânia                                    165\n",
       "Setor Oeste, Goiânia                                     138\n",
       "Setor Industrial, Taguatinga                             116\n",
       "Sobradinho, Sobradinho                                   108\n",
       "Vicente Pires, Vicente Pires                              96\n",
       "Riacho Fundo I, Riacho Fundo                              78\n",
       "Parque Amazônia, Goiânia                                  78\n",
       "Taguatinga Centro, Taguatinga                             76\n",
       "Centro, Águas Claras                                      71\n",
       "Jardim América, Goiânia                                   63\n",
       "                                                        ... \n",
       "Setor Bosque, Formosa                                      1\n",
       "Setor de Armazenagem e Abastecimento Norte, Brasília       1\n",
       "Cidade Ocidental, Cidade Ocidental                         1\n",
       "Parque Estrela Dalva IX, Luziânia                          1\n",
       "Sao Francisco, São Sebastião                               1\n",
       "Vale Do Amanhecer, Planaltina                              1\n",
       "Setor Criméia Leste, Goiânia                               1\n",
       "Residencial Vereda dos Buritis, Goiânia                    1\n",
       "Oeste, Goiânia                                             1\n",
       "Parque das Flores, Valparaíso de Goiás                     1\n",
       "Loteamento Grande Vale, Novo Gama                          1\n",
       "Parque das Nações, Aparecida de Goiânia                    1\n",
       "Santos Dumont, Goiânia                                     1\n",
       "Centro, Aparecida de Goiânia                               1\n",
       "Vila Monticelli, Goiânia                                   1\n",
       "Serra Azul, Sobradinho                                     1\n",
       "Pacaembu, Valparaíso de Goiás                              1\n",
       "Setor de Hotéis e Turismo Sul, Brasília                    1\n",
       "Valparaiso I - Etapa B, Valparaíso de Goiás                1\n",
       "Centro, Gama                                               1\n",
       "Residencial Eldorado Expansão, Goiânia                     1\n",
       "Jardim das Esmeraldas, Goiânia                             1\n",
       "Jardim Esmeraldas, Aparecida de Goiânia                    1\n",
       "Vila Lucy, Goiânia                                         1\n",
       "Jardim Europa, Goiânia                                     1\n",
       "Centro, Planaltina                                         1\n",
       "Parque Flamboyant, Goiânia                                 1\n",
       "Condomínio barra do Pirapitinga, Caldas Novas              1\n",
       "Caldas do Oeste, Caldas Novas                              1\n",
       "Paranoa, Paranoá                                           1\n",
       "Name: bairro, Length: 267, dtype: int64"
      ]
     },
     "execution_count": 9,
     "metadata": {},
     "output_type": "execute_result"
    }
   ],
   "source": [
    "df.bairro = df.bairro.str.replace(\",  \",\"\")\n",
    "df.bairro.value_counts()"
   ]
  },
  {
   "cell_type": "code",
   "execution_count": 10,
   "metadata": {},
   "outputs": [
    {
     "data": {
      "text/plain": [
       "Aguas Sul, Águas Claras                                 3218\n",
       "Noroeste, Brasília                                      3092\n",
       "Aguas Norte, Águas Claras                               2954\n",
       "Asa Norte, Brasília                                     2851\n",
       "Asa Sul, Brasília                                       2047\n",
       "Sudoeste, Brasília                                      1426\n",
       "Taguatinga Norte, Taguatinga                             783\n",
       "Park Sul, Brasília                                       675\n",
       "Guara II, Guará                                          610\n",
       "Samambaia Sul, Samambaia                                 501\n",
       "Lago Norte, Brasília                                     443\n",
       "Areal, Águas Claras                                      432\n",
       "Taguatinga Sul, Taguatinga                               423\n",
       "Guara I, Guará                                           261\n",
       "Samambaia Norte, Samambaia                               252\n",
       "Cruzeiro Novo, Cruzeiro                                  212\n",
       "Centro, Brasília                                         187\n",
       "Ceilandia Norte, Ceilândia                               167\n",
       "Setor Industrial, Taguatinga                             116\n",
       "Sobradinho, Sobradinho                                   108\n",
       "Vicente Pires, Vicente Pires                              96\n",
       "Riacho Fundo I, Riacho Fundo                              78\n",
       "Taguatinga Centro, Taguatinga                             76\n",
       "Centro, Águas Claras                                      71\n",
       "Quadras Economicas Lucio Costa, Guará                     63\n",
       "Octogonal, Brasília                                       57\n",
       "Nucleo Bandeirante, Núcleo Bandeirante                    56\n",
       "Águas Claras, Distrito Federal                            39\n",
       "QE Lucio Costa, Guará                                     39\n",
       "Setor Central, Gama                                       38\n",
       "                                                        ... \n",
       "Setor Bosque, Formosa                                      1\n",
       "Setor de Armazenagem e Abastecimento Norte, Brasília       1\n",
       "Cidade Ocidental, Cidade Ocidental                         1\n",
       "Parque Estrela Dalva IX, Luziânia                          1\n",
       "Sao Francisco, São Sebastião                               1\n",
       "Vale Do Amanhecer, Planaltina                              1\n",
       "Setor Criméia Leste, Goiânia                               1\n",
       "Residencial Vereda dos Buritis, Goiânia                    1\n",
       "Oeste, Goiânia                                             1\n",
       "Parque das Flores, Valparaíso de Goiás                     1\n",
       "Loteamento Grande Vale, Novo Gama                          1\n",
       "Parque das Nações, Aparecida de Goiânia                    1\n",
       "Santos Dumont, Goiânia                                     1\n",
       "Centro, Aparecida de Goiânia                               1\n",
       "Vila Monticelli, Goiânia                                   1\n",
       "Serra Azul, Sobradinho                                     1\n",
       "Pacaembu, Valparaíso de Goiás                              1\n",
       "Setor de Hotéis e Turismo Sul, Brasília                    1\n",
       "Valparaiso I - Etapa B, Valparaíso de Goiás                1\n",
       "Centro, Gama                                               1\n",
       "Residencial Eldorado Expansão, Goiânia                     1\n",
       "Jardim das Esmeraldas, Goiânia                             1\n",
       "Jardim Esmeraldas, Aparecida de Goiânia                    1\n",
       "Vila Lucy, Goiânia                                         1\n",
       "Jardim Europa, Goiânia                                     1\n",
       "Centro, Planaltina                                         1\n",
       "Parque Flamboyant, Goiânia                                 1\n",
       "Condomínio barra do Pirapitinga, Caldas Novas              1\n",
       "Caldas do Oeste, Caldas Novas                              1\n",
       "Paranoa, Paranoá                                           1\n",
       "Name: bairro, Length: 261, dtype: int64"
      ]
     },
     "execution_count": 10,
     "metadata": {},
     "output_type": "execute_result"
    }
   ],
   "source": [
    "bairros_goiania = ['Setor Bueno, Goiânia','Setor Marista, Goiânia','Jardim Goiás, Goiânia','Setor Oeste, Goiânia',\n",
    "                  'Parque Amazônia, Goiânia','Jardim América, Goiânia']\n",
    "df = df[~df['bairro'].isin(bairros_goiania)]\n",
    "df.bairro.value_counts()"
   ]
  },
  {
   "cell_type": "code",
   "execution_count": 11,
   "metadata": {},
   "outputs": [
    {
     "data": {
      "text/plain": [
       "<matplotlib.axes._subplots.AxesSubplot at 0x22b6c02c198>"
      ]
     },
     "execution_count": 11,
     "metadata": {},
     "output_type": "execute_result"
    },
    {
     "data": {
      "image/png": "[encoded data removed]",
      "text/plain": [
       "<Figure size 432x288 with 1 Axes>"
      ]
     },
     "metadata": {
      "needs_background": "light"
     },
     "output_type": "display_data"
    }
   ],
   "source": [
    "df.bairro.value_counts()[:25].plot.bar()"
   ]
  },
  {
   "cell_type": "markdown",
   "metadata": {},
   "source": [
    "### Remove bairros com menos imóveis (pega so 25 +)"
   ]
  },
  {
   "cell_type": "code",
   "execution_count": 14,
   "metadata": {},
   "outputs": [
    {
     "data": {
      "text/plain": [
       "Octogonal, Brasília                                     57\n",
       "Nucleo Bandeirante, Núcleo Bandeirante                  56\n",
       "Águas Claras, Distrito Federal                          39\n",
       "QE Lucio Costa, Guará                                   39\n",
       "Setor Central, Gama                                     38\n",
       "Setor Industrial, Gama                                  38\n",
       "Centro, Taguatinga                                      38\n",
       "Grande Colorado, Sobradinho                             38\n",
       "Setor Nova Suiça, Goiânia                               36\n",
       "Setor Bela Vista, Goiânia                               35\n",
       "Setor Pedro Ludovico, Goiânia                           32\n",
       "Ceilandia Sul, Ceilândia                                32\n",
       "Setor Leste Universitário, Goiânia                      31\n",
       "Samambaia, Samambaia                                    31\n",
       "Setor Central, Goiânia                                  27\n",
       "Alto da Glória, Goiânia                                 27\n",
       "Turista I, Caldas Novas                                 27\n",
       "Riacho Fundo, Riacho Fundo                              25\n",
       "Parque Esplanada III, Valparaíso de Goiás               25\n",
       "Setor de Hotéis e Turismo Norte, Brasília               24\n",
       "Zona Industrial, Guará                                  24\n",
       "Cruzeiro Velho, Cruzeiro                                23\n",
       "Lago Sul, Brasília                                      23\n",
       "Superquadra Noroeste, Brasília                          21\n",
       "Parque Esplanada II, Valparaíso de Goiás                20\n",
       "Residencial Eldorado, Goiânia                           20\n",
       "Jardim Atlântico, Goiânia                               20\n",
       "Area Especial, Guará                                    19\n",
       "Setor Total Ville, Santa Maria                          19\n",
       "Setor Aeroporto, Goiânia                                19\n",
       "                                                        ..\n",
       "Setor Bosque, Formosa                                    1\n",
       "Setor de Armazenagem e Abastecimento Norte, Brasília     1\n",
       "Cidade Ocidental, Cidade Ocidental                       1\n",
       "Parque Estrela Dalva IX, Luziânia                        1\n",
       "Sao Francisco, São Sebastião                             1\n",
       "Vale Do Amanhecer, Planaltina                            1\n",
       "Setor Criméia Leste, Goiânia                             1\n",
       "Residencial Vereda dos Buritis, Goiânia                  1\n",
       "Oeste, Goiânia                                           1\n",
       "Parque das Flores, Valparaíso de Goiás                   1\n",
       "Loteamento Grande Vale, Novo Gama                        1\n",
       "Parque das Nações, Aparecida de Goiânia                  1\n",
       "Santos Dumont, Goiânia                                   1\n",
       "Centro, Aparecida de Goiânia                             1\n",
       "Vila Monticelli, Goiânia                                 1\n",
       "Serra Azul, Sobradinho                                   1\n",
       "Pacaembu, Valparaíso de Goiás                            1\n",
       "Setor de Hotéis e Turismo Sul, Brasília                  1\n",
       "Valparaiso I - Etapa B, Valparaíso de Goiás              1\n",
       "Centro, Gama                                             1\n",
       "Residencial Eldorado Expansão, Goiânia                   1\n",
       "Jardim das Esmeraldas, Goiânia                           1\n",
       "Jardim Esmeraldas, Aparecida de Goiânia                  1\n",
       "Vila Lucy, Goiânia                                       1\n",
       "Jardim Europa, Goiânia                                   1\n",
       "Centro, Planaltina                                       1\n",
       "Parque Flamboyant, Goiânia                               1\n",
       "Condomínio barra do Pirapitinga, Caldas Novas            1\n",
       "Caldas do Oeste, Caldas Novas                            1\n",
       "Paranoa, Paranoá                                         1\n",
       "Name: bairro, Length: 236, dtype: int64"
      ]
     },
     "execution_count": 14,
     "metadata": {},
     "output_type": "execute_result"
    }
   ],
   "source": [
    "df.bairro.value_counts()[25:]"
   ]
  },
  {
   "cell_type": "code",
   "execution_count": 16,
   "metadata": {},
   "outputs": [
    {
     "data": {
      "text/plain": [
       "array(['Octogonal, Brasília', 'Nucleo Bandeirante, Núcleo Bandeirante',\n",
       "       'Águas Claras, Distrito Federal', 'QE Lucio Costa, Guará',\n",
       "       'Setor Central, Gama', 'Setor Industrial, Gama',\n",
       "       'Centro, Taguatinga', 'Grande Colorado, Sobradinho',\n",
       "       'Setor Nova Suiça, Goiânia', 'Setor Bela Vista, Goiânia',\n",
       "       'Setor Pedro Ludovico, Goiânia', 'Ceilandia Sul, Ceilândia',\n",
       "       'Setor Leste Universitário, Goiânia', 'Samambaia, Samambaia',\n",
       "       'Setor Central, Goiânia', 'Alto da Glória, Goiânia',\n",
       "       'Turista I, Caldas Novas', 'Riacho Fundo, Riacho Fundo',\n",
       "       'Parque Esplanada III, Valparaíso de Goiás',\n",
       "       'Setor de Hotéis e Turismo Norte, Brasília',\n",
       "       'Zona Industrial, Guará', 'Cruzeiro Velho, Cruzeiro',\n",
       "       'Lago Sul, Brasília', 'Superquadra Noroeste, Brasília',\n",
       "       'Parque Esplanada II, Valparaíso de Goiás',\n",
       "       'Residencial Eldorado, Goiânia', 'Jardim Atlântico, Goiânia',\n",
       "       'Area Especial, Guará', 'Setor Total Ville, Santa Maria',\n",
       "       'Setor Aeroporto, Goiânia', 'Setor Negrão de Lima, Goiânia',\n",
       "       'Sia, Setor Industrial', 'Vila Rosa, Goiânia',\n",
       "       'Setor Central, Caldas Novas', 'Park Lozandes, Goiânia',\n",
       "       'Superquadra Sudoeste, Brasília', 'Centro, Caldas Novas',\n",
       "       'Setor Habitacional Contagem, Sobradinho',\n",
       "       'Ceilandia Centro, Ceilândia',\n",
       "       'Parque das Cachoeiras, Valparaíso de Goiás',\n",
       "       'Área de Desenvolvimento Econômico, Águas Claras',\n",
       "       'SQB - Super Quadra Brasilia, Guará', 'Santa Maria, Santa Maria',\n",
       "       'Vila dos Alpes, Goiânia', 'Setor Hoteleiro Norte, Brasília',\n",
       "       'Residencial Santos Dumont, Santa Maria', 'Serrinha, Goiânia',\n",
       "       'Setor Sudoeste, Goiânia', 'Setor Leste, Gama', 'Centro, Guará',\n",
       "       'Setor Coimbra, Goiânia', 'Recanto das Emas, Recanto das Emas',\n",
       "       'Jardim Céu Azul, Valparaíso de Goiás',\n",
       "       'Setor Habitacional Jardins Mangueiral, Brasília',\n",
       "       'Cidade Jardins, Valparaíso de Goiás',\n",
       "       'Centro de Atividades, Brasília',\n",
       "       'Condomínio Império dos Nobres, Sobradinho',\n",
       "       'Centro, Vicente Pires', 'Area Especial, Taguatinga',\n",
       "       'Setor De Clubes Esportivos Norte, Brasília',\n",
       "       'Jardins Mangueiral, São Sebastião',\n",
       "       'Setor De Clubes Esportivos Sul, Brasília',\n",
       "       'Setor Habitacional Jardim Botânico, Brasília',\n",
       "       'Parque Esplanada I, Valparaíso de Goiás',\n",
       "       'Setor Habitacional Vicente Pires, Taguatinga', 'Bueno, Goiânia',\n",
       "       'Vila Maria José, Goiânia', 'Olegário Pinto, Caldas Novas',\n",
       "       'Setor Industrial, Guará',\n",
       "       'Sítios Santa Luzia, Aparecida de Goiânia',\n",
       "       'Setor Faiçalville, Goiânia',\n",
       "       'Setor dos Afonsos, Aparecida de Goiânia',\n",
       "       'Setor Meireles, Santa Maria', 'Gama, Gama',\n",
       "       'Setores Complementares, Brasília',\n",
       "       'Condomínio Comercial e Residencial Sobradinho, Sobradinho',\n",
       "       'Superquadra Norte, Brasília', 'Caldas Novas, Caldas Novas',\n",
       "       'Parque Esplanada V, Valparaíso de Goiás',\n",
       "       'Vila Brasília, Aparecida de Goiânia', 'Centro, Cidade Ocidental',\n",
       "       'Jardim Belvedere, Caldas Novas',\n",
       "       'Setor De Mansões De Sobradinho, Sobradinho', 'Park Way, Brasília',\n",
       "       'Centro, Samambaia',\n",
       "       'Setor de Habitações Individuais Norte, Brasília',\n",
       "       'Centro, Valparaíso de Goiás', 'Ipiranga, Valparaíso de Goiás',\n",
       "       'Parque Oeste Industrial, Goiânia',\n",
       "       'Condomínio Vivendas Chácaras Ypiranga, Valparaíso de Goiás',\n",
       "       'Bandeirante, Caldas Novas', 'Setor Sul, Goiânia',\n",
       "       'Setor De Industrias, Brasília', 'Esplanada, Rio Quente',\n",
       "       'Setor Habitacional Meireles, Santa Maria',\n",
       "       'Colônia Agrícola Samambaia, Vicente Pires',\n",
       "       'Vila Planalto, Brasília', 'Centro, Sobradinho',\n",
       "       'Granja Do Torto, Brasília', 'Riacho Fundo II, Riacho Fundo',\n",
       "       'Superquadra Sul, Brasília', 'Comércio Local Noroeste, Brasília',\n",
       "       'Setor Sul, Gama', 'Planaltina, Planaltina',\n",
       "       'Setor Residencial Leste, Planaltina', 'Centro, Goiânia',\n",
       "       'Caminho do Lago, Caldas Novas', 'Vila São João, Goiânia',\n",
       "       'Jardim Jeriquara, Caldas Novas', 'Centro, Ceilândia',\n",
       "       'Chácaras Alto da Glória, Goiânia',\n",
       "       'Setor Placa da Mercedes, Núcleo Bandeirante',\n",
       "       'Setor Leste Vila Nova, Goiânia', 'Itaici II, Caldas Novas',\n",
       "       'Setor de Chácaras Anhangüera C, Valparaíso de Goiás',\n",
       "       'Setor Santos Dumont, Goiânia', 'Nova Vila, Caldas Novas',\n",
       "       'Setor Cândida de Morais, Goiânia', 'Setor Goiânia 2, Goiânia',\n",
       "       'Cidade Jardim, Goiânia', 'Setor Residencial Oeste, São Sebastião',\n",
       "       'Parque São Bernardo, Valparaíso de Goiás', 'Nova Suica, Goiânia',\n",
       "       'Setor Universitario, Goiânia',\n",
       "       'Valparaiso I - Etapa E, Valparaíso de Goiás',\n",
       "       'Itaici I, Caldas Novas', 'Santa Rita, Planaltina de Goiás',\n",
       "       'Arniqueiras, Águas Claras',\n",
       "       'Setor Araguaia, Aparecida de Goiânia', 'Setor Sudoeste, Cruzeiro',\n",
       "       'Setor Universitário, Rio Verde',\n",
       "       'Jardim Ipanema, Valparaíso de Goiás', 'Village Veneza, Goiânia',\n",
       "       'Parque Marajó, Valparaíso de Goiás',\n",
       "       'Aguas Lindas de Goias, Águas Lindas de Goiás',\n",
       "       'Centro Comercial Noroeste, Brasília', 'Novo, Cruzeiro',\n",
       "       'Nova Colina, Sobradinho', 'Quadra Mista Noroeste, Brasília',\n",
       "       'Zona Civico-administrativa, Brasília', 'Turista, Caldas Novas',\n",
       "       'Centro, Uruaçu', 'Setor de Múltiplas Atividades Sul, Brasília',\n",
       "       'Valparaiso I - Etapa A, Valparaíso de Goiás',\n",
       "       'Residencial Granville, Goiânia', 'Setor Hoteleiro Sul, Brasília',\n",
       "       'Vila Jaraguá, Goiânia',\n",
       "       'Núcleo Habitacional Novo Gama, Novo Gama',\n",
       "       'Vila São Luiz, Goiânia',\n",
       "       'Condomínio Residencial Parque Oeste, Goiânia',\n",
       "       'Região Dos Lagos, Sobradinho', 'Centro, Luziânia',\n",
       "       'Jundiaí, Anápolis', 'Jardim Bela Vista, Aparecida de Goiânia',\n",
       "       'Setor Terminal Norte, Brasília', 'Jardim do Ingá, Luziânia',\n",
       "       'Varjao, Varjao', 'Feliz, Goiânia',\n",
       "       'Comércio Local Sudoeste, Brasília',\n",
       "       'Mansões Aguas Quentes, Caldas Novas', 'Centro, Paranoá',\n",
       "       'Setor Central, Vila Estrutural',\n",
       "       'Jardim Santo Antônio, Aparecida de Goiânia',\n",
       "       'Mansões Pôr do Sol, Águas Lindas de Goiás',\n",
       "       'Condomínio Eldorado, Goiânia', 'Mansões do Lago, Brasília',\n",
       "       'Setor De Desenvolvimento Economico, Taguatinga',\n",
       "       'Jardim Nova Era Acréscimo, Aparecida de Goiânia',\n",
       "       'Centro, Núcleo Bandeirante', 'Setor Oeste, Planaltina de Goiás',\n",
       "       'São Francisco, Goiânia', 'Jardim Luz, Aparecida de Goiânia',\n",
       "       'Setor Terminal Sul, Brasília', 'Centro, Anápolis',\n",
       "       'Setor De Industria Graficas, Brasília',\n",
       "       'Estancia Mestre D Armas I, Planaltina', 'Formosinha, Formosa',\n",
       "       'Centro Comercial Sudoeste, Brasília',\n",
       "       'Quadra Mista Sudoeste, Brasília',\n",
       "       'Cidade Satélite São Luiz, Aparecida de Goiânia',\n",
       "       'Alphavile Paiva, Novo Gama', 'Maracanã, Anápolis',\n",
       "       'Setor de Garagens e Concessionárias de Veículos, Brasília',\n",
       "       'Brazlandia, Brazlandia', 'Setor Habitacional Tororó, Santa Maria',\n",
       "       'Setor Norte, Brazlandia', 'Bela Vista, Goiânia',\n",
       "       'Condomínio Mansões Sobradinho, Sobradinho',\n",
       "       'Turista II, Caldas Novas', 'Zona Rural, Uruaçu',\n",
       "       'Chácara Bela Vista, Aparecida de Goiânia',\n",
       "       'Setor de Chácaras Anhangüera A, Valparaíso de Goiás',\n",
       "       'Vila Estrutural, Guará', 'Morro Azul, São Sebastião',\n",
       "       'Centro, Riacho Fundo',\n",
       "       'Cardoso Continuação, Aparecida de Goiânia',\n",
       "       'Vila Jardim São Judas Tadeu, Goiânia', 'Centro, Recanto das Emas',\n",
       "       'Setor de Chácaras Anhangüera B, Valparaíso de Goiás',\n",
       "       'Setor Comercial Local Residencial Norte, Brasília',\n",
       "       'Jardim Flamboyant, Luziânia',\n",
       "       'Setor de Grandes Áreas Norte, Brasília',\n",
       "       'Vila Americano do Brasil, Goiânia',\n",
       "       'Jardim Nova Era, Aparecida de Goiânia',\n",
       "       'Centro, Cocalzinho de Goiás',\n",
       "       'Parque Napolis A, Cidade Ocidental', 'Setor Bosque, Formosa',\n",
       "       'Setor de Armazenagem e Abastecimento Norte, Brasília',\n",
       "       'Cidade Ocidental, Cidade Ocidental',\n",
       "       'Parque Estrela Dalva IX, Luziânia',\n",
       "       'Sao Francisco, São Sebastião', 'Vale Do Amanhecer, Planaltina',\n",
       "       'Setor Criméia Leste, Goiânia',\n",
       "       'Residencial Vereda dos Buritis, Goiânia', 'Oeste, Goiânia',\n",
       "       'Parque das Flores, Valparaíso de Goiás',\n",
       "       'Loteamento Grande Vale, Novo Gama',\n",
       "       'Parque das Nações, Aparecida de Goiânia',\n",
       "       'Santos Dumont, Goiânia', 'Centro, Aparecida de Goiânia',\n",
       "       'Vila Monticelli, Goiânia', 'Serra Azul, Sobradinho',\n",
       "       'Pacaembu, Valparaíso de Goiás',\n",
       "       'Setor de Hotéis e Turismo Sul, Brasília',\n",
       "       'Valparaiso I - Etapa B, Valparaíso de Goiás', 'Centro, Gama',\n",
       "       'Residencial Eldorado Expansão, Goiânia',\n",
       "       'Jardim das Esmeraldas, Goiânia',\n",
       "       'Jardim Esmeraldas, Aparecida de Goiânia', 'Vila Lucy, Goiânia',\n",
       "       'Jardim Europa, Goiânia', 'Centro, Planaltina',\n",
       "       'Parque Flamboyant, Goiânia',\n",
       "       'Condomínio barra do Pirapitinga, Caldas Novas',\n",
       "       'Caldas do Oeste, Caldas Novas', 'Paranoa, Paranoá'], dtype=object)"
      ]
     },
     "execution_count": 16,
     "metadata": {},
     "output_type": "execute_result"
    }
   ],
   "source": [
    "bairros_reject = df.bairro.value_counts()[25:].index.values\n",
    "bairros_reject"
   ]
  },
  {
   "cell_type": "code",
   "execution_count": 17,
   "metadata": {},
   "outputs": [
    {
     "name": "stdout",
     "output_type": "stream",
     "text": [
      "(23384, 17)\n"
     ]
    },
    {
     "data": {
      "text/html": [
       "<div>\n",
       "<style scoped>\n",
       "    .dataframe tbody tr th:only-of-type {\n",
       "        vertical-align: middle;\n",
       "    }\n",
       "\n",
       "    .dataframe tbody tr th {\n",
       "        vertical-align: top;\n",
       "    }\n",
       "\n",
       "    .dataframe thead th {\n",
       "        text-align: right;\n",
       "    }\n",
       "</style>\n",
       "<table border=\"1\" class=\"dataframe\">\n",
       "  <thead>\n",
       "    <tr style=\"text-align: right;\">\n",
       "      <th></th>\n",
       "      <th>nome</th>\n",
       "      <th>valor_venda</th>\n",
       "      <th>url</th>\n",
       "      <th>condominio</th>\n",
       "      <th>IPTU</th>\n",
       "      <th>lat</th>\n",
       "      <th>long</th>\n",
       "      <th>area_total</th>\n",
       "      <th>area_util</th>\n",
       "      <th>banheiros</th>\n",
       "      <th>vagas</th>\n",
       "      <th>quartos</th>\n",
       "      <th>suites</th>\n",
       "      <th>idade</th>\n",
       "      <th>endereco</th>\n",
       "      <th>bairro</th>\n",
       "      <th>idade_anuncio</th>\n",
       "    </tr>\n",
       "  </thead>\n",
       "  <tbody>\n",
       "    <tr>\n",
       "      <th>0</th>\n",
       "      <td>Tower duplex  90m2</td>\n",
       "      <td>550000</td>\n",
       "      <td>https://www.wimoveis.com.br/propriedades/tower...</td>\n",
       "      <td>R$ 730</td>\n",
       "      <td>R$ 690</td>\n",
       "      <td>-15.842635250484830</td>\n",
       "      <td>-48.024645807548495</td>\n",
       "      <td>89m²</td>\n",
       "      <td>89m²</td>\n",
       "      <td>3.0</td>\n",
       "      <td>2.0</td>\n",
       "      <td>2.0</td>\n",
       "      <td>2.0</td>\n",
       "      <td>6</td>\n",
       "      <td>Qd 206,  Aguas Sul, Águas Claras</td>\n",
       "      <td>Aguas Sul, Águas Claras</td>\n",
       "      <td>52</td>\n",
       "    </tr>\n",
       "    <tr>\n",
       "      <th>1</th>\n",
       "      <td>SELECTION 36</td>\n",
       "      <td>2150000</td>\n",
       "      <td>https://www.wimoveis.com.br/propriedades/selec...</td>\n",
       "      <td>NaN</td>\n",
       "      <td>NaN</td>\n",
       "      <td>-15.742129999999999</td>\n",
       "      <td>-47.910919999999997</td>\n",
       "      <td>224m²</td>\n",
       "      <td>224m²</td>\n",
       "      <td>6.0</td>\n",
       "      <td>3.0</td>\n",
       "      <td>4.0</td>\n",
       "      <td>4.0</td>\n",
       "      <td>4</td>\n",
       "      <td>Quadra SQNW 110,  Noroeste, Brasília</td>\n",
       "      <td>Noroeste, Brasília</td>\n",
       "      <td>6</td>\n",
       "    </tr>\n",
       "    <tr>\n",
       "      <th>2</th>\n",
       "      <td>Elevador + Apartamento de 3 Quartos + Excelent...</td>\n",
       "      <td>420000</td>\n",
       "      <td>https://www.wimoveis.com.br/propriedades/eleva...</td>\n",
       "      <td>NaN</td>\n",
       "      <td>NaN</td>\n",
       "      <td>-15.739203900000000</td>\n",
       "      <td>-47.902473900000020</td>\n",
       "      <td>NaN</td>\n",
       "      <td>65m²</td>\n",
       "      <td>2.0</td>\n",
       "      <td>0.0</td>\n",
       "      <td>3.0</td>\n",
       "      <td>0.0</td>\n",
       "      <td>NaN</td>\n",
       "      <td>SCRN 706/707 BLOCO F - COMPLETO ARMÁRIOS- EXCE...</td>\n",
       "      <td>Asa Norte, Brasília</td>\n",
       "      <td>9</td>\n",
       "    </tr>\n",
       "    <tr>\n",
       "      <th>4</th>\n",
       "      <td>Elegance Park Sul de 03 Suítes</td>\n",
       "      <td>1333800</td>\n",
       "      <td>https://www.wimoveis.com.br/propriedades/elega...</td>\n",
       "      <td>NaN</td>\n",
       "      <td>NaN</td>\n",
       "      <td>-15.827143900000000</td>\n",
       "      <td>-47.952883600000010</td>\n",
       "      <td>117m²</td>\n",
       "      <td>117m²</td>\n",
       "      <td>5.0</td>\n",
       "      <td>2.0</td>\n",
       "      <td>3.0</td>\n",
       "      <td>3.0</td>\n",
       "      <td>1</td>\n",
       "      <td>Sgcv 23,  Park Sul, Brasília</td>\n",
       "      <td>Park Sul, Brasília</td>\n",
       "      <td>8</td>\n",
       "    </tr>\n",
       "    <tr>\n",
       "      <th>5</th>\n",
       "      <td>QI 31 Jardins Life Reformadíssimo Localização ...</td>\n",
       "      <td>580000</td>\n",
       "      <td>https://www.wimoveis.com.br/propriedades/qi-31...</td>\n",
       "      <td>NaN</td>\n",
       "      <td>NaN</td>\n",
       "      <td>-15.840017800000000</td>\n",
       "      <td>-47.975002600000038</td>\n",
       "      <td>NaN</td>\n",
       "      <td>68m²</td>\n",
       "      <td>2.0</td>\n",
       "      <td>1.0</td>\n",
       "      <td>2.0</td>\n",
       "      <td>1.0</td>\n",
       "      <td>3</td>\n",
       "      <td>QUADRA QI 31 LOTES 2/4,  Guara II, Guará</td>\n",
       "      <td>Guara II, Guará</td>\n",
       "      <td>6</td>\n",
       "    </tr>\n",
       "  </tbody>\n",
       "</table>\n",
       "</div>"
      ],
      "text/plain": [
       "                                                nome  valor_venda  \\\n",
       "0                                 Tower duplex  90m2       550000   \n",
       "1                                       SELECTION 36      2150000   \n",
       "2  Elevador + Apartamento de 3 Quartos + Excelent...       420000   \n",
       "4                     Elegance Park Sul de 03 Suítes      1333800   \n",
       "5  QI 31 Jardins Life Reformadíssimo Localização ...       580000   \n",
       "\n",
       "                                                 url condominio    IPTU  \\\n",
       "0  https://www.wimoveis.com.br/propriedades/tower...     R$ 730  R$ 690   \n",
       "1  https://www.wimoveis.com.br/propriedades/selec...        NaN     NaN   \n",
       "2  https://www.wimoveis.com.br/propriedades/eleva...        NaN     NaN   \n",
       "4  https://www.wimoveis.com.br/propriedades/elega...        NaN     NaN   \n",
       "5  https://www.wimoveis.com.br/propriedades/qi-31...        NaN     NaN   \n",
       "\n",
       "                   lat                 long area_total area_util  banheiros  \\\n",
       "0  -15.842635250484830  -48.024645807548495       89m²      89m²        3.0   \n",
       "1  -15.742129999999999  -47.910919999999997      224m²     224m²        6.0   \n",
       "2  -15.739203900000000  -47.902473900000020        NaN      65m²        2.0   \n",
       "4  -15.827143900000000  -47.952883600000010      117m²     117m²        5.0   \n",
       "5  -15.840017800000000  -47.975002600000038        NaN      68m²        2.0   \n",
       "\n",
       "   vagas  quartos  suites idade  \\\n",
       "0    2.0      2.0     2.0     6   \n",
       "1    3.0      4.0     4.0     4   \n",
       "2    0.0      3.0     0.0   NaN   \n",
       "4    2.0      3.0     3.0     1   \n",
       "5    1.0      2.0     1.0     3   \n",
       "\n",
       "                                            endereco                   bairro  \\\n",
       "0                   Qd 206,  Aguas Sul, Águas Claras  Aguas Sul, Águas Claras   \n",
       "1               Quadra SQNW 110,  Noroeste, Brasília       Noroeste, Brasília   \n",
       "2  SCRN 706/707 BLOCO F - COMPLETO ARMÁRIOS- EXCE...      Asa Norte, Brasília   \n",
       "4                       Sgcv 23,  Park Sul, Brasília       Park Sul, Brasília   \n",
       "5           QUADRA QI 31 LOTES 2/4,  Guara II, Guará          Guara II, Guará   \n",
       "\n",
       "  idade_anuncio  \n",
       "0            52  \n",
       "1             6  \n",
       "2             9  \n",
       "4             8  \n",
       "5             6  "
      ]
     },
     "execution_count": 17,
     "metadata": {},
     "output_type": "execute_result"
    }
   ],
   "source": [
    "df = df[~df['bairro'].isin(bairros_reject)]\n",
    "print(df.shape)\n",
    "df.head()"
   ]
  },
  {
   "cell_type": "code",
   "execution_count": 18,
   "metadata": {},
   "outputs": [
    {
     "data": {
      "text/plain": [
       "Aguas Sul, Águas Claras                  3218\n",
       "Noroeste, Brasília                       3092\n",
       "Aguas Norte, Águas Claras                2954\n",
       "Asa Norte, Brasília                      2851\n",
       "Asa Sul, Brasília                        2047\n",
       "Sudoeste, Brasília                       1426\n",
       "Taguatinga Norte, Taguatinga              783\n",
       "Park Sul, Brasília                        675\n",
       "Guara II, Guará                           610\n",
       "Samambaia Sul, Samambaia                  501\n",
       "Lago Norte, Brasília                      443\n",
       "Areal, Águas Claras                       432\n",
       "Taguatinga Sul, Taguatinga                423\n",
       "Guara I, Guará                            261\n",
       "Samambaia Norte, Samambaia                252\n",
       "Cruzeiro Novo, Cruzeiro                   212\n",
       "Centro, Brasília                          187\n",
       "Ceilandia Norte, Ceilândia                167\n",
       "Setor Industrial, Taguatinga              116\n",
       "Sobradinho, Sobradinho                    108\n",
       "Vicente Pires, Vicente Pires               96\n",
       "Riacho Fundo I, Riacho Fundo               78\n",
       "Taguatinga Centro, Taguatinga              76\n",
       "Centro, Águas Claras                       71\n",
       "Quadras Economicas Lucio Costa, Guará      63\n",
       "Name: bairro, dtype: int64"
      ]
     },
     "execution_count": 18,
     "metadata": {},
     "output_type": "execute_result"
    }
   ],
   "source": [
    "df.bairro.value_counts()"
   ]
  },
  {
   "cell_type": "code",
   "execution_count": 20,
   "metadata": {},
   "outputs": [
    {
     "ename": "AttributeError",
     "evalue": "'DataFrame' object has no attribute 'tipo'",
     "output_type": "error",
     "traceback": [
      "\u001b[1;31m---------------------------------------------------------------------------\u001b[0m",
      "\u001b[1;31mAttributeError\u001b[0m                            Traceback (most recent call last)",
      "\u001b[1;32m<ipython-input-20-a5e86f20d378>\u001b[0m in \u001b[0;36m<module>\u001b[1;34m\u001b[0m\n\u001b[1;32m----> 1\u001b[1;33m \u001b[0mdf\u001b[0m\u001b[1;33m.\u001b[0m\u001b[0mtipo\u001b[0m\u001b[1;33m.\u001b[0m\u001b[0mvalue_counts\u001b[0m\u001b[1;33m(\u001b[0m\u001b[1;33m)\u001b[0m\u001b[1;33m\u001b[0m\u001b[1;33m\u001b[0m\u001b[0m\n\u001b[0m",
      "\u001b[1;32m~\\AppData\\Local\\Continuum\\anaconda3\\lib\\site-packages\\pandas\\core\\generic.py\u001b[0m in \u001b[0;36m__getattr__\u001b[1;34m(self, name)\u001b[0m\n\u001b[0;32m   5065\u001b[0m             \u001b[1;32mif\u001b[0m \u001b[0mself\u001b[0m\u001b[1;33m.\u001b[0m\u001b[0m_info_axis\u001b[0m\u001b[1;33m.\u001b[0m\u001b[0m_can_hold_identifiers_and_holds_name\u001b[0m\u001b[1;33m(\u001b[0m\u001b[0mname\u001b[0m\u001b[1;33m)\u001b[0m\u001b[1;33m:\u001b[0m\u001b[1;33m\u001b[0m\u001b[1;33m\u001b[0m\u001b[0m\n\u001b[0;32m   5066\u001b[0m                 \u001b[1;32mreturn\u001b[0m \u001b[0mself\u001b[0m\u001b[1;33m[\u001b[0m\u001b[0mname\u001b[0m\u001b[1;33m]\u001b[0m\u001b[1;33m\u001b[0m\u001b[1;33m\u001b[0m\u001b[0m\n\u001b[1;32m-> 5067\u001b[1;33m             \u001b[1;32mreturn\u001b[0m \u001b[0mobject\u001b[0m\u001b[1;33m.\u001b[0m\u001b[0m__getattribute__\u001b[0m\u001b[1;33m(\u001b[0m\u001b[0mself\u001b[0m\u001b[1;33m,\u001b[0m \u001b[0mname\u001b[0m\u001b[1;33m)\u001b[0m\u001b[1;33m\u001b[0m\u001b[1;33m\u001b[0m\u001b[0m\n\u001b[0m\u001b[0;32m   5068\u001b[0m \u001b[1;33m\u001b[0m\u001b[0m\n\u001b[0;32m   5069\u001b[0m     \u001b[1;32mdef\u001b[0m \u001b[0m__setattr__\u001b[0m\u001b[1;33m(\u001b[0m\u001b[0mself\u001b[0m\u001b[1;33m,\u001b[0m \u001b[0mname\u001b[0m\u001b[1;33m,\u001b[0m \u001b[0mvalue\u001b[0m\u001b[1;33m)\u001b[0m\u001b[1;33m:\u001b[0m\u001b[1;33m\u001b[0m\u001b[1;33m\u001b[0m\u001b[0m\n",
      "\u001b[1;31mAttributeError\u001b[0m: 'DataFrame' object has no attribute 'tipo'"
     ]
    }
   ],
   "source": [
    "df.tipo.value_counts()"
   ]
  },
  {
   "cell_type": "code",
   "execution_count": null,
   "metadata": {},
   "outputs": [],
   "source": [
    "df.Tipo = df.Tipo.str.replace(\"\\n\",\"\")\n",
    "df = df[df.Tipo != \"Rurais\"]\n",
    "df.Tipo.value_counts()"
   ]
  },
  {
   "cell_type": "code",
   "execution_count": null,
   "metadata": {},
   "outputs": [],
   "source": [
    "df.quartos = df.quartos.fillna(df.quartos.median())"
   ]
  },
  {
   "cell_type": "code",
   "execution_count": null,
   "metadata": {},
   "outputs": [],
   "source": [
    "df_regression = df[['Bairro', 'area_total', 'area_util', 'Tipo', 'quartos','venda']]\n",
    "print(df_regression.shape)\n",
    "df_regression.head()"
   ]
  },
  {
   "cell_type": "code",
   "execution_count": null,
   "metadata": {},
   "outputs": [],
   "source": [
    "df_regression.isna().sum()"
   ]
  },
  {
   "cell_type": "code",
   "execution_count": null,
   "metadata": {},
   "outputs": [],
   "source": [
    "one_hot = pd.get_dummies(df_regression['Tipo'],prefix=\"tipo\")\n",
    "df_regression = df_regression.join(one_hot)\n",
    "df_regression.shape"
   ]
  },
  {
   "cell_type": "code",
   "execution_count": null,
   "metadata": {},
   "outputs": [],
   "source": [
    "df_regression.head()"
   ]
  },
  {
   "cell_type": "code",
   "execution_count": null,
   "metadata": {},
   "outputs": [],
   "source": [
    "one_hot = pd.get_dummies(df_regression['Bairro'], prefix=\"bairro\")\n",
    "df_regression = df_regression.join(one_hot)\n",
    "\n",
    "df_regression = df_regression.drop(['Tipo', 'Bairro'], axis=1)\n",
    "\n",
    "df_regression.shape\n",
    "df_regression.head()"
   ]
  },
  {
   "cell_type": "code",
   "execution_count": null,
   "metadata": {},
   "outputs": [],
   "source": [
    "X = df_regression.drop(['venda'],axis=1)\n",
    "y = df_regression['venda']\n",
    "X.shape, y.shape"
   ]
  },
  {
   "cell_type": "code",
   "execution_count": null,
   "metadata": {},
   "outputs": [],
   "source": [
    "X_train, X_test, y_train, y_test = train_test_split(X, y, test_size=0.1, random_state=42)\n",
    "X_train.shape, X_test.shape, y_train.shape, y_test.shape"
   ]
  },
  {
   "cell_type": "code",
   "execution_count": null,
   "metadata": {},
   "outputs": [],
   "source": [
    "reg = RandomForestRegressor(n_estimators=100) \n",
    "reg"
   ]
  },
  {
   "cell_type": "code",
   "execution_count": null,
   "metadata": {},
   "outputs": [],
   "source": [
    "reg.fit(X_train, y_train)\n",
    "train_predict = reg.predict(X_train)\n",
    "test_predict = reg.predict(X_test)"
   ]
  },
  {
   "cell_type": "code",
   "execution_count": null,
   "metadata": {},
   "outputs": [],
   "source": [
    "print(\"Mean squared error: %.2f\"\n",
    "      % mean_squared_error(y_test, test_predict))\n",
    "\n",
    "print(\"Root Mean squared error: %.2f\"\n",
    "      % math.sqrt(mean_squared_error(y_test, test_predict)))\n",
    "\n",
    "print('R2 score: %.2f' % r2_score(y_test, test_predict))"
   ]
  },
  {
   "cell_type": "code",
   "execution_count": null,
   "metadata": {},
   "outputs": [],
   "source": [
    " plt.rcParams['figure.figsize'] = [10, 5]\n",
    "importances = reg.feature_importances_\n",
    "std = np.std([tree.feature_importances_ for tree in reg.estimators_],\n",
    "             axis=0)\n",
    "indices = np.argsort(importances)[::-1]\n",
    "\n",
    "# Print the feature ranking\n",
    "print(\"Feature ranking:\")\n",
    "\n",
    "for f in range(X_train.shape[1]):\n",
    "    print(\"%d. feature %s (%f)\" % (f + 1, X_train.columns[indices[f]], importances[indices[f]]))\n",
    "\n",
    "# Plot the feature importances of the forest\n",
    "plt.figure()\n",
    "plt.title(\"Feature importances\")\n",
    "plt.bar(range(X_train.shape[1]), importances[indices],\n",
    "       color=\"r\", yerr=std[indices], align=\"center\")\n",
    "plt.xticks(range(X_train.shape[1]), X_train.columns[indices],rotation=90)\n",
    "plt.xlim([-1, X_train.shape[1]])\n",
    "plt.show()"
   ]
  },
  {
   "cell_type": "code",
   "execution_count": null,
   "metadata": {},
   "outputs": [],
   "source": [
    "reg2 = RandomForestRegressor(n_estimators=100) \n",
    "\n",
    "visualizer = ResidualsPlot(reg2)\n",
    "visualizer.fit(X_train, y_train)  # Fit the training data to the model\n",
    "visualizer.score(X_test, y_test)  # Evaluate the model on the test data\n",
    "visualizer.poof()                 # Draw/show/poof the data"
   ]
  },
  {
   "cell_type": "code",
   "execution_count": null,
   "metadata": {},
   "outputs": [],
   "source": []
  }
 ],
 "metadata": {
  "kernelspec": {
   "display_name": "Python 3",
   "language": "python",
   "name": "python3"
  },
  "language_info": {
   "codemirror_mode": {
    "name": "ipython",
    "version": 3
   },
   "file_extension": ".py",
   "mimetype": "text/x-python",
   "name": "python",
   "nbconvert_exporter": "python",
   "pygments_lexer": "ipython3",
   "version": "3.7.1"
  }
 },
 "nbformat": 4,
 "nbformat_minor": 2
}
