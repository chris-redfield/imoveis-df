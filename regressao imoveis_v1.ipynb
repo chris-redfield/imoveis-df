{
 "cells": [
  {
   "cell_type": "code",
   "execution_count": 1,
   "metadata": {},
   "outputs": [],
   "source": [
    "import pandas as pd\n",
    "import os\n",
    "import matplotlib.pyplot as plt\n",
    "\n",
    "from sklearn.ensemble import RandomForestRegressor\n",
    "from sklearn.model_selection import train_test_split\n",
    "from sklearn.metrics import mean_squared_error, r2_score, classification_report\n",
    "import math\n",
    "import numpy as np\n",
    "\n",
    "#from yellowbrick.regressor import ResidualsPlot"
   ]
  },
  {
   "cell_type": "markdown",
   "metadata": {},
   "source": [
    "##  Carrega dados"
   ]
  },
  {
   "cell_type": "code",
   "execution_count": 2,
   "metadata": {},
   "outputs": [
    {
     "name": "stdout",
     "output_type": "stream",
     "text": [
      "(49348, 18)\n"
     ]
    },
    {
     "data": {
      "text/html": [
       "<div>\n",
       "<style scoped>\n",
       "    .dataframe tbody tr th:only-of-type {\n",
       "        vertical-align: middle;\n",
       "    }\n",
       "\n",
       "    .dataframe tbody tr th {\n",
       "        vertical-align: top;\n",
       "    }\n",
       "\n",
       "    .dataframe thead th {\n",
       "        text-align: right;\n",
       "    }\n",
       "</style>\n",
       "<table border=\"1\" class=\"dataframe\">\n",
       "  <thead>\n",
       "    <tr style=\"text-align: right;\">\n",
       "      <th></th>\n",
       "      <th>nome</th>\n",
       "      <th>valor_venda</th>\n",
       "      <th>url</th>\n",
       "      <th>condominio</th>\n",
       "      <th>IPTU</th>\n",
       "      <th>lat</th>\n",
       "      <th>long</th>\n",
       "      <th>area_total</th>\n",
       "      <th>area_util</th>\n",
       "      <th>banheiros</th>\n",
       "      <th>vagas</th>\n",
       "      <th>quartos</th>\n",
       "      <th>suites</th>\n",
       "      <th>idade</th>\n",
       "      <th>endereco</th>\n",
       "      <th>bairro</th>\n",
       "      <th>idade_anuncio</th>\n",
       "      <th>tipo</th>\n",
       "    </tr>\n",
       "  </thead>\n",
       "  <tbody>\n",
       "    <tr>\n",
       "      <th>0</th>\n",
       "      <td>Tower duplex  90m2</td>\n",
       "      <td>550000</td>\n",
       "      <td>https://www.wimoveis.com.br/propriedades/tower...</td>\n",
       "      <td>R$ 730</td>\n",
       "      <td>R$ 690</td>\n",
       "      <td>-15.842635250484830</td>\n",
       "      <td>-48.024645807548495</td>\n",
       "      <td>89m²</td>\n",
       "      <td>89m²</td>\n",
       "      <td>3.0</td>\n",
       "      <td>2.0</td>\n",
       "      <td>2.0</td>\n",
       "      <td>2.0</td>\n",
       "      <td>6</td>\n",
       "      <td>Qd 206,  Aguas Sul, Águas Claras</td>\n",
       "      <td>,  Aguas Sul, Águas Claras</td>\n",
       "      <td>52</td>\n",
       "      <td>apartamento</td>\n",
       "    </tr>\n",
       "    <tr>\n",
       "      <th>1</th>\n",
       "      <td>SELECTION 36</td>\n",
       "      <td>2150000</td>\n",
       "      <td>https://www.wimoveis.com.br/propriedades/selec...</td>\n",
       "      <td>NaN</td>\n",
       "      <td>NaN</td>\n",
       "      <td>-15.742129999999999</td>\n",
       "      <td>-47.910919999999997</td>\n",
       "      <td>224m²</td>\n",
       "      <td>224m²</td>\n",
       "      <td>6.0</td>\n",
       "      <td>3.0</td>\n",
       "      <td>4.0</td>\n",
       "      <td>4.0</td>\n",
       "      <td>4</td>\n",
       "      <td>Quadra SQNW 110,  Noroeste, Brasília</td>\n",
       "      <td>,  Noroeste, Brasília</td>\n",
       "      <td>6</td>\n",
       "      <td>apartamento</td>\n",
       "    </tr>\n",
       "    <tr>\n",
       "      <th>2</th>\n",
       "      <td>Elevador + Apartamento de 3 Quartos + Excelent...</td>\n",
       "      <td>420000</td>\n",
       "      <td>https://www.wimoveis.com.br/propriedades/eleva...</td>\n",
       "      <td>NaN</td>\n",
       "      <td>NaN</td>\n",
       "      <td>-15.739203900000000</td>\n",
       "      <td>-47.902473900000020</td>\n",
       "      <td>NaN</td>\n",
       "      <td>65m²</td>\n",
       "      <td>2.0</td>\n",
       "      <td>0.0</td>\n",
       "      <td>3.0</td>\n",
       "      <td>0.0</td>\n",
       "      <td>NaN</td>\n",
       "      <td>SCRN 706/707 BLOCO F - COMPLETO ARMÁRIOS- EXCE...</td>\n",
       "      <td>,  Asa Norte, Brasília</td>\n",
       "      <td>9</td>\n",
       "      <td>apartamento</td>\n",
       "    </tr>\n",
       "    <tr>\n",
       "      <th>3</th>\n",
       "      <td>01, 02 QUARTOS E LOJA COMERCIAL - MEET NOROESTE</td>\n",
       "      <td>332420</td>\n",
       "      <td>https://www.wimoveis.com.br/propriedades/01-02...</td>\n",
       "      <td>NaN</td>\n",
       "      <td>NaN</td>\n",
       "      <td>-15.748856500000000</td>\n",
       "      <td>-47.896520000000010</td>\n",
       "      <td>NaN</td>\n",
       "      <td>NaN</td>\n",
       "      <td>NaN</td>\n",
       "      <td>NaN</td>\n",
       "      <td>NaN</td>\n",
       "      <td>NaN</td>\n",
       "      <td>NaN</td>\n",
       "      <td>NaN</td>\n",
       "      <td>NaN</td>\n",
       "      <td>14</td>\n",
       "      <td>apartamento</td>\n",
       "    </tr>\n",
       "    <tr>\n",
       "      <th>4</th>\n",
       "      <td>Elegance Park Sul de 03 Suítes</td>\n",
       "      <td>1333800</td>\n",
       "      <td>https://www.wimoveis.com.br/propriedades/elega...</td>\n",
       "      <td>NaN</td>\n",
       "      <td>NaN</td>\n",
       "      <td>-15.827143900000000</td>\n",
       "      <td>-47.952883600000010</td>\n",
       "      <td>117m²</td>\n",
       "      <td>117m²</td>\n",
       "      <td>5.0</td>\n",
       "      <td>2.0</td>\n",
       "      <td>3.0</td>\n",
       "      <td>3.0</td>\n",
       "      <td>1</td>\n",
       "      <td>Sgcv 23,  Park Sul, Brasília</td>\n",
       "      <td>,  Park Sul, Brasília</td>\n",
       "      <td>8</td>\n",
       "      <td>apartamento</td>\n",
       "    </tr>\n",
       "  </tbody>\n",
       "</table>\n",
       "</div>"
      ],
      "text/plain": [
       "                                                nome  valor_venda  \\\n",
       "0                                 Tower duplex  90m2       550000   \n",
       "1                                       SELECTION 36      2150000   \n",
       "2  Elevador + Apartamento de 3 Quartos + Excelent...       420000   \n",
       "3    01, 02 QUARTOS E LOJA COMERCIAL - MEET NOROESTE       332420   \n",
       "4                     Elegance Park Sul de 03 Suítes      1333800   \n",
       "\n",
       "                                                 url condominio    IPTU  \\\n",
       "0  https://www.wimoveis.com.br/propriedades/tower...     R$ 730  R$ 690   \n",
       "1  https://www.wimoveis.com.br/propriedades/selec...        NaN     NaN   \n",
       "2  https://www.wimoveis.com.br/propriedades/eleva...        NaN     NaN   \n",
       "3  https://www.wimoveis.com.br/propriedades/01-02...        NaN     NaN   \n",
       "4  https://www.wimoveis.com.br/propriedades/elega...        NaN     NaN   \n",
       "\n",
       "                   lat                 long area_total area_util  banheiros  \\\n",
       "0  -15.842635250484830  -48.024645807548495       89m²      89m²        3.0   \n",
       "1  -15.742129999999999  -47.910919999999997      224m²     224m²        6.0   \n",
       "2  -15.739203900000000  -47.902473900000020        NaN      65m²        2.0   \n",
       "3  -15.748856500000000  -47.896520000000010        NaN       NaN        NaN   \n",
       "4  -15.827143900000000  -47.952883600000010      117m²     117m²        5.0   \n",
       "\n",
       "   vagas  quartos  suites idade  \\\n",
       "0    2.0      2.0     2.0     6   \n",
       "1    3.0      4.0     4.0     4   \n",
       "2    0.0      3.0     0.0   NaN   \n",
       "3    NaN      NaN     NaN   NaN   \n",
       "4    2.0      3.0     3.0     1   \n",
       "\n",
       "                                            endereco  \\\n",
       "0                   Qd 206,  Aguas Sul, Águas Claras   \n",
       "1               Quadra SQNW 110,  Noroeste, Brasília   \n",
       "2  SCRN 706/707 BLOCO F - COMPLETO ARMÁRIOS- EXCE...   \n",
       "3                                                NaN   \n",
       "4                       Sgcv 23,  Park Sul, Brasília   \n",
       "\n",
       "                       bairro idade_anuncio         tipo  \n",
       "0  ,  Aguas Sul, Águas Claras            52  apartamento  \n",
       "1       ,  Noroeste, Brasília             6  apartamento  \n",
       "2      ,  Asa Norte, Brasília             9  apartamento  \n",
       "3                         NaN            14  apartamento  \n",
       "4       ,  Park Sul, Brasília             8  apartamento  "
      ]
     },
     "execution_count": 2,
     "metadata": {},
     "output_type": "execute_result"
    }
   ],
   "source": [
    "df = pd.DataFrame()\n",
    "\n",
    "df_apartamentos = pd.read_csv(\"data/apartamentos_completo.csv\")\n",
    "df_apartamentos['tipo'] = 'apartamento'\n",
    "\n",
    "df_casas = pd.read_csv(\"data/casas_completo.csv\")\n",
    "df_casas['tipo'] = 'casa'\n",
    "\n",
    "df = df_apartamentos.append(df_casas)\n",
    "\n",
    "df = df.drop(['Unnamed: 0'],axis=1)\n",
    "df.reset_index(inplace=True,drop=True)\n",
    "print(df.shape)\n",
    "df.head()"
   ]
  },
  {
   "cell_type": "code",
   "execution_count": 3,
   "metadata": {},
   "outputs": [
    {
     "data": {
      "text/plain": [
       "nome              object\n",
       "valor_venda        int64\n",
       "url               object\n",
       "condominio        object\n",
       "IPTU              object\n",
       "lat               object\n",
       "long              object\n",
       "area_total        object\n",
       "area_util         object\n",
       "banheiros        float64\n",
       "vagas            float64\n",
       "quartos          float64\n",
       "suites           float64\n",
       "idade             object\n",
       "endereco          object\n",
       "bairro            object\n",
       "idade_anuncio     object\n",
       "tipo              object\n",
       "dtype: object"
      ]
     },
     "execution_count": 3,
     "metadata": {},
     "output_type": "execute_result"
    }
   ],
   "source": [
    "df.dtypes"
   ]
  },
  {
   "cell_type": "markdown",
   "metadata": {},
   "source": [
    "### Dropa imoveis que não tem latitude, longitude e área útil"
   ]
  },
  {
   "cell_type": "code",
   "execution_count": 4,
   "metadata": {},
   "outputs": [
    {
     "data": {
      "text/plain": [
       "(39263, 18)"
      ]
     },
     "execution_count": 4,
     "metadata": {},
     "output_type": "execute_result"
    }
   ],
   "source": [
    "df.dropna(subset=['lat', 'long','area_util','bairro'],inplace=True)\n",
    "df.shape"
   ]
  },
  {
   "cell_type": "markdown",
   "metadata": {},
   "source": [
    "### Quantidade de valores nulos por coluna"
   ]
  },
  {
   "cell_type": "code",
   "execution_count": 5,
   "metadata": {},
   "outputs": [
    {
     "data": {
      "text/plain": [
       "<matplotlib.axes._subplots.AxesSubplot at 0x1dfe2954940>"
      ]
     },
     "execution_count": 5,
     "metadata": {},
     "output_type": "execute_result"
    },
    {
     "data": {
      "image/png": "[encoded data removed]",
      "text/plain": [
       "<Figure size 432x288 with 1 Axes>"
      ]
     },
     "metadata": {
      "needs_background": "light"
     },
     "output_type": "display_data"
    }
   ],
   "source": [
    "df.isna().sum().plot.bar()"
   ]
  },
  {
   "cell_type": "code",
   "execution_count": 6,
   "metadata": {},
   "outputs": [
    {
     "data": {
      "text/plain": [
       "nome                 0\n",
       "valor_venda          0\n",
       "url                  0\n",
       "condominio       19863\n",
       "IPTU             27556\n",
       "lat                  0\n",
       "long                 0\n",
       "area_total       11209\n",
       "area_util            0\n",
       "banheiros         1238\n",
       "vagas             2322\n",
       "quartos             36\n",
       "suites            3168\n",
       "idade            14917\n",
       "endereco             0\n",
       "bairro               0\n",
       "idade_anuncio        0\n",
       "tipo                 0\n",
       "dtype: int64"
      ]
     },
     "execution_count": 6,
     "metadata": {},
     "output_type": "execute_result"
    }
   ],
   "source": [
    "df.isna().sum()"
   ]
  },
  {
   "cell_type": "markdown",
   "metadata": {},
   "source": [
    "### Remove outliers do preço de venda"
   ]
  },
  {
   "cell_type": "code",
   "execution_count": 7,
   "metadata": {},
   "outputs": [
    {
     "name": "stdout",
     "output_type": "stream",
     "text": [
      "(39263, 18)\n"
     ]
    },
    {
     "data": {
      "text/plain": [
       "count    3.926300e+04\n",
       "mean     3.094572e+06\n",
       "std      6.842445e+07\n",
       "min      1.440000e+02\n",
       "25%      3.150000e+05\n",
       "50%      6.000000e+05\n",
       "75%      1.148500e+06\n",
       "max      7.790000e+09\n",
       "Name: valor_venda, dtype: float64"
      ]
     },
     "execution_count": 7,
     "metadata": {},
     "output_type": "execute_result"
    }
   ],
   "source": [
    "print(df.shape)\n",
    "df.valor_venda.describe()"
   ]
  },
  {
   "cell_type": "markdown",
   "metadata": {},
   "source": [
    "### 7 bilhões parece muito para um imóvel\n",
    "Vamos remover aqueles que custam a partir de 65 milhões"
   ]
  },
  {
   "cell_type": "code",
   "execution_count": 8,
   "metadata": {},
   "outputs": [
    {
     "name": "stdout",
     "output_type": "stream",
     "text": [
      "(39143, 18)\n"
     ]
    },
    {
     "data": {
      "text/plain": [
       "count    3.914300e+04\n",
       "mean     9.326246e+05\n",
       "std      1.155998e+06\n",
       "min      1.440000e+02\n",
       "25%      3.100000e+05\n",
       "50%      5.990000e+05\n",
       "75%      1.108794e+06\n",
       "max      4.000000e+07\n",
       "Name: valor_venda, dtype: float64"
      ]
     },
     "execution_count": 8,
     "metadata": {},
     "output_type": "execute_result"
    }
   ],
   "source": [
    "df = df.loc[df.valor_venda < 65000000]\n",
    "print(df.shape)\n",
    "df.valor_venda.describe()"
   ]
  },
  {
   "cell_type": "markdown",
   "metadata": {},
   "source": [
    "### Remove outliers da area util"
   ]
  },
  {
   "cell_type": "code",
   "execution_count": 9,
   "metadata": {},
   "outputs": [],
   "source": [
    "df.area_util = df.area_util.str.replace('m²','')\n",
    "df.area_util = pd.to_numeric(df.area_util)"
   ]
  },
  {
   "cell_type": "code",
   "execution_count": 10,
   "metadata": {},
   "outputs": [
    {
     "name": "stdout",
     "output_type": "stream",
     "text": [
      "(39143, 18)\n"
     ]
    },
    {
     "data": {
      "text/plain": [
       "count    3.914300e+04\n",
       "mean     2.376802e+03\n",
       "std      3.647566e+05\n",
       "min      1.000000e+00\n",
       "25%      6.700000e+01\n",
       "50%      1.140000e+02\n",
       "75%      2.280000e+02\n",
       "max      7.163026e+07\n",
       "Name: area_util, dtype: float64"
      ]
     },
     "execution_count": 10,
     "metadata": {},
     "output_type": "execute_result"
    }
   ],
   "source": [
    "print(df.shape)\n",
    "df.area_util.describe()"
   ]
  },
  {
   "cell_type": "markdown",
   "metadata": {},
   "source": [
    "## 70 milhoes de m2  parece muito para um imóvel\n",
    "Vamos remover aqueles que sao maiores que 20 mil m2"
   ]
  },
  {
   "cell_type": "code",
   "execution_count": 11,
   "metadata": {},
   "outputs": [
    {
     "name": "stdout",
     "output_type": "stream",
     "text": [
      "(39122, 18)\n"
     ]
    },
    {
     "data": {
      "text/plain": [
       "count    39122.000000\n",
       "mean       198.949773\n",
       "std        327.003492\n",
       "min          1.000000\n",
       "25%         67.000000\n",
       "50%        114.000000\n",
       "75%        228.000000\n",
       "max      16300.000000\n",
       "Name: area_util, dtype: float64"
      ]
     },
     "execution_count": 11,
     "metadata": {},
     "output_type": "execute_result"
    }
   ],
   "source": [
    "df = df.loc[df.area_util < 20000]\n",
    "print(df.shape)\n",
    "df.area_util.describe()"
   ]
  },
  {
   "cell_type": "markdown",
   "metadata": {},
   "source": [
    "### Checa distribuição dos Bairros"
   ]
  },
  {
   "cell_type": "code",
   "execution_count": 12,
   "metadata": {
    "scrolled": true
   },
   "outputs": [
    {
     "data": {
      "text/plain": [
       "Aguas Sul, Águas Claras                           3497\n",
       "Noroeste, Brasília                                3414\n",
       "Aguas Norte, Águas Claras                         3028\n",
       "Asa Norte, Brasília                               3017\n",
       "Asa Sul, Brasília                                 2412\n",
       "Lago Sul, Brasília                                1654\n",
       "Sudoeste, Brasília                                1538\n",
       "Taguatinga Norte, Taguatinga                      1391\n",
       "Vicente Pires, Vicente Pires                      1335\n",
       "Guara II, Guará                                   1120\n",
       "Setor Habitacional Jardim Botânico, Brasília      1087\n",
       "Lago Norte, Brasília                              1058\n",
       "Park Way, Brasília                                 960\n",
       "Park Sul, Brasília                                 710\n",
       "Taguatinga Sul, Taguatinga                         684\n",
       "Samambaia Sul, Samambaia                           647\n",
       "Areal, Águas Claras                                555\n",
       "Guara I, Guará                                     542\n",
       "Samambaia Norte, Samambaia                         515\n",
       "Setor Marista, Goiânia                             477\n",
       "Ceilandia Norte, Ceilândia                         422\n",
       "Setor Bueno, Goiânia                               396\n",
       "Sobradinho, Sobradinho                             368\n",
       "Grande Colorado, Sobradinho                        354\n",
       "Centro, Brasília                                   348\n",
       "Ceilandia Sul, Ceilândia                           288\n",
       "Região Dos Lagos, Sobradinho                       248\n",
       "Riacho Fundo I, Riacho Fundo                       220\n",
       "Cruzeiro Novo, Cruzeiro                            213\n",
       "Setor Habitacional Contagem, Sobradinho            212\n",
       "                                                  ... \n",
       "Centro, Nova Veneza                                  1\n",
       "Setor Habitacional Por do Sol, Ceilândia             1\n",
       "Residencial Samauma, Planaltina                      1\n",
       "Núcleo Rural Vargem Bonita, Núcleo Bandeirante       1\n",
       "Vila Rosa, Aparecida de Goiânia                      1\n",
       "Vera Cruz, Aparecida de Goiânia                      1\n",
       "Centro, Corumbaíba                                   1\n",
       "Terra Prometida, Aparecida de Goiânia                1\n",
       "Planaltina, Goiás                                    1\n",
       "Setor Tocantins, Aparecida de Goiânia                1\n",
       "Mansões Olinda, Águas Lindas de Goiás                1\n",
       "Zona Rural, Águas Claras                             1\n",
       "Condominio Mestre Darmas, Planaltina                 1\n",
       "Centro, Abadiânia                                    1\n",
       "Bela Vista, Goiânia                                  1\n",
       "Parque Atheneu, Goiânia                              1\n",
       "Comércio Local Sudoeste, Brasília                    1\n",
       "Parque Rio Branco, Valparaíso de Goiás               1\n",
       "Centro, Jardim ABC de Goiás                          1\n",
       "Condomínio Guirra, Planaltina                        1\n",
       "Setor Terminal Sul, Brasília                         1\n",
       "Condomínio barra do Pirapitinga, Caldas Novas        1\n",
       "Vila Santa Helena, Goiânia                           1\n",
       "Parque da Colina I, Formosa                          1\n",
       "Residencial Barravento, Goiânia                      1\n",
       "Parque Flamboyant, Goiânia                           1\n",
       "Sao Sebastiao, Senador Canedo                        1\n",
       "Jardim Progresso, Aparecida de Goiânia               1\n",
       "Residencial Cidade Nova, Novo Gama                   1\n",
       "Jardim Alphaville, Goiânia                           1\n",
       "Name: bairro, Length: 657, dtype: int64"
      ]
     },
     "execution_count": 12,
     "metadata": {},
     "output_type": "execute_result"
    }
   ],
   "source": [
    "df.bairro = df.bairro.str.replace(\",  \",\"\")\n",
    "df.bairro.value_counts()"
   ]
  },
  {
   "cell_type": "code",
   "execution_count": 13,
   "metadata": {},
   "outputs": [
    {
     "data": {
      "text/plain": [
       "Aguas Sul, Águas Claras                                      3497\n",
       "Noroeste, Brasília                                           3414\n",
       "Aguas Norte, Águas Claras                                    3028\n",
       "Asa Norte, Brasília                                          3017\n",
       "Asa Sul, Brasília                                            2412\n",
       "Lago Sul, Brasília                                           1654\n",
       "Sudoeste, Brasília                                           1538\n",
       "Taguatinga Norte, Taguatinga                                 1391\n",
       "Vicente Pires, Vicente Pires                                 1335\n",
       "Guara II, Guará                                              1120\n",
       "Setor Habitacional Jardim Botânico, Brasília                 1087\n",
       "Lago Norte, Brasília                                         1058\n",
       "Park Way, Brasília                                            960\n",
       "Park Sul, Brasília                                            710\n",
       "Taguatinga Sul, Taguatinga                                    684\n",
       "Samambaia Sul, Samambaia                                      647\n",
       "Areal, Águas Claras                                           555\n",
       "Guara I, Guará                                                542\n",
       "Samambaia Norte, Samambaia                                    515\n",
       "Ceilandia Norte, Ceilândia                                    422\n",
       "Sobradinho, Sobradinho                                        368\n",
       "Grande Colorado, Sobradinho                                   354\n",
       "Centro, Brasília                                              348\n",
       "Ceilandia Sul, Ceilândia                                      288\n",
       "Região Dos Lagos, Sobradinho                                  248\n",
       "Riacho Fundo I, Riacho Fundo                                  220\n",
       "Cruzeiro Novo, Cruzeiro                                       213\n",
       "Setor Habitacional Contagem, Sobradinho                       212\n",
       "Alto Da Boa Vista, Sobradinho                                 160\n",
       "Recanto das Emas, Recanto das Emas                            149\n",
       "                                                             ... \n",
       "Vila Romana, Aparecida de Goiânia                               1\n",
       "Sao Francisco, São Sebastião                                    1\n",
       "Vila Maria Luiza, Goiânia                                       1\n",
       "São Caetano, Luziânia                                           1\n",
       "Vila João Vaz, Goiânia                                          1\n",
       "Setor de Garagens e Concessionárias de Veículos, Brasília       1\n",
       "Vera Cruz, Aparecida de Goiânia                                 1\n",
       "Feliz, Goiânia                                                  1\n",
       "Centro, Corumbaíba                                              1\n",
       "Terra Prometida, Aparecida de Goiânia                           1\n",
       "Vila Americano do Brasil, Goiânia                               1\n",
       "Planaltina, Goiás                                               1\n",
       "Setor Tocantins, Aparecida de Goiânia                           1\n",
       "Condomínio Mestre D Armas, Planaltina                           1\n",
       "Mansões Olinda, Águas Lindas de Goiás                           1\n",
       "Centro, Três Ranchos                                            1\n",
       "Setor Residencial Campos Elísios, Aparecida de Goiânia          1\n",
       "Setor Leste, Luziânia                                           1\n",
       "Setor Rio Vermelho, Aparecida de Goiânia                        1\n",
       "Jardim das Laranjeiras I, Águas Lindas de Goiás                 1\n",
       "Residencial Jardim Paraíso, Águas Lindas de Goiás               1\n",
       "Setor Gentil Meireles, Goiânia                                  1\n",
       "Residencial Parque Mendanha, Goiânia                            1\n",
       "Centro, Cavalcante                                              1\n",
       "Jardim Nova Esperança, Goiânia                                  1\n",
       "Mansões Pôr do Sol, Águas Lindas de Goiás                       1\n",
       "Capuava, Goiânia                                                1\n",
       "Vila Rabelo I, Sobradinho                                       1\n",
       "Vila Borges, Rio Verde                                          1\n",
       "Centro, Alexânia                                                1\n",
       "Name: bairro, Length: 651, dtype: int64"
      ]
     },
     "execution_count": 13,
     "metadata": {},
     "output_type": "execute_result"
    }
   ],
   "source": [
    "bairros_goiania = ['Setor Bueno, Goiânia','Setor Marista, Goiânia','Jardim Goiás, Goiânia','Setor Oeste, Goiânia',\n",
    "                  'Parque Amazônia, Goiânia','Jardim América, Goiânia']\n",
    "df = df[~df['bairro'].isin(bairros_goiania)]\n",
    "df.bairro.value_counts()"
   ]
  },
  {
   "cell_type": "code",
   "execution_count": 14,
   "metadata": {},
   "outputs": [
    {
     "data": {
      "text/plain": [
       "<matplotlib.axes._subplots.AxesSubplot at 0x1dfe1c28e10>"
      ]
     },
     "execution_count": 14,
     "metadata": {},
     "output_type": "execute_result"
    },
    {
     "data": {
      "image/png": "[encoded data removed]",
      "text/plain": [
       "<Figure size 432x288 with 1 Axes>"
      ]
     },
     "metadata": {
      "needs_background": "light"
     },
     "output_type": "display_data"
    }
   ],
   "source": [
    "df.bairro.value_counts()[:25].plot.bar()"
   ]
  },
  {
   "cell_type": "markdown",
   "metadata": {},
   "source": [
    "### Remove bairros com menos imóveis (pega so 25 +)"
   ]
  },
  {
   "cell_type": "code",
   "execution_count": 15,
   "metadata": {},
   "outputs": [
    {
     "data": {
      "text/plain": [
       "Riacho Fundo I, Riacho Fundo                                 220\n",
       "Cruzeiro Novo, Cruzeiro                                      213\n",
       "Setor Habitacional Contagem, Sobradinho                      212\n",
       "Alto Da Boa Vista, Sobradinho                                160\n",
       "Recanto das Emas, Recanto das Emas                           149\n",
       "Arniqueiras, Águas Claras                                    132\n",
       "Setor Industrial, Taguatinga                                 116\n",
       "Residencial Alphaville Flamboyant, Goiânia                   108\n",
       "Nucleo Bandeirante, Núcleo Bandeirante                        98\n",
       "Ponte Alta, Gama                                              96\n",
       "Centro, Águas Claras                                          93\n",
       "Taguatinga Centro, Taguatinga                                 79\n",
       "Santa Maria, Santa Maria                                      78\n",
       "Riacho Fundo II, Riacho Fundo                                 75\n",
       "Samambaia, Samambaia                                          74\n",
       "Riacho Fundo, Riacho Fundo                                    74\n",
       "Alphaville Flamboyant Residencial Araguaia, Goiânia           74\n",
       "Colônia Agrícola Samambaia, Vicente Pires                     73\n",
       "Setor Habitacional Vicente Pires, Taguatinga                  70\n",
       "Taquari, Brasília                                             69\n",
       "Jardins Valência, Goiânia                                     66\n",
       "Cruzeiro Velho, Cruzeiro                                      66\n",
       "Setor Leste, Gama                                             66\n",
       "Quadras Economicas Lucio Costa, Guará                         65\n",
       "Setor De Clubes Esportivos Norte, Brasília                    64\n",
       "Residencial Santos Dumont, Santa Maria                        60\n",
       "Octogonal, Brasília                                           57\n",
       "Setor Central, Gama                                           56\n",
       "Setor De Mansões De Sobradinho, Sobradinho                    54\n",
       "Candangolandia, Candangolândia                                52\n",
       "                                                            ... \n",
       "Vila Romana, Aparecida de Goiânia                              1\n",
       "Sao Francisco, São Sebastião                                   1\n",
       "Vila Maria Luiza, Goiânia                                      1\n",
       "São Caetano, Luziânia                                          1\n",
       "Vila João Vaz, Goiânia                                         1\n",
       "Setor de Garagens e Concessionárias de Veículos, Brasília      1\n",
       "Vera Cruz, Aparecida de Goiânia                                1\n",
       "Feliz, Goiânia                                                 1\n",
       "Centro, Corumbaíba                                             1\n",
       "Terra Prometida, Aparecida de Goiânia                          1\n",
       "Vila Americano do Brasil, Goiânia                              1\n",
       "Planaltina, Goiás                                              1\n",
       "Setor Tocantins, Aparecida de Goiânia                          1\n",
       "Condomínio Mestre D Armas, Planaltina                          1\n",
       "Mansões Olinda, Águas Lindas de Goiás                          1\n",
       "Centro, Três Ranchos                                           1\n",
       "Setor Residencial Campos Elísios, Aparecida de Goiânia         1\n",
       "Setor Leste, Luziânia                                          1\n",
       "Setor Rio Vermelho, Aparecida de Goiânia                       1\n",
       "Jardim das Laranjeiras I, Águas Lindas de Goiás                1\n",
       "Residencial Jardim Paraíso, Águas Lindas de Goiás              1\n",
       "Setor Gentil Meireles, Goiânia                                 1\n",
       "Residencial Parque Mendanha, Goiânia                           1\n",
       "Centro, Cavalcante                                             1\n",
       "Jardim Nova Esperança, Goiânia                                 1\n",
       "Mansões Pôr do Sol, Águas Lindas de Goiás                      1\n",
       "Capuava, Goiânia                                               1\n",
       "Vila Rabelo I, Sobradinho                                      1\n",
       "Vila Borges, Rio Verde                                         1\n",
       "Centro, Alexânia                                               1\n",
       "Name: bairro, Length: 626, dtype: int64"
      ]
     },
     "execution_count": 15,
     "metadata": {},
     "output_type": "execute_result"
    }
   ],
   "source": [
    "df.bairro.value_counts()[25:]"
   ]
  },
  {
   "cell_type": "code",
   "execution_count": 16,
   "metadata": {},
   "outputs": [
    {
     "data": {
      "text/plain": [
       "array(['Riacho Fundo I, Riacho Fundo', 'Cruzeiro Novo, Cruzeiro',\n",
       "       'Setor Habitacional Contagem, Sobradinho',\n",
       "       'Alto Da Boa Vista, Sobradinho',\n",
       "       'Recanto das Emas, Recanto das Emas', 'Arniqueiras, Águas Claras',\n",
       "       'Setor Industrial, Taguatinga',\n",
       "       'Residencial Alphaville Flamboyant, Goiânia',\n",
       "       'Nucleo Bandeirante, Núcleo Bandeirante', 'Ponte Alta, Gama',\n",
       "       'Centro, Águas Claras', 'Taguatinga Centro, Taguatinga',\n",
       "       'Santa Maria, Santa Maria', 'Riacho Fundo II, Riacho Fundo',\n",
       "       'Samambaia, Samambaia', 'Riacho Fundo, Riacho Fundo',\n",
       "       'Alphaville Flamboyant Residencial Araguaia, Goiânia',\n",
       "       'Colônia Agrícola Samambaia, Vicente Pires',\n",
       "       'Setor Habitacional Vicente Pires, Taguatinga',\n",
       "       'Taquari, Brasília', 'Jardins Valência, Goiânia',\n",
       "       'Cruzeiro Velho, Cruzeiro', 'Setor Leste, Gama',\n",
       "       'Quadras Economicas Lucio Costa, Guará',\n",
       "       'Setor De Clubes Esportivos Norte, Brasília',\n",
       "       'Residencial Santos Dumont, Santa Maria', 'Octogonal, Brasília',\n",
       "       'Setor Central, Gama',\n",
       "       'Setor De Mansões De Sobradinho, Sobradinho',\n",
       "       'Candangolandia, Candangolândia', 'Centro, Taguatinga',\n",
       "       'Setor Oeste, Gama', 'Centro, Vicente Pires', 'Paranoa, Paranoá',\n",
       "       'Jardim Atlântico, Goiânia',\n",
       "       'Setor Habitacional Tororó, Santa Maria', 'Setor Sul, Gama',\n",
       "       'Mansões Aguas Quentes, Caldas Novas',\n",
       "       'Águas Claras, Distrito Federal', 'QE Lucio Costa, Guará',\n",
       "       'Setor Industrial, Gama', 'Jardins Verona, Goiânia',\n",
       "       'Setor Pedro Ludovico, Goiânia', 'Setor Nova Suiça, Goiânia',\n",
       "       'Setor Bela Vista, Goiânia', 'Centro, Caldas Novas',\n",
       "       'Residencial Aldeia do Vale, Goiânia',\n",
       "       'Parque Esplanada III, Valparaíso de Goiás',\n",
       "       'Jardins Mangueiral, São Sebastião',\n",
       "       'Setor Habitacional Tororo, Brasília', 'Setor Central, Goiânia',\n",
       "       'Setor Leste Universitário, Goiânia',\n",
       "       'Loteamento Portal do Sol II, Goiânia', 'Jardins Milão, Goiânia',\n",
       "       'Setor Habitacional Jardins Mangueiral, Brasília',\n",
       "       'Nova Colina, Sobradinho', 'Jardins Madri, Goiânia',\n",
       "       'Setor Oeste, Sobradinho', 'Setor Central, Caldas Novas',\n",
       "       'Alto da Glória, Goiânia', 'Turista I, Caldas Novas',\n",
       "       'Condomínio Império dos Nobres, Sobradinho',\n",
       "       'Jardins Lisboa, Goiânia', 'Jardins Paris, Goiânia',\n",
       "       'Zona Industrial, Guará', 'Setor Total Ville, Santa Maria',\n",
       "       'Loteamento Portal do Sol I, Goiânia',\n",
       "       'Cardoso Continuação, Aparecida de Goiânia',\n",
       "       'Setor de Hotéis e Turismo Norte, Brasília',\n",
       "       'Jardins Munique, Goiânia', 'Setor Sudoeste, Goiânia',\n",
       "       'Ceilandia Centro, Ceilândia', 'Vila Planalto, Brasília',\n",
       "       'Parque Esplanada II, Valparaíso de Goiás',\n",
       "       'Centro, Cidade Ocidental', 'Setor Sul, Goiânia',\n",
       "       'Setor Faiçalville, Goiânia', 'Superquadra Noroeste, Brasília',\n",
       "       'Residencial Granville, Goiânia', 'Centro, Senador Canedo',\n",
       "       'Area Especial, Guará', 'Residencial Eldorado, Goiânia',\n",
       "       'Setor Aeroporto, Goiânia', 'Vila Rosa, Goiânia',\n",
       "       'Residencial Itaipu, Goiânia', 'Setor Negrão de Lima, Goiânia',\n",
       "       'Centro, Trindade', 'Park Lozandes, Goiânia',\n",
       "       'Sia, Setor Industrial', 'Moinho dos Ventos, Goiânia',\n",
       "       'Jardim Florença, Goiânia', 'Setor de Mansões Dom Bosco, Brasília',\n",
       "       'Centro, Guará', 'Sobradinho Ii, Sobradinho',\n",
       "       'Vila Brasília, Aparecida de Goiânia',\n",
       "       'Superquadra Sudoeste, Brasília', 'Setor Norte, Gama',\n",
       "       'Parque Esplanada I, Valparaíso de Goiás',\n",
       "       'Sítios Santa Luzia, Aparecida de Goiânia',\n",
       "       'Setor Aeroporto Sul, Aparecida de Goiânia',\n",
       "       'Granja Do Torto, Brasília', 'Centro, Aparecida de Goiânia',\n",
       "       'Serrinha, Goiânia', 'Alphaville Residencial, Goiânia',\n",
       "       'Setor Tradicional, Planaltina',\n",
       "       'Área de Desenvolvimento Econômico, Águas Claras',\n",
       "       'Parque das Cachoeiras, Valparaíso de Goiás',\n",
       "       'Residencial Goiânia Golfe Clube, Goiânia', 'Gama, Gama',\n",
       "       'Jardim Bougainville, Senador Canedo',\n",
       "       'Setor de Chácaras Anhangüera B, Valparaíso de Goiás',\n",
       "       'Centro, Recanto das Emas', 'SQB - Super Quadra Brasilia, Guará',\n",
       "       'Bandeirante, Caldas Novas', 'Setor Residencial Leste, Planaltina',\n",
       "       'Condomínio Vivendas Chácaras Ypiranga, Valparaíso de Goiás',\n",
       "       'Centro, Sobradinho', 'Centro, Valparaíso de Goiás',\n",
       "       'Vila dos Alpes, Goiânia', 'Jardim Balneário Meia Ponte, Goiânia',\n",
       "       'Centro, Goiânia', 'Setor Hoteleiro Norte, Brasília',\n",
       "       'Setor Coimbra, Goiânia', 'Setor Residencial Oeste, São Sebastião',\n",
       "       'Jardim Buriti Sereno, Aparecida de Goiânia',\n",
       "       'Valparaiso II, Valparaíso de Goiás', 'Setor Jaó, Goiânia',\n",
       "       'Metropolitana, Núcleo Bandeirante', 'Jardim do Ingá, Luziânia',\n",
       "       'Parque das Nações, Aparecida de Goiânia',\n",
       "       'Setor Habitacional Sol Nascente, Ceilândia',\n",
       "       'Cidade Vera Cruz, Aparecida de Goiânia',\n",
       "       'Setor Meireles, Santa Maria', 'Jardim Europa, Goiânia',\n",
       "       'Caldas do Oeste, Caldas Novas', 'Itanhanga I, Caldas Novas',\n",
       "       'Area Especial, Taguatinga', 'Cidade Jardins, Valparaíso de Goiás',\n",
       "       'Setor Goiânia 2, Goiânia', 'Vila Jardim Vitória, Goiânia',\n",
       "       'Jardim Céu Azul, Valparaíso de Goiás', 'Jardim Mariliza, Goiânia',\n",
       "       'Centro de Atividades, Brasília', 'Setor Leste, Vila Estrutural',\n",
       "       'Del Lago Ii, Paranoá', 'Setor De Clubes Esportivos Sul, Brasília',\n",
       "       'Setor de Chácaras Anhangüera C, Valparaíso de Goiás',\n",
       "       'Valparaiso I - Etapa B, Valparaíso de Goiás',\n",
       "       'Quinta dos Ipês, São Sebastião', 'Condomínio do Lago, Goiânia',\n",
       "       'Residencial Vereda dos Buritis, Goiânia',\n",
       "       'Vila São João, Senador Canedo',\n",
       "       'Setor de Habitações Individuais Norte, Brasília', 'Centro, Gama',\n",
       "       'Jardim Maria Inez, Aparecida de Goiânia', 'Anhangüera, Goiânia',\n",
       "       'Parque das Laranjeiras, Goiânia', 'Caminho do Lago, Caldas Novas',\n",
       "       'Jardim Imperial, Aparecida de Goiânia',\n",
       "       'Vila Metropolitana, Núcleo Bandeirante',\n",
       "       'Núcleo Rural Lago Oeste, Sobradinho', 'Jardins Atenas, Goiânia',\n",
       "       'Setor Habitacional Arniqueiras, Taguatinga',\n",
       "       'Olegário Pinto, Caldas Novas',\n",
       "       'Setor de Chácaras Anhangüera A, Valparaíso de Goiás',\n",
       "       'Parque das Flores, Goiânia', 'Formosinha, Formosa',\n",
       "       'Jardins Viena, Aparecida de Goiânia',\n",
       "       'Valparaiso I - Etapa A, Valparaíso de Goiás', 'Bueno, Goiânia',\n",
       "       'Setor Marista Sul, Aparecida de Goiânia',\n",
       "       'Senador Canedo, Senador Canedo', 'Setor Industrial, Guará',\n",
       "       'Planaltina, Planaltina', 'Vila Maria José, Goiânia',\n",
       "       'Centro, Samambaia', 'Jardim Dom Bosco, Aparecida de Goiânia',\n",
       "       'Parque Esplanada V, Valparaíso de Goiás',\n",
       "       'Parque Itatiaia, Aparecida de Goiânia', 'Centro, Candangolândia',\n",
       "       'Condomínio Comercial e Residencial Sobradinho, Sobradinho',\n",
       "       'Setor Maysa, Trindade', 'Ipiranga, Valparaíso de Goiás',\n",
       "       'Itapoa Ii, Paranoá', 'Vila Novo Horizonte, Goiânia',\n",
       "       'Jardim São José, Goiânia',\n",
       "       'Parque Veiga Jardim, Aparecida de Goiânia', 'Centro, Ceilândia',\n",
       "       'Santa Genoveva, Goiânia', 'Centro, Luziânia',\n",
       "       'Serra Azul, Sobradinho',\n",
       "       'Condomínio Residencial Santa Mônica, Santa Maria',\n",
       "       'Jardim Tropical, Aparecida de Goiânia',\n",
       "       'Residencial Center Ville, Goiânia', 'Arapoanga, Planaltina',\n",
       "       'Morada Nobre, Valparaíso de Goiás', 'Esplanada, Rio Quente',\n",
       "       'Jardins Mônaco, Aparecida de Goiânia',\n",
       "       'Caldas Novas, Caldas Novas',\n",
       "       'Valparaiso I - Etapa E, Valparaíso de Goiás',\n",
       "       'Parque Montreal, Aparecida de Goiânia',\n",
       "       'Residencial Kátia, Goiânia', 'Parque Anhangüera, Goiânia',\n",
       "       'Setor dos Afonsos, Aparecida de Goiânia', 'Centro, Pirenópolis',\n",
       "       'Setor Três Marias, Goiânia', 'Setores Complementares, Brasília',\n",
       "       'Parque São Bernardo, Valparaíso de Goiás',\n",
       "       'Chácaras Alto da Glória, Goiânia',\n",
       "       'Setor Leste Vila Nova, Goiânia', 'Superquadra Norte, Brasília',\n",
       "       'Itaguai I, Caldas Novas', 'Setor Morada do Sol, Goiânia',\n",
       "       'Jardim Belvedere, Caldas Novas', 'Brazlandia, Brazlandia',\n",
       "       'Vila Itatiaia, Goiânia', 'Setor Residencial Oeste, Planaltina',\n",
       "       'Cidade Satélite São Luiz, Aparecida de Goiânia',\n",
       "       'Residencial Santa Fé I, Goiânia', 'Vila São José, Vicente Pires',\n",
       "       'Itapoa I, Paranoá', 'Jardim Helvécia, Aparecida de Goiânia',\n",
       "       'Cidade Jardim, Goiânia',\n",
       "       'Residencial Solar Bougainville, Goiânia',\n",
       "       'Jardim Serrano, Caldas Novas', 'Vale Do Amanhecer, Planaltina',\n",
       "       'Centro, Alto Paraíso de Goiás', 'Residencial Ana Clara, Goiânia',\n",
       "       'Setor Santos Dumont, Goiânia',\n",
       "       'Recanto dos Emboabas, Aparecida de Goiânia',\n",
       "       'Cidade Ocidental, Cidade Ocidental', 'Turista II, Caldas Novas',\n",
       "       'Fazenda Vau das Pombas, Goiânia',\n",
       "       'Parque Oeste Industrial, Goiânia',\n",
       "       'Setor Habitacional Meireles, Santa Maria',\n",
       "       'Vila Maria, Aparecida de Goiânia', 'Vila Sao Jose, São Sebastião',\n",
       "       'Residencial Hugo de Moraes, Goiânia',\n",
       "       'Residencial Campos Dourados, Goiânia',\n",
       "       'Parque Haiala, Aparecida de Goiânia',\n",
       "       'Aguas Lindas de Goias, Águas Lindas de Goiás',\n",
       "       'Setor De Industrias, Brasília', 'Varjao, Varjao',\n",
       "       'Vila São João, Goiânia',\n",
       "       'Santo Antonio do Descoberto, Santo Antônio do Descoberto',\n",
       "       'Mansões do Lago, Brasília',\n",
       "       'Setor de Habitações Individuais Sul, Brasília',\n",
       "       'Vila Estrutural, Guará', 'Setor Criméia Leste, Goiânia',\n",
       "       'Parque Ibirapuera, Aparecida de Goiânia',\n",
       "       'Chácaras São Pedro, Aparecida de Goiânia',\n",
       "       'Chácaras Anhangüera, Valparaíso de Goiás',\n",
       "       'Chacara Sao Pedro, Aparecida de Goiânia', 'Setor Sul, Planaltina',\n",
       "       'Jardim Alto Paraíso, Aparecida de Goiânia',\n",
       "       'Residencial Della Penna, Goiânia',\n",
       "       'Condomínio Amin Camargo, Goiânia', 'Centro, Santa Maria',\n",
       "       'Valparaiso I - Etapa C, Valparaíso de Goiás',\n",
       "       'Papillon Park, Aparecida de Goiânia',\n",
       "       'Ilda, Aparecida de Goiânia', 'Jardim Ipanema, Goiânia',\n",
       "       'Jardim Itaipu, Goiânia', 'Centro, Rio Verde',\n",
       "       'Centro, Santo Antônio do Descoberto',\n",
       "       'Parque Trindade, Aparecida de Goiânia',\n",
       "       'Jardim Novo Mundo, Goiânia', 'Setor Central, Hidrolândia',\n",
       "       'Estancias Vila Rica, Sobradinho', 'Pirenopolis, Pirenópolis',\n",
       "       'Itapua, Aparecida de Goiânia', 'Setor Sul, Formosa',\n",
       "       'Setor Placa da Mercedes, Núcleo Bandeirante',\n",
       "       'Residencial Village Santa Rita IV, Goiânia',\n",
       "       'Vila Vicentina, Planaltina', 'Vila Bela, Goiânia',\n",
       "       'Parque Marajó, Valparaíso de Goiás',\n",
       "       'Jardim Jeriquara, Caldas Novas', 'Setor Castelo Branco, Goiânia',\n",
       "       'Sítio de Recreio Ipê, Goiânia',\n",
       "       'Condomínio Mansões Sobradinho, Sobradinho',\n",
       "       'Conjunto Riviera, Goiânia', 'Alphaville, Brasília',\n",
       "       'Superquadra Sul, Brasília', 'Nova Suica, Goiânia',\n",
       "       'Setor Garavelo, Aparecida de Goiânia', 'Fazendinha, Paranoá',\n",
       "       'Setor Serra Dourada, Aparecida de Goiânia',\n",
       "       'Setor Central, Senador Canedo',\n",
       "       'Comércio Local Noroeste, Brasília',\n",
       "       'Parque São Jorge, Aparecida de Goiânia',\n",
       "       'Setor Santo André, Aparecida de Goiânia', 'Centro, Uruaçu',\n",
       "       'Setor Norte, Planaltina de Goiás',\n",
       "       'Jardim Florença, Aparecida de Goiânia',\n",
       "       'Jardim das Esmeraldas, Goiânia', 'Centro, Niquelândia',\n",
       "       'Setor Primavera, Formosa', 'Jardim Vila Boa, Goiânia',\n",
       "       'Residencial Canadá, Goiânia', 'Nova Olinda, Aparecida de Goiânia',\n",
       "       'Jardim Helvécia Complemento, Aparecida de Goiânia',\n",
       "       'Itaici I, Caldas Novas', 'Residencial Brisas da Mata, Goiânia',\n",
       "       'Centro, São Sebastião', 'Jundiaí, Anápolis',\n",
       "       'Residencial Aquários, Goiânia', 'Setor Central, Vila Estrutural',\n",
       "       'Valparaiso I - Etapa D, Valparaíso de Goiás',\n",
       "       'Vila Jaraguá, Goiânia',\n",
       "       'Jardim Boa Esperança, Aparecida de Goiânia',\n",
       "       'Expansul, Aparecida de Goiânia', 'Itaguai II, Caldas Novas',\n",
       "       'Residencial Sonho Verde, Goiânia', 'Conjunto Vera Cruz, Goiânia',\n",
       "       'Jardim Abc, Cidade Ocidental', 'Vila Lucy, Goiânia',\n",
       "       'Parque das Paineiras (1,2,3 e 4 Etapa), Goiânia',\n",
       "       'Centro, Riacho Fundo', 'Parque Estrela Dalva IX, Luziânia',\n",
       "       'Setor de Mansões Lago Norte, Brasília',\n",
       "       'Núcleo Habitacional Novo Gama, Novo Gama',\n",
       "       'Residencial Recanto do Bosque, Goiânia',\n",
       "       'Vale das Brisas, Senador Canedo', 'Setor Grajaú, Goiânia',\n",
       "       'Jardim Petrópolis, Goiânia', 'Jardim Planalto, Goiânia',\n",
       "       'Setor Hoteleiro Sul, Brasília',\n",
       "       'Residencial Bica do Der Gleba B, Planaltina',\n",
       "       'Jardim Ipanema, Valparaíso de Goiás', 'Centro, Formosa',\n",
       "       'Aldeia do Vale, Goiânia',\n",
       "       'Setor de Múltiplas Atividades Sul, Brasília',\n",
       "       'Setor Central, Goianira', 'Solange Park I, Goiânia',\n",
       "       'Jardim Riviera, Aparecida de Goiânia',\n",
       "       'Setor Cândida de Morais, Goiânia',\n",
       "       'Jardim da Barragem IV, Águas Lindas de Goiás',\n",
       "       'Jardim Jóckei Clube, Luziânia',\n",
       "       'Jardim Bela Vista, Aparecida de Goiânia',\n",
       "       'Setor Central, Ipameri', 'Parque Lago, Formosa',\n",
       "       'Setor Garavelo B, Goiânia', 'Vila Nova, São Sebastião',\n",
       "       'Vila Redenção, Goiânia', 'Vila Jardim São Judas Tadeu, Goiânia',\n",
       "       'Jardim Roriz, Planaltina', 'Ponte Alta de Cima, Brasília',\n",
       "       'Novo, Cruzeiro', 'Condomínio Vale dos Pinheiros, Sobradinho',\n",
       "       'Alexania, Alexânia',\n",
       "       'Jardim Nova Era Acréscimo, Aparecida de Goiânia',\n",
       "       'Jardim dos Girassóis, Aparecida de Goiânia',\n",
       "       'Parque da Barragem Setor 08, Águas Lindas de Goiás',\n",
       "       'Residencial Rio Verde, Goiânia',\n",
       "       'Garavelo Residencial Park, Aparecida de Goiânia',\n",
       "       'Vila Monticelli, Goiânia', 'Vila Megale, Goiânia',\n",
       "       'Centro, Paranaiguara', 'Parque Napolis A, Cidade Ocidental',\n",
       "       'Zona Civico-administrativa, Brasília',\n",
       "       'Jardim Olímpico, Aparecida de Goiânia', 'Setor Norte, Brazlandia',\n",
       "       'Parque Industrial de Goiânia, Goiânia',\n",
       "       'Estancia Mestre D Armas, Planaltina', 'Setor Bosque, Formosa',\n",
       "       'Parque Trindade III, Aparecida de Goiânia',\n",
       "       'Parque Estrela Dalva III, Luziânia',\n",
       "       'Fazenda São Domingos, Goiânia', 'Turista, Caldas Novas',\n",
       "       'Zona Rural, Brasília', 'Flamboyant, Quirinópolis',\n",
       "       'Nova Vila, Caldas Novas', 'Centro, Santo Antônio de Goiás',\n",
       "       'Village Veneza, Goiânia', 'Setor Sudoeste, Cruzeiro',\n",
       "       'Setor São José, Goiânia', 'Jardim Gardênia, Goiânia',\n",
       "       'Independência, Aparecida de Goiânia', 'Itaici II, Caldas Novas',\n",
       "       'Jardim Tiradentes, Aparecida de Goiânia',\n",
       "       'Santa Rita, Planaltina de Goiás', 'Setor Universitario, Goiânia',\n",
       "       'Residencial Alvaluz, Aparecida de Goiânia',\n",
       "       'Setor dos Funcionários, Goiânia',\n",
       "       'Centro Comercial Noroeste, Brasília',\n",
       "       'Parque Estrela Dalva IV, Luziânia',\n",
       "       'Setor Araguaia, Aparecida de Goiânia',\n",
       "       'Vila Santos Dumont, Aparecida de Goiânia',\n",
       "       'Setor Morada dos Pássaros, Aparecida de Goiânia',\n",
       "       'Residencial Alice Barbosa, Goiânia', 'Zona Rural, Vicente Pires',\n",
       "       'Parque Vila Verde, Formosa', 'Vale Das Acacias, Sobradinho',\n",
       "       'Cardoso, Aparecida de Goiânia',\n",
       "       'Zona Rural, Alto Paraíso de Goiás',\n",
       "       'Resid. Morro Da Cruz, São Sebastião',\n",
       "       'Setor Universitário, Rio Verde', 'Zona Rural, Samambaia',\n",
       "       'Setor Estrela Dalva, Goiânia', 'Itaguai III, Caldas Novas',\n",
       "       'V. Sao Jose, Brazlandia', 'Setor Barra da Tijuca, Goiânia',\n",
       "       'Condomínio Residencial Parque Oeste, Goiânia',\n",
       "       'Jardim América IV, Águas Lindas de Goiás',\n",
       "       'Vila São Luiz, Goiânia',\n",
       "       'Novo Jardim Oriente, Valparaíso de Goiás',\n",
       "       'Jardim Paquetá I, Planaltina de Goiás',\n",
       "       'Quadra Mista Noroeste, Brasília',\n",
       "       'Condominio Prive Lucena Roriz, Ceilândia', 'Vila Regina, Goiânia',\n",
       "       'V. Nova, São Sebastião', 'V. Sao Jose, São Sebastião',\n",
       "       'Pacaembu, Valparaíso de Goiás', 'Vila Osvaldo Rosa, Goiânia',\n",
       "       'São Bartolomeu, São Sebastião',\n",
       "       'Engenheiro Jofre Parada, Luziânia', 'Zona Rural, Guará',\n",
       "       'Parque Estrela Dalva VI (Pedregal), Novo Gama',\n",
       "       'Jardim Flamboyant, Luziânia', 'Jardim das Rosas, Goiânia',\n",
       "       'Residencial Recreio Panorama, Goiânia',\n",
       "       'Setor Economico De Sobradinho, Sobradinho',\n",
       "       'Retiro do Bosque, Aparecida de Goiânia',\n",
       "       'Setor De Industria Graficas, Brasília',\n",
       "       'Jardim Esplanada, Aparecida de Goiânia', 'Itapua, Paranoá',\n",
       "       'Zona Rural, Sobradinho',\n",
       "       'Alto Paraiso de Goias, Alto Paraíso de Goiás',\n",
       "       'Residencial Itaipu, São Sebastião', 'Centro, Planaltina',\n",
       "       'Residencial Goiânia Viva, Goiânia', 'Maracanã, Anápolis',\n",
       "       'Setor Parque Tremendão, Goiânia',\n",
       "       'Residencial São Francisco II, Planaltina',\n",
       "       'Setor De Desenvolvimento Economico, Taguatinga',\n",
       "       'Jardim dos Turistas, Caldas Novas',\n",
       "       'Jardim Bonança, Aparecida de Goiânia',\n",
       "       'Jardim Bela Vista, Goiânia', 'Setor Tradicional, São Sebastião',\n",
       "       'Setor Residencial Mestre Darmas, Planaltina',\n",
       "       'Zona Rural, Hidrolândia', 'Estancia Mestre D Armas V, Planaltina',\n",
       "       'Jardim Esmeraldas, Aparecida de Goiânia',\n",
       "       'Independência das Mansões, Aparecida de Goiânia',\n",
       "       'Centro Comercial Sudoeste, Brasília',\n",
       "       'Alphavile Paiva, Novo Gama', 'Ponta Caiana, Trindade',\n",
       "       'Parque Santa Cecília, Aparecida de Goiânia',\n",
       "       'Residencial Veneza, Rio Verde', 'Setor Central, Caldazinha',\n",
       "       'Del Lago I, Paranoá', 'Santos Dumont, Goiânia',\n",
       "       'Vila Carolina, Rio Verde',\n",
       "       'Internacional Park, Aparecida de Goiânia',\n",
       "       'São Francisco, Goiânia', 'Sao Francisco, Senador Canedo',\n",
       "       'Residencial Eldorado Expansão, Goiânia', 'Zona Rural, Luziânia',\n",
       "       'Jardim Santo Antônio, Aparecida de Goiânia',\n",
       "       'Setor Santa Luzia, Aparecida de Goiânia',\n",
       "       'Fazenda Gameleira, Goiânia', 'Setor Central, Anápolis',\n",
       "       'Jardim Gramado, Goiânia', 'Jardim Nova Era, Aparecida de Goiânia',\n",
       "       'Setor Central, Turvânia',\n",
       "       'Parque Santa Rita de Cássia, Valparaíso de Goiás',\n",
       "       'Residencial Vitória, São Sebastião',\n",
       "       'Vila Da Telebrasilia, Brasília', 'Zona Rural, Taguatinga',\n",
       "       'Jardim Diamantina, Goiânia', 'Jardim Luz, Aparecida de Goiânia',\n",
       "       'Portal Águas Quentes, Caldas Novas',\n",
       "       'Setor dos Bandeirantes, Aparecida de Goiânia',\n",
       "       'Zona Rural, Paranoá', 'Trindade, Trindade',\n",
       "       'Setor de Grandes Áreas Norte, Brasília',\n",
       "       'Parque Santa Rita, Goiânia',\n",
       "       'Chácara Bela Vista, Aparecida de Goiânia',\n",
       "       'Corumba de Goias, Corumbá de Goiás',\n",
       "       'Aldeia do Lago, Caldas Novas', 'Centro, Goianira',\n",
       "       'Setor Urias Magalhães, Goiânia',\n",
       "       'Vila Estrutural, Distrito Federal',\n",
       "       'Bairro Alvorada, Senador Canedo', 'Condomínio Eldorado, Goiânia',\n",
       "       'American Parque, Aparecida de Goiânia',\n",
       "       'Setor Especial, Vila Estrutural',\n",
       "       'Conjunto Residencial Aruanã I, Goiânia',\n",
       "       'Estancia Mestre D Armas I, Planaltina', 'Centro, Paranoá',\n",
       "       'Jardim Paraíso, Caldas Novas', 'Jardim Clarissa, Goiânia',\n",
       "       'Mansões de Recreio Estrela Dalva VIII, Luziânia',\n",
       "       'Sitio Do Gama, Santa Maria', 'Jardim Mirabel, Goiânia',\n",
       "       'Rosa dos Ventos, Aparecida de Goiânia', 'Neropolis, Nerópolis',\n",
       "       'Centro, Anápolis', 'Jardim Califórnia, Goiânia',\n",
       "       'Parque da Barragem Setor 03, Águas Lindas de Goiás',\n",
       "       'Jardim Belo Horizonte, Aparecida de Goiânia',\n",
       "       'Residencial Alice Barbosa Extensão, Goiânia',\n",
       "       'Zona Rural, Alexânia', 'Setor Oeste, Planaltina de Goiás',\n",
       "       'Chácaras Maringá, Goiânia', 'Parque Alvorada I, Luziânia',\n",
       "       'Sion, Luziânia', 'Setor Santa Rita, Goiânia',\n",
       "       'Jardim Triângulo, Formosa', 'Residencial Santa Fé, Goiânia',\n",
       "       'Jardim Guanabara II, Goiânia',\n",
       "       'Jardim Guaíra I, Águas Lindas de Goiás',\n",
       "       'Parque das Flores, Valparaíso de Goiás',\n",
       "       'Quadra Mista Sudoeste, Brasília', 'Bela Vista, Goiânia',\n",
       "       'Oeste, Goiânia', 'Setor Comendador Walmor, Aparecida de Goiânia',\n",
       "       'Residencial Orlando Morais, Goiânia', 'Centro, Abadiânia',\n",
       "       'Condominio Mestre Darmas, Planaltina',\n",
       "       'Jardim Presidente, Rio Verde',\n",
       "       'Residencial Licardino Ney, Goiânia',\n",
       "       'Setor de Armazenagem e Abastecimento Norte, Brasília',\n",
       "       'Zona Rural, Ceilândia',\n",
       "       'Setor Habitacional Por do Sol, Ceilândia',\n",
       "       'Residencial São Marcos, Goiânia', 'Zona Rural, Águas Claras',\n",
       "       'Jardim das Aroeiras, Goiânia', 'Conjunto Primavera, Goiânia',\n",
       "       'Setor Norte Maravilha, Luziânia',\n",
       "       'Parque Industrial João Braz, Goiânia',\n",
       "       'Jardim Mont Serrat, Aparecida de Goiânia',\n",
       "       'Zona Rural, Caldas Novas', 'Setor Alto do Vale, Goiânia',\n",
       "       'Parque Flamboyant, Goiânia', 'Morro Azul, São Sebastião',\n",
       "       'Estancia Planaltina, Planaltina', 'Centro, Nova Veneza',\n",
       "       'Residencial Samauma, Planaltina',\n",
       "       'Núcleo Rural Vargem Bonita, Núcleo Bandeirante',\n",
       "       'Vila Rosa, Aparecida de Goiânia', 'Vila Fróes, Goiânia',\n",
       "       'Conjunto Cruzeiro do Sul, Aparecida de Goiânia',\n",
       "       'Mansoes Itiquira, Planaltina', 'Itanhangá, Caldas Novas',\n",
       "       'Condomínio Guirra, Planaltina',\n",
       "       'Condomínio barra do Pirapitinga, Caldas Novas',\n",
       "       'Centro, Jardim ABC de Goiás', 'Parque da Colina I, Formosa',\n",
       "       'Jardim Alphaville, Goiânia',\n",
       "       'Setor Comercial Local Residencial Norte, Brasília',\n",
       "       'Parque Rio Branco, Valparaíso de Goiás',\n",
       "       'Comércio Local Sudoeste, Brasília',\n",
       "       'Setor Habitacional Vereda Grande, Taguatinga',\n",
       "       'Residencial Barravento, Goiânia',\n",
       "       'Setor de Hotéis e Turismo Sul, Brasília',\n",
       "       'Parque Atheneu, Goiânia', 'Portal Do Amanhecer, Planaltina',\n",
       "       'Sao Sebastiao, Senador Canedo', 'Parque Alvorada II, Luziânia',\n",
       "       'Setor Terminal Norte, Brasília',\n",
       "       'Jardim Progresso, Aparecida de Goiânia',\n",
       "       'Parque Estrela Dalva X, Luziânia',\n",
       "       'Residencial Cidade Nova, Novo Gama',\n",
       "       'Recreio das Águas Lindas II, Águas Lindas de Goiás',\n",
       "       'Vila São José, Taguatinga',\n",
       "       'Jardim Maranata, Aparecida de Goiânia',\n",
       "       'Vila Santa Helena, Goiânia', 'Cidade Livre, Aparecida de Goiânia',\n",
       "       'Vila Aurora, Formosa', 'Jardim Presidente, Goiânia',\n",
       "       'Residencial Village Santa Rita I, Goiânia',\n",
       "       'Vila Nova Canaã, Goiânia', 'Centro, Goiatuba',\n",
       "       'Jardim Santo Antônio, Goiânia', 'Zona Rural, Uruaçu',\n",
       "       'Parque Real, Caldas Novas', 'Jardim Marques de Abreu, Goiânia',\n",
       "       'Setor Conde dos Arcos, Aparecida de Goiânia',\n",
       "       'Zona Industrial, Brasília', 'Estância Itajá, Caldas Novas',\n",
       "       'Royal Parque, Águas Lindas de Goiás',\n",
       "       'Centro, Núcleo Bandeirante', 'Residencial Flamingo, Goiânia',\n",
       "       'Conjunto Caiçara, Goiânia', 'Vila Morais, Goiânia',\n",
       "       'Loteamento Grande Vale, Novo Gama',\n",
       "       'Parque Itamarati, Aparecida de Goiânia',\n",
       "       'Condomínio das Esmeraldas, Goiânia',\n",
       "       'Centro, Cocalzinho de Goiás',\n",
       "       'Residencial Ville de France, Goiânia',\n",
       "       'Setor Terminal Sul, Brasília',\n",
       "       'Parque Estrela Dalva VII, Luziânia', 'Centro, Minaçu',\n",
       "       'Centro, Palmeiras de Goiás', 'Vila Romana, Aparecida de Goiânia',\n",
       "       'Sao Francisco, São Sebastião', 'Vila Maria Luiza, Goiânia',\n",
       "       'São Caetano, Luziânia', 'Vila João Vaz, Goiânia',\n",
       "       'Setor de Garagens e Concessionárias de Veículos, Brasília',\n",
       "       'Vera Cruz, Aparecida de Goiânia', 'Feliz, Goiânia',\n",
       "       'Centro, Corumbaíba', 'Terra Prometida, Aparecida de Goiânia',\n",
       "       'Vila Americano do Brasil, Goiânia', 'Planaltina, Goiás',\n",
       "       'Setor Tocantins, Aparecida de Goiânia',\n",
       "       'Condomínio Mestre D Armas, Planaltina',\n",
       "       'Mansões Olinda, Águas Lindas de Goiás', 'Centro, Três Ranchos',\n",
       "       'Setor Residencial Campos Elísios, Aparecida de Goiânia',\n",
       "       'Setor Leste, Luziânia',\n",
       "       'Setor Rio Vermelho, Aparecida de Goiânia',\n",
       "       'Jardim das Laranjeiras I, Águas Lindas de Goiás',\n",
       "       'Residencial Jardim Paraíso, Águas Lindas de Goiás',\n",
       "       'Setor Gentil Meireles, Goiânia',\n",
       "       'Residencial Parque Mendanha, Goiânia', 'Centro, Cavalcante',\n",
       "       'Jardim Nova Esperança, Goiânia',\n",
       "       'Mansões Pôr do Sol, Águas Lindas de Goiás', 'Capuava, Goiânia',\n",
       "       'Vila Rabelo I, Sobradinho', 'Vila Borges, Rio Verde',\n",
       "       'Centro, Alexânia'], dtype=object)"
      ]
     },
     "execution_count": 16,
     "metadata": {},
     "output_type": "execute_result"
    }
   ],
   "source": [
    "bairros_reject = df.bairro.value_counts()[25:].index.values\n",
    "bairros_reject"
   ]
  },
  {
   "cell_type": "code",
   "execution_count": 17,
   "metadata": {},
   "outputs": [
    {
     "name": "stdout",
     "output_type": "stream",
     "text": [
      "(31192, 18)\n"
     ]
    },
    {
     "data": {
      "text/html": [
       "<div>\n",
       "<style scoped>\n",
       "    .dataframe tbody tr th:only-of-type {\n",
       "        vertical-align: middle;\n",
       "    }\n",
       "\n",
       "    .dataframe tbody tr th {\n",
       "        vertical-align: top;\n",
       "    }\n",
       "\n",
       "    .dataframe thead th {\n",
       "        text-align: right;\n",
       "    }\n",
       "</style>\n",
       "<table border=\"1\" class=\"dataframe\">\n",
       "  <thead>\n",
       "    <tr style=\"text-align: right;\">\n",
       "      <th></th>\n",
       "      <th>nome</th>\n",
       "      <th>valor_venda</th>\n",
       "      <th>url</th>\n",
       "      <th>condominio</th>\n",
       "      <th>IPTU</th>\n",
       "      <th>lat</th>\n",
       "      <th>long</th>\n",
       "      <th>area_total</th>\n",
       "      <th>area_util</th>\n",
       "      <th>banheiros</th>\n",
       "      <th>vagas</th>\n",
       "      <th>quartos</th>\n",
       "      <th>suites</th>\n",
       "      <th>idade</th>\n",
       "      <th>endereco</th>\n",
       "      <th>bairro</th>\n",
       "      <th>idade_anuncio</th>\n",
       "      <th>tipo</th>\n",
       "    </tr>\n",
       "  </thead>\n",
       "  <tbody>\n",
       "    <tr>\n",
       "      <th>0</th>\n",
       "      <td>Tower duplex  90m2</td>\n",
       "      <td>550000</td>\n",
       "      <td>https://www.wimoveis.com.br/propriedades/tower...</td>\n",
       "      <td>R$ 730</td>\n",
       "      <td>R$ 690</td>\n",
       "      <td>-15.842635250484830</td>\n",
       "      <td>-48.024645807548495</td>\n",
       "      <td>89m²</td>\n",
       "      <td>89</td>\n",
       "      <td>3.0</td>\n",
       "      <td>2.0</td>\n",
       "      <td>2.0</td>\n",
       "      <td>2.0</td>\n",
       "      <td>6</td>\n",
       "      <td>Qd 206,  Aguas Sul, Águas Claras</td>\n",
       "      <td>Aguas Sul, Águas Claras</td>\n",
       "      <td>52</td>\n",
       "      <td>apartamento</td>\n",
       "    </tr>\n",
       "    <tr>\n",
       "      <th>1</th>\n",
       "      <td>SELECTION 36</td>\n",
       "      <td>2150000</td>\n",
       "      <td>https://www.wimoveis.com.br/propriedades/selec...</td>\n",
       "      <td>NaN</td>\n",
       "      <td>NaN</td>\n",
       "      <td>-15.742129999999999</td>\n",
       "      <td>-47.910919999999997</td>\n",
       "      <td>224m²</td>\n",
       "      <td>224</td>\n",
       "      <td>6.0</td>\n",
       "      <td>3.0</td>\n",
       "      <td>4.0</td>\n",
       "      <td>4.0</td>\n",
       "      <td>4</td>\n",
       "      <td>Quadra SQNW 110,  Noroeste, Brasília</td>\n",
       "      <td>Noroeste, Brasília</td>\n",
       "      <td>6</td>\n",
       "      <td>apartamento</td>\n",
       "    </tr>\n",
       "    <tr>\n",
       "      <th>2</th>\n",
       "      <td>Elevador + Apartamento de 3 Quartos + Excelent...</td>\n",
       "      <td>420000</td>\n",
       "      <td>https://www.wimoveis.com.br/propriedades/eleva...</td>\n",
       "      <td>NaN</td>\n",
       "      <td>NaN</td>\n",
       "      <td>-15.739203900000000</td>\n",
       "      <td>-47.902473900000020</td>\n",
       "      <td>NaN</td>\n",
       "      <td>65</td>\n",
       "      <td>2.0</td>\n",
       "      <td>0.0</td>\n",
       "      <td>3.0</td>\n",
       "      <td>0.0</td>\n",
       "      <td>NaN</td>\n",
       "      <td>SCRN 706/707 BLOCO F - COMPLETO ARMÁRIOS- EXCE...</td>\n",
       "      <td>Asa Norte, Brasília</td>\n",
       "      <td>9</td>\n",
       "      <td>apartamento</td>\n",
       "    </tr>\n",
       "    <tr>\n",
       "      <th>4</th>\n",
       "      <td>Elegance Park Sul de 03 Suítes</td>\n",
       "      <td>1333800</td>\n",
       "      <td>https://www.wimoveis.com.br/propriedades/elega...</td>\n",
       "      <td>NaN</td>\n",
       "      <td>NaN</td>\n",
       "      <td>-15.827143900000000</td>\n",
       "      <td>-47.952883600000010</td>\n",
       "      <td>117m²</td>\n",
       "      <td>117</td>\n",
       "      <td>5.0</td>\n",
       "      <td>2.0</td>\n",
       "      <td>3.0</td>\n",
       "      <td>3.0</td>\n",
       "      <td>1</td>\n",
       "      <td>Sgcv 23,  Park Sul, Brasília</td>\n",
       "      <td>Park Sul, Brasília</td>\n",
       "      <td>8</td>\n",
       "      <td>apartamento</td>\n",
       "    </tr>\n",
       "    <tr>\n",
       "      <th>5</th>\n",
       "      <td>QI 31 Jardins Life Reformadíssimo Localização ...</td>\n",
       "      <td>580000</td>\n",
       "      <td>https://www.wimoveis.com.br/propriedades/qi-31...</td>\n",
       "      <td>NaN</td>\n",
       "      <td>NaN</td>\n",
       "      <td>-15.840017800000000</td>\n",
       "      <td>-47.975002600000038</td>\n",
       "      <td>NaN</td>\n",
       "      <td>68</td>\n",
       "      <td>2.0</td>\n",
       "      <td>1.0</td>\n",
       "      <td>2.0</td>\n",
       "      <td>1.0</td>\n",
       "      <td>3</td>\n",
       "      <td>QUADRA QI 31 LOTES 2/4,  Guara II, Guará</td>\n",
       "      <td>Guara II, Guará</td>\n",
       "      <td>6</td>\n",
       "      <td>apartamento</td>\n",
       "    </tr>\n",
       "  </tbody>\n",
       "</table>\n",
       "</div>"
      ],
      "text/plain": [
       "                                                nome  valor_venda  \\\n",
       "0                                 Tower duplex  90m2       550000   \n",
       "1                                       SELECTION 36      2150000   \n",
       "2  Elevador + Apartamento de 3 Quartos + Excelent...       420000   \n",
       "4                     Elegance Park Sul de 03 Suítes      1333800   \n",
       "5  QI 31 Jardins Life Reformadíssimo Localização ...       580000   \n",
       "\n",
       "                                                 url condominio    IPTU  \\\n",
       "0  https://www.wimoveis.com.br/propriedades/tower...     R$ 730  R$ 690   \n",
       "1  https://www.wimoveis.com.br/propriedades/selec...        NaN     NaN   \n",
       "2  https://www.wimoveis.com.br/propriedades/eleva...        NaN     NaN   \n",
       "4  https://www.wimoveis.com.br/propriedades/elega...        NaN     NaN   \n",
       "5  https://www.wimoveis.com.br/propriedades/qi-31...        NaN     NaN   \n",
       "\n",
       "                   lat                 long area_total  area_util  banheiros  \\\n",
       "0  -15.842635250484830  -48.024645807548495       89m²         89        3.0   \n",
       "1  -15.742129999999999  -47.910919999999997      224m²        224        6.0   \n",
       "2  -15.739203900000000  -47.902473900000020        NaN         65        2.0   \n",
       "4  -15.827143900000000  -47.952883600000010      117m²        117        5.0   \n",
       "5  -15.840017800000000  -47.975002600000038        NaN         68        2.0   \n",
       "\n",
       "   vagas  quartos  suites idade  \\\n",
       "0    2.0      2.0     2.0     6   \n",
       "1    3.0      4.0     4.0     4   \n",
       "2    0.0      3.0     0.0   NaN   \n",
       "4    2.0      3.0     3.0     1   \n",
       "5    1.0      2.0     1.0     3   \n",
       "\n",
       "                                            endereco                   bairro  \\\n",
       "0                   Qd 206,  Aguas Sul, Águas Claras  Aguas Sul, Águas Claras   \n",
       "1               Quadra SQNW 110,  Noroeste, Brasília       Noroeste, Brasília   \n",
       "2  SCRN 706/707 BLOCO F - COMPLETO ARMÁRIOS- EXCE...      Asa Norte, Brasília   \n",
       "4                       Sgcv 23,  Park Sul, Brasília       Park Sul, Brasília   \n",
       "5           QUADRA QI 31 LOTES 2/4,  Guara II, Guará          Guara II, Guará   \n",
       "\n",
       "  idade_anuncio         tipo  \n",
       "0            52  apartamento  \n",
       "1             6  apartamento  \n",
       "2             9  apartamento  \n",
       "4             8  apartamento  \n",
       "5             6  apartamento  "
      ]
     },
     "execution_count": 17,
     "metadata": {},
     "output_type": "execute_result"
    }
   ],
   "source": [
    "df = df[~df['bairro'].isin(bairros_reject)]\n",
    "print(df.shape)\n",
    "df.head()"
   ]
  },
  {
   "cell_type": "code",
   "execution_count": 18,
   "metadata": {},
   "outputs": [
    {
     "data": {
      "text/plain": [
       "Aguas Sul, Águas Claras                         3497\n",
       "Noroeste, Brasília                              3414\n",
       "Aguas Norte, Águas Claras                       3028\n",
       "Asa Norte, Brasília                             3017\n",
       "Asa Sul, Brasília                               2412\n",
       "Lago Sul, Brasília                              1654\n",
       "Sudoeste, Brasília                              1538\n",
       "Taguatinga Norte, Taguatinga                    1391\n",
       "Vicente Pires, Vicente Pires                    1335\n",
       "Guara II, Guará                                 1120\n",
       "Setor Habitacional Jardim Botânico, Brasília    1087\n",
       "Lago Norte, Brasília                            1058\n",
       "Park Way, Brasília                               960\n",
       "Park Sul, Brasília                               710\n",
       "Taguatinga Sul, Taguatinga                       684\n",
       "Samambaia Sul, Samambaia                         647\n",
       "Areal, Águas Claras                              555\n",
       "Guara I, Guará                                   542\n",
       "Samambaia Norte, Samambaia                       515\n",
       "Ceilandia Norte, Ceilândia                       422\n",
       "Sobradinho, Sobradinho                           368\n",
       "Grande Colorado, Sobradinho                      354\n",
       "Centro, Brasília                                 348\n",
       "Ceilandia Sul, Ceilândia                         288\n",
       "Região Dos Lagos, Sobradinho                     248\n",
       "Name: bairro, dtype: int64"
      ]
     },
     "execution_count": 18,
     "metadata": {},
     "output_type": "execute_result"
    }
   ],
   "source": [
    "df.bairro.value_counts()"
   ]
  },
  {
   "cell_type": "code",
   "execution_count": 19,
   "metadata": {},
   "outputs": [
    {
     "data": {
      "text/plain": [
       "apartamento    21874\n",
       "casa            9318\n",
       "Name: tipo, dtype: int64"
      ]
     },
     "execution_count": 19,
     "metadata": {},
     "output_type": "execute_result"
    }
   ],
   "source": [
    "df.tipo.value_counts()"
   ]
  },
  {
   "cell_type": "code",
   "execution_count": null,
   "metadata": {},
   "outputs": [],
   "source": []
  },
  {
   "cell_type": "code",
   "execution_count": 20,
   "metadata": {},
   "outputs": [],
   "source": [
    "df.quartos = df.quartos.fillna(df.quartos.median())"
   ]
  },
  {
   "cell_type": "code",
   "execution_count": 21,
   "metadata": {},
   "outputs": [
    {
     "name": "stdout",
     "output_type": "stream",
     "text": [
      "(31192, 5)\n"
     ]
    },
    {
     "data": {
      "text/html": [
       "<div>\n",
       "<style scoped>\n",
       "    .dataframe tbody tr th:only-of-type {\n",
       "        vertical-align: middle;\n",
       "    }\n",
       "\n",
       "    .dataframe tbody tr th {\n",
       "        vertical-align: top;\n",
       "    }\n",
       "\n",
       "    .dataframe thead th {\n",
       "        text-align: right;\n",
       "    }\n",
       "</style>\n",
       "<table border=\"1\" class=\"dataframe\">\n",
       "  <thead>\n",
       "    <tr style=\"text-align: right;\">\n",
       "      <th></th>\n",
       "      <th>bairro</th>\n",
       "      <th>area_util</th>\n",
       "      <th>tipo</th>\n",
       "      <th>quartos</th>\n",
       "      <th>valor_venda</th>\n",
       "    </tr>\n",
       "  </thead>\n",
       "  <tbody>\n",
       "    <tr>\n",
       "      <th>0</th>\n",
       "      <td>Aguas Sul, Águas Claras</td>\n",
       "      <td>89</td>\n",
       "      <td>apartamento</td>\n",
       "      <td>2.0</td>\n",
       "      <td>550000</td>\n",
       "    </tr>\n",
       "    <tr>\n",
       "      <th>1</th>\n",
       "      <td>Noroeste, Brasília</td>\n",
       "      <td>224</td>\n",
       "      <td>apartamento</td>\n",
       "      <td>4.0</td>\n",
       "      <td>2150000</td>\n",
       "    </tr>\n",
       "    <tr>\n",
       "      <th>2</th>\n",
       "      <td>Asa Norte, Brasília</td>\n",
       "      <td>65</td>\n",
       "      <td>apartamento</td>\n",
       "      <td>3.0</td>\n",
       "      <td>420000</td>\n",
       "    </tr>\n",
       "    <tr>\n",
       "      <th>4</th>\n",
       "      <td>Park Sul, Brasília</td>\n",
       "      <td>117</td>\n",
       "      <td>apartamento</td>\n",
       "      <td>3.0</td>\n",
       "      <td>1333800</td>\n",
       "    </tr>\n",
       "    <tr>\n",
       "      <th>5</th>\n",
       "      <td>Guara II, Guará</td>\n",
       "      <td>68</td>\n",
       "      <td>apartamento</td>\n",
       "      <td>2.0</td>\n",
       "      <td>580000</td>\n",
       "    </tr>\n",
       "  </tbody>\n",
       "</table>\n",
       "</div>"
      ],
      "text/plain": [
       "                    bairro  area_util         tipo  quartos  valor_venda\n",
       "0  Aguas Sul, Águas Claras         89  apartamento      2.0       550000\n",
       "1       Noroeste, Brasília        224  apartamento      4.0      2150000\n",
       "2      Asa Norte, Brasília         65  apartamento      3.0       420000\n",
       "4       Park Sul, Brasília        117  apartamento      3.0      1333800\n",
       "5          Guara II, Guará         68  apartamento      2.0       580000"
      ]
     },
     "execution_count": 21,
     "metadata": {},
     "output_type": "execute_result"
    }
   ],
   "source": [
    "df_regression = df[['bairro', 'area_util', 'tipo', 'quartos','valor_venda']]\n",
    "print(df_regression.shape)\n",
    "df_regression.head()"
   ]
  },
  {
   "cell_type": "code",
   "execution_count": 22,
   "metadata": {},
   "outputs": [
    {
     "data": {
      "text/plain": [
       "bairro         0\n",
       "area_util      0\n",
       "tipo           0\n",
       "quartos        0\n",
       "valor_venda    0\n",
       "dtype: int64"
      ]
     },
     "execution_count": 22,
     "metadata": {},
     "output_type": "execute_result"
    }
   ],
   "source": [
    "df_regression.isna().sum()"
   ]
  },
  {
   "cell_type": "code",
   "execution_count": 23,
   "metadata": {},
   "outputs": [
    {
     "data": {
      "text/plain": [
       "(31192, 7)"
      ]
     },
     "execution_count": 23,
     "metadata": {},
     "output_type": "execute_result"
    }
   ],
   "source": [
    "one_hot = pd.get_dummies(df_regression['tipo'],prefix=\"tipo\")\n",
    "df_regression = df_regression.join(one_hot)\n",
    "df_regression.shape"
   ]
  },
  {
   "cell_type": "code",
   "execution_count": 24,
   "metadata": {},
   "outputs": [
    {
     "data": {
      "text/html": [
       "<div>\n",
       "<style scoped>\n",
       "    .dataframe tbody tr th:only-of-type {\n",
       "        vertical-align: middle;\n",
       "    }\n",
       "\n",
       "    .dataframe tbody tr th {\n",
       "        vertical-align: top;\n",
       "    }\n",
       "\n",
       "    .dataframe thead th {\n",
       "        text-align: right;\n",
       "    }\n",
       "</style>\n",
       "<table border=\"1\" class=\"dataframe\">\n",
       "  <thead>\n",
       "    <tr style=\"text-align: right;\">\n",
       "      <th></th>\n",
       "      <th>bairro</th>\n",
       "      <th>area_util</th>\n",
       "      <th>tipo</th>\n",
       "      <th>quartos</th>\n",
       "      <th>valor_venda</th>\n",
       "      <th>tipo_apartamento</th>\n",
       "      <th>tipo_casa</th>\n",
       "    </tr>\n",
       "  </thead>\n",
       "  <tbody>\n",
       "    <tr>\n",
       "      <th>0</th>\n",
       "      <td>Aguas Sul, Águas Claras</td>\n",
       "      <td>89</td>\n",
       "      <td>apartamento</td>\n",
       "      <td>2.0</td>\n",
       "      <td>550000</td>\n",
       "      <td>1</td>\n",
       "      <td>0</td>\n",
       "    </tr>\n",
       "    <tr>\n",
       "      <th>1</th>\n",
       "      <td>Noroeste, Brasília</td>\n",
       "      <td>224</td>\n",
       "      <td>apartamento</td>\n",
       "      <td>4.0</td>\n",
       "      <td>2150000</td>\n",
       "      <td>1</td>\n",
       "      <td>0</td>\n",
       "    </tr>\n",
       "    <tr>\n",
       "      <th>2</th>\n",
       "      <td>Asa Norte, Brasília</td>\n",
       "      <td>65</td>\n",
       "      <td>apartamento</td>\n",
       "      <td>3.0</td>\n",
       "      <td>420000</td>\n",
       "      <td>1</td>\n",
       "      <td>0</td>\n",
       "    </tr>\n",
       "    <tr>\n",
       "      <th>4</th>\n",
       "      <td>Park Sul, Brasília</td>\n",
       "      <td>117</td>\n",
       "      <td>apartamento</td>\n",
       "      <td>3.0</td>\n",
       "      <td>1333800</td>\n",
       "      <td>1</td>\n",
       "      <td>0</td>\n",
       "    </tr>\n",
       "    <tr>\n",
       "      <th>5</th>\n",
       "      <td>Guara II, Guará</td>\n",
       "      <td>68</td>\n",
       "      <td>apartamento</td>\n",
       "      <td>2.0</td>\n",
       "      <td>580000</td>\n",
       "      <td>1</td>\n",
       "      <td>0</td>\n",
       "    </tr>\n",
       "  </tbody>\n",
       "</table>\n",
       "</div>"
      ],
      "text/plain": [
       "                    bairro  area_util         tipo  quartos  valor_venda  \\\n",
       "0  Aguas Sul, Águas Claras         89  apartamento      2.0       550000   \n",
       "1       Noroeste, Brasília        224  apartamento      4.0      2150000   \n",
       "2      Asa Norte, Brasília         65  apartamento      3.0       420000   \n",
       "4       Park Sul, Brasília        117  apartamento      3.0      1333800   \n",
       "5          Guara II, Guará         68  apartamento      2.0       580000   \n",
       "\n",
       "   tipo_apartamento  tipo_casa  \n",
       "0                 1          0  \n",
       "1                 1          0  \n",
       "2                 1          0  \n",
       "4                 1          0  \n",
       "5                 1          0  "
      ]
     },
     "execution_count": 24,
     "metadata": {},
     "output_type": "execute_result"
    }
   ],
   "source": [
    "df_regression.head()"
   ]
  },
  {
   "cell_type": "code",
   "execution_count": 25,
   "metadata": {},
   "outputs": [
    {
     "data": {
      "text/html": [
       "<div>\n",
       "<style scoped>\n",
       "    .dataframe tbody tr th:only-of-type {\n",
       "        vertical-align: middle;\n",
       "    }\n",
       "\n",
       "    .dataframe tbody tr th {\n",
       "        vertical-align: top;\n",
       "    }\n",
       "\n",
       "    .dataframe thead th {\n",
       "        text-align: right;\n",
       "    }\n",
       "</style>\n",
       "<table border=\"1\" class=\"dataframe\">\n",
       "  <thead>\n",
       "    <tr style=\"text-align: right;\">\n",
       "      <th></th>\n",
       "      <th>area_util</th>\n",
       "      <th>quartos</th>\n",
       "      <th>valor_venda</th>\n",
       "      <th>tipo_apartamento</th>\n",
       "      <th>tipo_casa</th>\n",
       "      <th>bairro_Aguas Norte, Águas Claras</th>\n",
       "      <th>bairro_Aguas Sul, Águas Claras</th>\n",
       "      <th>bairro_Areal, Águas Claras</th>\n",
       "      <th>bairro_Asa Norte, Brasília</th>\n",
       "      <th>bairro_Asa Sul, Brasília</th>\n",
       "      <th>...</th>\n",
       "      <th>bairro_Park Way, Brasília</th>\n",
       "      <th>bairro_Região Dos Lagos, Sobradinho</th>\n",
       "      <th>bairro_Samambaia Norte, Samambaia</th>\n",
       "      <th>bairro_Samambaia Sul, Samambaia</th>\n",
       "      <th>bairro_Setor Habitacional Jardim Botânico, Brasília</th>\n",
       "      <th>bairro_Sobradinho, Sobradinho</th>\n",
       "      <th>bairro_Sudoeste, Brasília</th>\n",
       "      <th>bairro_Taguatinga Norte, Taguatinga</th>\n",
       "      <th>bairro_Taguatinga Sul, Taguatinga</th>\n",
       "      <th>bairro_Vicente Pires, Vicente Pires</th>\n",
       "    </tr>\n",
       "  </thead>\n",
       "  <tbody>\n",
       "    <tr>\n",
       "      <th>0</th>\n",
       "      <td>89</td>\n",
       "      <td>2.0</td>\n",
       "      <td>550000</td>\n",
       "      <td>1</td>\n",
       "      <td>0</td>\n",
       "      <td>0</td>\n",
       "      <td>1</td>\n",
       "      <td>0</td>\n",
       "      <td>0</td>\n",
       "      <td>0</td>\n",
       "      <td>...</td>\n",
       "      <td>0</td>\n",
       "      <td>0</td>\n",
       "      <td>0</td>\n",
       "      <td>0</td>\n",
       "      <td>0</td>\n",
       "      <td>0</td>\n",
       "      <td>0</td>\n",
       "      <td>0</td>\n",
       "      <td>0</td>\n",
       "      <td>0</td>\n",
       "    </tr>\n",
       "    <tr>\n",
       "      <th>1</th>\n",
       "      <td>224</td>\n",
       "      <td>4.0</td>\n",
       "      <td>2150000</td>\n",
       "      <td>1</td>\n",
       "      <td>0</td>\n",
       "      <td>0</td>\n",
       "      <td>0</td>\n",
       "      <td>0</td>\n",
       "      <td>0</td>\n",
       "      <td>0</td>\n",
       "      <td>...</td>\n",
       "      <td>0</td>\n",
       "      <td>0</td>\n",
       "      <td>0</td>\n",
       "      <td>0</td>\n",
       "      <td>0</td>\n",
       "      <td>0</td>\n",
       "      <td>0</td>\n",
       "      <td>0</td>\n",
       "      <td>0</td>\n",
       "      <td>0</td>\n",
       "    </tr>\n",
       "    <tr>\n",
       "      <th>2</th>\n",
       "      <td>65</td>\n",
       "      <td>3.0</td>\n",
       "      <td>420000</td>\n",
       "      <td>1</td>\n",
       "      <td>0</td>\n",
       "      <td>0</td>\n",
       "      <td>0</td>\n",
       "      <td>0</td>\n",
       "      <td>1</td>\n",
       "      <td>0</td>\n",
       "      <td>...</td>\n",
       "      <td>0</td>\n",
       "      <td>0</td>\n",
       "      <td>0</td>\n",
       "      <td>0</td>\n",
       "      <td>0</td>\n",
       "      <td>0</td>\n",
       "      <td>0</td>\n",
       "      <td>0</td>\n",
       "      <td>0</td>\n",
       "      <td>0</td>\n",
       "    </tr>\n",
       "    <tr>\n",
       "      <th>4</th>\n",
       "      <td>117</td>\n",
       "      <td>3.0</td>\n",
       "      <td>1333800</td>\n",
       "      <td>1</td>\n",
       "      <td>0</td>\n",
       "      <td>0</td>\n",
       "      <td>0</td>\n",
       "      <td>0</td>\n",
       "      <td>0</td>\n",
       "      <td>0</td>\n",
       "      <td>...</td>\n",
       "      <td>0</td>\n",
       "      <td>0</td>\n",
       "      <td>0</td>\n",
       "      <td>0</td>\n",
       "      <td>0</td>\n",
       "      <td>0</td>\n",
       "      <td>0</td>\n",
       "      <td>0</td>\n",
       "      <td>0</td>\n",
       "      <td>0</td>\n",
       "    </tr>\n",
       "    <tr>\n",
       "      <th>5</th>\n",
       "      <td>68</td>\n",
       "      <td>2.0</td>\n",
       "      <td>580000</td>\n",
       "      <td>1</td>\n",
       "      <td>0</td>\n",
       "      <td>0</td>\n",
       "      <td>0</td>\n",
       "      <td>0</td>\n",
       "      <td>0</td>\n",
       "      <td>0</td>\n",
       "      <td>...</td>\n",
       "      <td>0</td>\n",
       "      <td>0</td>\n",
       "      <td>0</td>\n",
       "      <td>0</td>\n",
       "      <td>0</td>\n",
       "      <td>0</td>\n",
       "      <td>0</td>\n",
       "      <td>0</td>\n",
       "      <td>0</td>\n",
       "      <td>0</td>\n",
       "    </tr>\n",
       "  </tbody>\n",
       "</table>\n",
       "<p>5 rows × 30 columns</p>\n",
       "</div>"
      ],
      "text/plain": [
       "   area_util  quartos  valor_venda  tipo_apartamento  tipo_casa  \\\n",
       "0         89      2.0       550000                 1          0   \n",
       "1        224      4.0      2150000                 1          0   \n",
       "2         65      3.0       420000                 1          0   \n",
       "4        117      3.0      1333800                 1          0   \n",
       "5         68      2.0       580000                 1          0   \n",
       "\n",
       "   bairro_Aguas Norte, Águas Claras  bairro_Aguas Sul, Águas Claras  \\\n",
       "0                                 0                               1   \n",
       "1                                 0                               0   \n",
       "2                                 0                               0   \n",
       "4                                 0                               0   \n",
       "5                                 0                               0   \n",
       "\n",
       "   bairro_Areal, Águas Claras  bairro_Asa Norte, Brasília  \\\n",
       "0                           0                           0   \n",
       "1                           0                           0   \n",
       "2                           0                           1   \n",
       "4                           0                           0   \n",
       "5                           0                           0   \n",
       "\n",
       "   bairro_Asa Sul, Brasília  ...  bairro_Park Way, Brasília  \\\n",
       "0                         0  ...                          0   \n",
       "1                         0  ...                          0   \n",
       "2                         0  ...                          0   \n",
       "4                         0  ...                          0   \n",
       "5                         0  ...                          0   \n",
       "\n",
       "   bairro_Região Dos Lagos, Sobradinho  bairro_Samambaia Norte, Samambaia  \\\n",
       "0                                    0                                  0   \n",
       "1                                    0                                  0   \n",
       "2                                    0                                  0   \n",
       "4                                    0                                  0   \n",
       "5                                    0                                  0   \n",
       "\n",
       "   bairro_Samambaia Sul, Samambaia  \\\n",
       "0                                0   \n",
       "1                                0   \n",
       "2                                0   \n",
       "4                                0   \n",
       "5                                0   \n",
       "\n",
       "   bairro_Setor Habitacional Jardim Botânico, Brasília  \\\n",
       "0                                                  0     \n",
       "1                                                  0     \n",
       "2                                                  0     \n",
       "4                                                  0     \n",
       "5                                                  0     \n",
       "\n",
       "   bairro_Sobradinho, Sobradinho  bairro_Sudoeste, Brasília  \\\n",
       "0                              0                          0   \n",
       "1                              0                          0   \n",
       "2                              0                          0   \n",
       "4                              0                          0   \n",
       "5                              0                          0   \n",
       "\n",
       "   bairro_Taguatinga Norte, Taguatinga  bairro_Taguatinga Sul, Taguatinga  \\\n",
       "0                                    0                                  0   \n",
       "1                                    0                                  0   \n",
       "2                                    0                                  0   \n",
       "4                                    0                                  0   \n",
       "5                                    0                                  0   \n",
       "\n",
       "   bairro_Vicente Pires, Vicente Pires  \n",
       "0                                    0  \n",
       "1                                    0  \n",
       "2                                    0  \n",
       "4                                    0  \n",
       "5                                    0  \n",
       "\n",
       "[5 rows x 30 columns]"
      ]
     },
     "execution_count": 25,
     "metadata": {},
     "output_type": "execute_result"
    }
   ],
   "source": [
    "one_hot = pd.get_dummies(df_regression['bairro'], prefix=\"bairro\")\n",
    "df_regression = df_regression.join(one_hot)\n",
    "\n",
    "df_regression = df_regression.drop(['tipo', 'bairro'], axis=1)\n",
    "\n",
    "df_regression.shape\n",
    "df_regression.head()"
   ]
  },
  {
   "cell_type": "code",
   "execution_count": 26,
   "metadata": {},
   "outputs": [
    {
     "data": {
      "text/plain": [
       "((31192, 29), (31192,))"
      ]
     },
     "execution_count": 26,
     "metadata": {},
     "output_type": "execute_result"
    }
   ],
   "source": [
    "X = df_regression.drop(['valor_venda'],axis=1)\n",
    "y = df_regression['valor_venda']\n",
    "X.shape, y.shape"
   ]
  },
  {
   "cell_type": "code",
   "execution_count": 27,
   "metadata": {},
   "outputs": [
    {
     "data": {
      "text/plain": [
       "((28072, 29), (3120, 29), (28072,), (3120,))"
      ]
     },
     "execution_count": 27,
     "metadata": {},
     "output_type": "execute_result"
    }
   ],
   "source": [
    "X_train, X_test, y_train, y_test = train_test_split(X, y, test_size=0.1, random_state=42)\n",
    "X_train.shape, X_test.shape, y_train.shape, y_test.shape"
   ]
  },
  {
   "cell_type": "code",
   "execution_count": 28,
   "metadata": {},
   "outputs": [
    {
     "data": {
      "text/plain": [
       "RandomForestRegressor(bootstrap=True, criterion='mse', max_depth=None,\n",
       "           max_features='auto', max_leaf_nodes=None,\n",
       "           min_impurity_decrease=0.0, min_impurity_split=None,\n",
       "           min_samples_leaf=1, min_samples_split=2,\n",
       "           min_weight_fraction_leaf=0.0, n_estimators=100, n_jobs=None,\n",
       "           oob_score=False, random_state=None, verbose=0, warm_start=False)"
      ]
     },
     "execution_count": 28,
     "metadata": {},
     "output_type": "execute_result"
    }
   ],
   "source": [
    "reg = RandomForestRegressor(n_estimators=100) \n",
    "reg"
   ]
  },
  {
   "cell_type": "code",
   "execution_count": 29,
   "metadata": {},
   "outputs": [],
   "source": [
    "reg.fit(X_train, y_train)\n",
    "train_predict = reg.predict(X_train)\n",
    "test_predict = reg.predict(X_test)"
   ]
  },
  {
   "cell_type": "code",
   "execution_count": 30,
   "metadata": {},
   "outputs": [
    {
     "name": "stdout",
     "output_type": "stream",
     "text": [
      "Mean squared error: 312296437148.86\n",
      "Root Mean squared error: 558834.89\n",
      "R2 score: 0.77\n"
     ]
    }
   ],
   "source": [
    "print(\"Mean squared error: %.2f\"\n",
    "      % mean_squared_error(y_test, test_predict))\n",
    "\n",
    "print(\"Root Mean squared error: %.2f\"\n",
    "      % math.sqrt(mean_squared_error(y_test, test_predict)))\n",
    "\n",
    "print('R2 score: %.2f' % r2_score(y_test, test_predict))"
   ]
  },
  {
   "cell_type": "code",
   "execution_count": 31,
   "metadata": {},
   "outputs": [
    {
     "name": "stdout",
     "output_type": "stream",
     "text": [
      "Feature ranking:\n",
      "1. feature area_util (0.695656)\n",
      "2. feature bairro_Lago Sul, Brasília (0.096999)\n",
      "3. feature quartos (0.051776)\n",
      "4. feature tipo_casa (0.045098)\n",
      "5. feature tipo_apartamento (0.041914)\n",
      "6. feature bairro_Lago Norte, Brasília (0.010539)\n",
      "7. feature bairro_Park Way, Brasília (0.009570)\n",
      "8. feature bairro_Aguas Sul, Águas Claras (0.008384)\n",
      "9. feature bairro_Vicente Pires, Vicente Pires (0.006084)\n",
      "10. feature bairro_Noroeste, Brasília (0.006020)\n",
      "11. feature bairro_Sudoeste, Brasília (0.005423)\n",
      "12. feature bairro_Aguas Norte, Águas Claras (0.004065)\n",
      "13. feature bairro_Asa Sul, Brasília (0.003695)\n",
      "14. feature bairro_Asa Norte, Brasília (0.003093)\n",
      "15. feature bairro_Setor Habitacional Jardim Botânico, Brasília (0.002142)\n",
      "16. feature bairro_Park Sul, Brasília (0.001922)\n",
      "17. feature bairro_Taguatinga Norte, Taguatinga (0.001516)\n",
      "18. feature bairro_Centro, Brasília (0.001242)\n",
      "19. feature bairro_Taguatinga Sul, Taguatinga (0.000947)\n",
      "20. feature bairro_Guara I, Guará (0.000800)\n",
      "21. feature bairro_Guara II, Guará (0.000687)\n",
      "22. feature bairro_Grande Colorado, Sobradinho (0.000428)\n",
      "23. feature bairro_Areal, Águas Claras (0.000426)\n",
      "24. feature bairro_Ceilandia Norte, Ceilândia (0.000367)\n",
      "25. feature bairro_Samambaia Sul, Samambaia (0.000347)\n",
      "26. feature bairro_Região Dos Lagos, Sobradinho (0.000296)\n",
      "27. feature bairro_Samambaia Norte, Samambaia (0.000222)\n",
      "28. feature bairro_Sobradinho, Sobradinho (0.000202)\n",
      "29. feature bairro_Ceilandia Sul, Ceilândia (0.000141)\n"
     ]
    },
    {
     "data": {
      "image/png": "[encoded data removed]",
      "text/plain": [
       "<Figure size 720x360 with 1 Axes>"
      ]
     },
     "metadata": {
      "needs_background": "light"
     },
     "output_type": "display_data"
    }
   ],
   "source": [
    " plt.rcParams['figure.figsize'] = [10, 5]\n",
    "importances = reg.feature_importances_\n",
    "std = np.std([tree.feature_importances_ for tree in reg.estimators_],\n",
    "             axis=0)\n",
    "indices = np.argsort(importances)[::-1]\n",
    "\n",
    "# Print the feature ranking\n",
    "print(\"Feature ranking:\")\n",
    "\n",
    "for f in range(X_train.shape[1]):\n",
    "    print(\"%d. feature %s (%f)\" % (f + 1, X_train.columns[indices[f]], importances[indices[f]]))\n",
    "\n",
    "# Plot the feature importances of the forest\n",
    "plt.figure()\n",
    "plt.title(\"Feature importances\")\n",
    "plt.bar(range(X_train.shape[1]), importances[indices],\n",
    "       color=\"r\", yerr=std[indices], align=\"center\")\n",
    "plt.xticks(range(X_train.shape[1]), X_train.columns[indices],rotation=90)\n",
    "plt.xlim([-1, X_train.shape[1]])\n",
    "plt.show()"
   ]
  },
  {
   "cell_type": "code",
   "execution_count": 32,
   "metadata": {},
   "outputs": [
    {
     "ename": "NameError",
     "evalue": "name 'ResidualsPlot' is not defined",
     "output_type": "error",
     "traceback": [
      "\u001b[1;31m---------------------------------------------------------------------------\u001b[0m",
      "\u001b[1;31mNameError\u001b[0m                                 Traceback (most recent call last)",
      "\u001b[1;32m<ipython-input-32-f3655dd0ed13>\u001b[0m in \u001b[0;36m<module>\u001b[1;34m\u001b[0m\n\u001b[0;32m      1\u001b[0m \u001b[0mreg2\u001b[0m \u001b[1;33m=\u001b[0m \u001b[0mRandomForestRegressor\u001b[0m\u001b[1;33m(\u001b[0m\u001b[0mn_estimators\u001b[0m\u001b[1;33m=\u001b[0m\u001b[1;36m100\u001b[0m\u001b[1;33m)\u001b[0m\u001b[1;33m\u001b[0m\u001b[1;33m\u001b[0m\u001b[0m\n\u001b[0;32m      2\u001b[0m \u001b[1;33m\u001b[0m\u001b[0m\n\u001b[1;32m----> 3\u001b[1;33m \u001b[0mvisualizer\u001b[0m \u001b[1;33m=\u001b[0m \u001b[0mResidualsPlot\u001b[0m\u001b[1;33m(\u001b[0m\u001b[0mreg2\u001b[0m\u001b[1;33m)\u001b[0m\u001b[1;33m\u001b[0m\u001b[1;33m\u001b[0m\u001b[0m\n\u001b[0m\u001b[0;32m      4\u001b[0m \u001b[0mvisualizer\u001b[0m\u001b[1;33m.\u001b[0m\u001b[0mfit\u001b[0m\u001b[1;33m(\u001b[0m\u001b[0mX_train\u001b[0m\u001b[1;33m,\u001b[0m \u001b[0my_train\u001b[0m\u001b[1;33m)\u001b[0m  \u001b[1;31m# Fit the training data to the model\u001b[0m\u001b[1;33m\u001b[0m\u001b[1;33m\u001b[0m\u001b[0m\n\u001b[0;32m      5\u001b[0m \u001b[0mvisualizer\u001b[0m\u001b[1;33m.\u001b[0m\u001b[0mscore\u001b[0m\u001b[1;33m(\u001b[0m\u001b[0mX_test\u001b[0m\u001b[1;33m,\u001b[0m \u001b[0my_test\u001b[0m\u001b[1;33m)\u001b[0m  \u001b[1;31m# Evaluate the model on the test data\u001b[0m\u001b[1;33m\u001b[0m\u001b[1;33m\u001b[0m\u001b[0m\n",
      "\u001b[1;31mNameError\u001b[0m: name 'ResidualsPlot' is not defined"
     ]
    }
   ],
   "source": [
    "reg2 = RandomForestRegressor(n_estimators=100) \n",
    "\n",
    "visualizer = ResidualsPlot(reg2)\n",
    "visualizer.fit(X_train, y_train)  # Fit the training data to the model\n",
    "visualizer.score(X_test, y_test)  # Evaluate the model on the test data\n",
    "visualizer.poof()                 # Draw/show/poof the data"
   ]
  },
  {
   "cell_type": "markdown",
   "metadata": {},
   "source": [
    "### TODO: scatterplot valor_venda x area util"
   ]
  },
  {
   "cell_type": "code",
   "execution_count": 33,
   "metadata": {},
   "outputs": [
    {
     "data": {
      "image/png": "[encoded data removed]",
      "text/plain": [
       "<Figure size 720x360 with 1 Axes>"
      ]
     },
     "metadata": {
      "needs_background": "light"
     },
     "output_type": "display_data"
    }
   ],
   "source": [
    "\n",
    "ax1 = df.plot.scatter(x='area_util',\n",
    "                       y='valor_venda',\n",
    "                       c='DarkBlue')"
   ]
  },
  {
   "cell_type": "code",
   "execution_count": 34,
   "metadata": {},
   "outputs": [
    {
     "data": {
      "image/png": "[encoded data removed]",
      "text/plain": [
       "<Figure size 720x360 with 1 Axes>"
      ]
     },
     "metadata": {
      "needs_background": "light"
     },
     "output_type": "display_data"
    }
   ],
   "source": [
    "df_zoom = df.loc[df.area_util < 2001]\n",
    "ax2 = df_zoom.plot.scatter(x='area_util',\n",
    "                       y='valor_venda',\n",
    "                       c='DarkBlue')"
   ]
  },
  {
   "cell_type": "code",
   "execution_count": null,
   "metadata": {},
   "outputs": [],
   "source": []
  }
 ],
 "metadata": {
  "kernelspec": {
   "display_name": "Python 3",
   "language": "python",
   "name": "python3"
  },
  "language_info": {
   "codemirror_mode": {
    "name": "ipython",
    "version": 3
   },
   "file_extension": ".py",
   "mimetype": "text/x-python",
   "name": "python",
   "nbconvert_exporter": "python",
   "pygments_lexer": "ipython3",
   "version": "3.7.3"
  }
 },
 "nbformat": 4,
 "nbformat_minor": 2
}
