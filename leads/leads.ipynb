{
 "cells": [
  {
   "cell_type": "code",
   "execution_count": 121,
   "id": "ee3e29bf",
   "metadata": {},
   "outputs": [],
   "source": [
    "import requests\n",
    "import pandas as pd\n",
    "from bs4 import BeautifulSoup\n",
    "import random\n",
    "import time\n",
    "import tqdm\n",
    "from collections import OrderedDict\n",
    "import cloudscraper\n",
    "import time"
   ]
  },
  {
   "cell_type": "code",
   "execution_count": 142,
   "id": "0a98e306",
   "metadata": {},
   "outputs": [],
   "source": [
    "def preprocess_data(soup):\n",
    "    prices = soup.find_all(attrs={\"data-qa\" : \"POSTING_CARD_PRICE\"})\n",
    "    names = soup.find_all(attrs={\"class\" : \"sc-ge2uzh-0 bzGYzE\"})\n",
    "    urls = soup.find_all(attrs={\"data-qa\" : \"posting PROPERTY\"})\n",
    "    features = soup.find_all(attrs={\"data-qa\" : \"POSTING_CARD_FEATURES\"})\n",
    "\n",
    "\n",
    "    prices = [x.next_element for x in prices]\n",
    "    names = [x.next_element for x in names]\n",
    "    urls = [host_url + x['data-to-posting'] for x in urls]\n",
    "\n",
    "    total_areas = [x.findAll('span')[1].contents[2] for x in features]\n",
    "    util_areas = [x.findAll('span')[3].contents[2] for x in features]\n",
    "    rooms = [x.findAll('span')[5].contents[2] for x in features]\n",
    "    try:\n",
    "        toilets = [x.findAll('span')[7].contents[2] for x in features]\n",
    "    except:\n",
    "        toilets = []\n",
    "        \n",
    "    df = pd.DataFrame(list(zip(prices, names, urls, total_areas, util_areas, rooms, toilets)),\n",
    "              columns=['price','name', 'url',' total_area', \"util_area\", \"rooms\", \"toilets\"])\n",
    "    \n",
    "    return df"
   ]
  },
  {
   "cell_type": "code",
   "execution_count": 12,
   "id": "03e13f6d",
   "metadata": {},
   "outputs": [],
   "source": [
    "#headers = {'User-Agent': 'Mozilla/5.0 (Macintosh; Intel Mac OS X 10_10_1) AppleWebKit/537.36 (KHTML, like Gecko) Chrome/39.0.2171.95 Safari/537.36'}\n",
    "headers = OrderedDict({\n",
    "    'Accept-Encoding': 'gzip, deflate, br',\n",
    "    'Host': \"grimaldis.myguestaccount.com\",\n",
    "    'User-Agent': 'Mozilla/5.0 (Windows NT 10.0; Win64; x64; rv:77.0) Gecko/20100101 Firefox/77.0'\n",
    "})"
   ]
  },
  {
   "cell_type": "code",
   "execution_count": 132,
   "id": "d55f2e8d",
   "metadata": {},
   "outputs": [],
   "source": [
    "host_url = \"https://www.wimoveis.com.br\"\n",
    "asa_n = \"https://www.wimoveis.com.br/apartamentos-venda-asa-norte-brasilia-particular.html\"\n",
    "asa_s = \"https://www.wimoveis.com.br/apartamentos-venda-asa-sul-brasilia-particular.html\"\n",
    "noroeste = \"https://www.wimoveis.com.br/apartamentos-venda-noroeste-brasilia-particular.html\"\n",
    "sudoeste = \"https://www.wimoveis.com.br/apartamentos-venda-sudoeste-brasilia-particular.html\"\n",
    "aguas_c = \"https://www.wimoveis.com.br/apartamentos-venda-aguas-claras-df-particular.html\"\n",
    "\n",
    "regions = [asa_n, asa_s, noroeste, sudoeste, aguas_c]"
   ]
  },
  {
   "cell_type": "code",
   "execution_count": 133,
   "id": "2e1d6a78",
   "metadata": {},
   "outputs": [],
   "source": [
    "# response = requests.get(asa_n, headers=headers)\n",
    "# response"
   ]
  },
  {
   "cell_type": "code",
   "execution_count": 134,
   "id": "27e8e80d",
   "metadata": {},
   "outputs": [],
   "source": [
    "scraper = cloudscraper.create_scraper(delay=10,   browser={'custom': 'ScraperBot/1.0',})\n",
    "\n",
    "# req = scraper.get(asa_n)\n",
    "# req"
   ]
  },
  {
   "cell_type": "code",
   "execution_count": 143,
   "id": "c350e6c0",
   "metadata": {},
   "outputs": [
    {
     "name": "stdout",
     "output_type": "stream",
     "text": [
      "getting this: https://www.wimoveis.com.br/apartamentos-venda-asa-norte-brasilia-particular.html\n",
      "getting this: https://www.wimoveis.com.br/apartamentos-venda-asa-sul-brasilia-particular.html\n",
      "getting this: https://www.wimoveis.com.br/apartamentos-venda-noroeste-brasilia-particular.html\n",
      "getting this: https://www.wimoveis.com.br/apartamentos-venda-sudoeste-brasilia-particular.html\n",
      "getting this: https://www.wimoveis.com.br/apartamentos-venda-aguas-claras-df-particular.html\n"
     ]
    }
   ],
   "source": [
    "for url in regions:\n",
    "    print(\"getting this:\", url)\n",
    "    res = scraper.get(url)\n",
    "    soup = BeautifulSoup(res.content,'html')\n",
    "    df = preprocess_data(soup)\n",
    "    df.to_csv(f'../data/{url.replace(host_url+\"/\",\"\")}.csv', index=False)\n",
    "    time.sleep(2)"
   ]
  },
  {
   "cell_type": "code",
   "execution_count": null,
   "id": "f8e00753",
   "metadata": {},
   "outputs": [],
   "source": []
  },
  {
   "cell_type": "code",
   "execution_count": null,
   "id": "b72c041f",
   "metadata": {},
   "outputs": [],
   "source": []
  }
 ],
 "metadata": {
  "kernelspec": {
   "display_name": "Python [conda env:nupic.research] *",
   "language": "python",
   "name": "conda-env-nupic.research-py"
  },
  "language_info": {
   "codemirror_mode": {
    "name": "ipython",
    "version": 3
   },
   "file_extension": ".py",
   "mimetype": "text/x-python",
   "name": "python",
   "nbconvert_exporter": "python",
   "pygments_lexer": "ipython3",
   "version": "3.8.12"
  }
 },
 "nbformat": 4,
 "nbformat_minor": 5
}
