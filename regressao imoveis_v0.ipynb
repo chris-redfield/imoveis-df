{
 "cells": [
  {
   "cell_type": "code",
   "execution_count": 1,
   "metadata": {},
   "outputs": [],
   "source": [
    "import pandas as pd\n",
    "import os\n",
    "import matplotlib.pyplot as plt\n",
    "\n",
    "from sklearn.ensemble import RandomForestRegressor\n",
    "from sklearn.model_selection import train_test_split\n",
    "from sklearn.metrics import mean_squared_error, r2_score, classification_report\n",
    "import math\n",
    "import numpy as np\n",
    "\n",
    "from yellowbrick.regressor import ResidualsPlot"
   ]
  },
  {
   "cell_type": "markdown",
   "metadata": {},
   "source": [
    "##  Carrega arquivos"
   ]
  },
  {
   "cell_type": "code",
   "execution_count": 2,
   "metadata": {},
   "outputs": [
    {
     "name": "stdout",
     "output_type": "stream",
     "text": [
      "(2500, 23)\n"
     ]
    },
    {
     "data": {
      "text/html": [
       "<div>\n",
       "<style scoped>\n",
       "    .dataframe tbody tr th:only-of-type {\n",
       "        vertical-align: middle;\n",
       "    }\n",
       "\n",
       "    .dataframe tbody tr th {\n",
       "        vertical-align: top;\n",
       "    }\n",
       "\n",
       "    .dataframe thead th {\n",
       "        text-align: right;\n",
       "    }\n",
       "</style>\n",
       "<table border=\"1\" class=\"dataframe\">\n",
       "  <thead>\n",
       "    <tr style=\"text-align: right;\">\n",
       "      <th></th>\n",
       "      <th>Bairro</th>\n",
       "      <th>Codigo_wimoveis</th>\n",
       "      <th>Endereco</th>\n",
       "      <th>Forma</th>\n",
       "      <th>Municipio</th>\n",
       "      <th>Site</th>\n",
       "      <th>Tipo</th>\n",
       "      <th>UF</th>\n",
       "      <th>URL</th>\n",
       "      <th>Dias_anuncio</th>\n",
       "      <th>...</th>\n",
       "      <th>vagas</th>\n",
       "      <th>quartos</th>\n",
       "      <th>suites</th>\n",
       "      <th>idade_do_imovel</th>\n",
       "      <th>suite</th>\n",
       "      <th>venda</th>\n",
       "      <th>condominio</th>\n",
       "      <th>iptu</th>\n",
       "      <th>latitude</th>\n",
       "      <th>longitude</th>\n",
       "    </tr>\n",
       "  </thead>\n",
       "  <tbody>\n",
       "    <tr>\n",
       "      <th>0</th>\n",
       "      <td>\\nSetor Habitacional Contagem\\n</td>\n",
       "      <td>2942525335</td>\n",
       "      <td>Condominio Vivendas Serrana,  Setor Habitacion...</td>\n",
       "      <td>\\nComprar\\n</td>\n",
       "      <td>\\nSobradinho\\n</td>\n",
       "      <td>\\nWimoveis\\n</td>\n",
       "      <td>\\nCasas\\n</td>\n",
       "      <td>\\nDistrito Federal\\n</td>\n",
       "      <td>https://www.wimoveis.com.br/propriedades/casa-...</td>\n",
       "      <td>14</td>\n",
       "      <td>...</td>\n",
       "      <td>0.0</td>\n",
       "      <td>3.0</td>\n",
       "      <td>NaN</td>\n",
       "      <td>7</td>\n",
       "      <td>1.0</td>\n",
       "      <td>650000.0</td>\n",
       "      <td>NaN</td>\n",
       "      <td>NaN</td>\n",
       "      <td>-15.669039</td>\n",
       "      <td>-47.817472</td>\n",
       "    </tr>\n",
       "    <tr>\n",
       "      <th>1</th>\n",
       "      <td>\\nGrande Colorado\\n</td>\n",
       "      <td>2943693315</td>\n",
       "      <td>CONDOMINIO JARDIM EUROPA II ,  Grande Colorado...</td>\n",
       "      <td>\\nComprar\\n</td>\n",
       "      <td>\\nSobradinho\\n</td>\n",
       "      <td>\\nWimoveis\\n</td>\n",
       "      <td>\\nCasas\\n</td>\n",
       "      <td>\\nDistrito Federal\\n</td>\n",
       "      <td>https://www.wimoveis.com.br/propriedades/excel...</td>\n",
       "      <td>[]</td>\n",
       "      <td>...</td>\n",
       "      <td>2.0</td>\n",
       "      <td>4.0</td>\n",
       "      <td>NaN</td>\n",
       "      <td>10</td>\n",
       "      <td>1.0</td>\n",
       "      <td>680000.0</td>\n",
       "      <td>NaN</td>\n",
       "      <td>NaN</td>\n",
       "      <td>-15.668008</td>\n",
       "      <td>-47.848734</td>\n",
       "    </tr>\n",
       "    <tr>\n",
       "      <th>2</th>\n",
       "      <td>\\nSobradinho\\n</td>\n",
       "      <td>2943340362</td>\n",
       "      <td>Setor Comercial Central ,  Sobradinho, Sobradinho</td>\n",
       "      <td>\\nComprar\\n</td>\n",
       "      <td>\\nSobradinho\\n</td>\n",
       "      <td>\\nWimoveis\\n</td>\n",
       "      <td>\\nCasas\\n</td>\n",
       "      <td>\\nDistrito Federal\\n</td>\n",
       "      <td>https://www.wimoveis.com.br/propriedades/quadr...</td>\n",
       "      <td>11</td>\n",
       "      <td>...</td>\n",
       "      <td>NaN</td>\n",
       "      <td>4.0</td>\n",
       "      <td>4.0</td>\n",
       "      <td>19</td>\n",
       "      <td>NaN</td>\n",
       "      <td>1500000.0</td>\n",
       "      <td>NaN</td>\n",
       "      <td>NaN</td>\n",
       "      <td>-15.651065</td>\n",
       "      <td>-47.790059</td>\n",
       "    </tr>\n",
       "    <tr>\n",
       "      <th>3</th>\n",
       "      <td>\\nRegião Dos Lagos\\n</td>\n",
       "      <td>2941341565</td>\n",
       "      <td>CONDOMINIO RK X,  Regiao Dos Lagos, Sobradinho</td>\n",
       "      <td>\\nComprar\\n</td>\n",
       "      <td>\\nSobradinho\\n</td>\n",
       "      <td>\\nWimoveis\\n</td>\n",
       "      <td>\\nCasas\\n</td>\n",
       "      <td>\\nDistrito Federal\\n</td>\n",
       "      <td>https://www.wimoveis.com.br/propriedades/casa-...</td>\n",
       "      <td>109</td>\n",
       "      <td>...</td>\n",
       "      <td>2.0</td>\n",
       "      <td>3.0</td>\n",
       "      <td>0.0</td>\n",
       "      <td>1</td>\n",
       "      <td>NaN</td>\n",
       "      <td>950000.0</td>\n",
       "      <td>NaN</td>\n",
       "      <td>NaN</td>\n",
       "      <td>-15.691065</td>\n",
       "      <td>-47.824731</td>\n",
       "    </tr>\n",
       "    <tr>\n",
       "      <th>4</th>\n",
       "      <td>\\nAlto Da Boa Vista\\n</td>\n",
       "      <td>2943419550</td>\n",
       "      <td>condominio Alto da Boa Vista,  Alto Da Boa Vis...</td>\n",
       "      <td>\\nComprar\\n</td>\n",
       "      <td>\\nSobradinho\\n</td>\n",
       "      <td>\\nWimoveis\\n</td>\n",
       "      <td>\\nCasas\\n</td>\n",
       "      <td>\\nDistrito Federal\\n</td>\n",
       "      <td>https://www.wimoveis.com.br/propriedades/casa-...</td>\n",
       "      <td>14</td>\n",
       "      <td>...</td>\n",
       "      <td>4.0</td>\n",
       "      <td>3.0</td>\n",
       "      <td>3.0</td>\n",
       "      <td>1</td>\n",
       "      <td>NaN</td>\n",
       "      <td>590000.0</td>\n",
       "      <td>400.0</td>\n",
       "      <td>NaN</td>\n",
       "      <td>-15.640650</td>\n",
       "      <td>-47.759264</td>\n",
       "    </tr>\n",
       "  </tbody>\n",
       "</table>\n",
       "<p>5 rows × 23 columns</p>\n",
       "</div>"
      ],
      "text/plain": [
       "                            Bairro Codigo_wimoveis  \\\n",
       "0  \\nSetor Habitacional Contagem\\n      2942525335   \n",
       "1              \\nGrande Colorado\\n      2943693315   \n",
       "2                   \\nSobradinho\\n      2943340362   \n",
       "3             \\nRegião Dos Lagos\\n      2941341565   \n",
       "4            \\nAlto Da Boa Vista\\n      2943419550   \n",
       "\n",
       "                                            Endereco        Forma  \\\n",
       "0  Condominio Vivendas Serrana,  Setor Habitacion...  \\nComprar\\n   \n",
       "1  CONDOMINIO JARDIM EUROPA II ,  Grande Colorado...  \\nComprar\\n   \n",
       "2  Setor Comercial Central ,  Sobradinho, Sobradinho  \\nComprar\\n   \n",
       "3     CONDOMINIO RK X,  Regiao Dos Lagos, Sobradinho  \\nComprar\\n   \n",
       "4  condominio Alto da Boa Vista,  Alto Da Boa Vis...  \\nComprar\\n   \n",
       "\n",
       "        Municipio          Site       Tipo                    UF  \\\n",
       "0  \\nSobradinho\\n  \\nWimoveis\\n  \\nCasas\\n  \\nDistrito Federal\\n   \n",
       "1  \\nSobradinho\\n  \\nWimoveis\\n  \\nCasas\\n  \\nDistrito Federal\\n   \n",
       "2  \\nSobradinho\\n  \\nWimoveis\\n  \\nCasas\\n  \\nDistrito Federal\\n   \n",
       "3  \\nSobradinho\\n  \\nWimoveis\\n  \\nCasas\\n  \\nDistrito Federal\\n   \n",
       "4  \\nSobradinho\\n  \\nWimoveis\\n  \\nCasas\\n  \\nDistrito Federal\\n   \n",
       "\n",
       "                                                 URL Dias_anuncio    ...      \\\n",
       "0  https://www.wimoveis.com.br/propriedades/casa-...           14    ...       \n",
       "1  https://www.wimoveis.com.br/propriedades/excel...           []    ...       \n",
       "2  https://www.wimoveis.com.br/propriedades/quadr...           11    ...       \n",
       "3  https://www.wimoveis.com.br/propriedades/casa-...          109    ...       \n",
       "4  https://www.wimoveis.com.br/propriedades/casa-...           14    ...       \n",
       "\n",
       "   vagas  quartos  suites  idade_do_imovel  suite      venda condominio  iptu  \\\n",
       "0    0.0      3.0     NaN                7    1.0   650000.0        NaN   NaN   \n",
       "1    2.0      4.0     NaN               10    1.0   680000.0        NaN   NaN   \n",
       "2    NaN      4.0     4.0               19    NaN  1500000.0        NaN   NaN   \n",
       "3    2.0      3.0     0.0                1    NaN   950000.0        NaN   NaN   \n",
       "4    4.0      3.0     3.0                1    NaN   590000.0      400.0   NaN   \n",
       "\n",
       "    latitude  longitude  \n",
       "0 -15.669039 -47.817472  \n",
       "1 -15.668008 -47.848734  \n",
       "2 -15.651065 -47.790059  \n",
       "3 -15.691065 -47.824731  \n",
       "4 -15.640650 -47.759264  \n",
       "\n",
       "[5 rows x 23 columns]"
      ]
     },
     "execution_count": 2,
     "metadata": {},
     "output_type": "execute_result"
    }
   ],
   "source": [
    "folder = \"data-rodrigo/\"\n",
    "\n",
    "df = pd.DataFrame()\n",
    "\n",
    "for file in os.listdir(folder):\n",
    "    if file.endswith(\".csv\"):\n",
    "        path = os.path.join(folder, file)\n",
    "        df_buffer = pd.read_csv(path, sep=\"|\")\n",
    "        df = df.append(df_buffer)\n",
    "\n",
    "df.reset_index(inplace=True,drop=True)\n",
    "print(df.shape)\n",
    "df.head()"
   ]
  },
  {
   "cell_type": "code",
   "execution_count": 3,
   "metadata": {},
   "outputs": [
    {
     "data": {
      "text/plain": [
       "Bairro              object\n",
       "Codigo_wimoveis     object\n",
       "Endereco            object\n",
       "Forma               object\n",
       "Municipio           object\n",
       "Site                object\n",
       "Tipo                object\n",
       "UF                  object\n",
       "URL                 object\n",
       "Dias_anuncio        object\n",
       "area_total         float64\n",
       "area_util          float64\n",
       "banheiros          float64\n",
       "vagas              float64\n",
       "quartos            float64\n",
       "suites             float64\n",
       "idade_do_imovel     object\n",
       "suite              float64\n",
       "venda              float64\n",
       "condominio         float64\n",
       "iptu               float64\n",
       "latitude           float64\n",
       "longitude          float64\n",
       "dtype: object"
      ]
     },
     "execution_count": 3,
     "metadata": {},
     "output_type": "execute_result"
    }
   ],
   "source": [
    "df.dtypes"
   ]
  },
  {
   "cell_type": "markdown",
   "metadata": {},
   "source": [
    "### Remove outlier do preço de venda"
   ]
  },
  {
   "cell_type": "code",
   "execution_count": 4,
   "metadata": {},
   "outputs": [
    {
     "data": {
      "text/plain": [
       "count    2.455000e+03\n",
       "mean     5.561819e+06\n",
       "std      1.364241e+08\n",
       "min      1.000000e+02\n",
       "25%      4.500000e+05\n",
       "50%      6.500000e+05\n",
       "75%      9.950000e+05\n",
       "max      6.299000e+09\n",
       "Name: venda, dtype: float64"
      ]
     },
     "execution_count": 4,
     "metadata": {},
     "output_type": "execute_result"
    }
   ],
   "source": [
    "df.venda.describe()"
   ]
  },
  {
   "cell_type": "code",
   "execution_count": 5,
   "metadata": {},
   "outputs": [
    {
     "data": {
      "text/plain": [
       "count    2.448000e+03\n",
       "mean     9.682457e+05\n",
       "std      1.161218e+06\n",
       "min      1.000000e+02\n",
       "25%      4.500000e+05\n",
       "50%      6.500000e+05\n",
       "75%      9.900000e+05\n",
       "max      2.131675e+07\n",
       "Name: venda, dtype: float64"
      ]
     },
     "execution_count": 5,
     "metadata": {},
     "output_type": "execute_result"
    }
   ],
   "source": [
    "df = df.loc[df.venda < 65000000.0]\n",
    "df.venda.describe()"
   ]
  },
  {
   "cell_type": "markdown",
   "metadata": {},
   "source": [
    "### Quantidade de valores nulos por coluna"
   ]
  },
  {
   "cell_type": "code",
   "execution_count": 6,
   "metadata": {},
   "outputs": [
    {
     "data": {
      "text/plain": [
       "<matplotlib.axes._subplots.AxesSubplot at 0x1e59105de80>"
      ]
     },
     "execution_count": 6,
     "metadata": {},
     "output_type": "execute_result"
    },
    {
     "data": {
      "image/png": "[encoded data removed]",
      "text/plain": [
       "<Figure size 432x288 with 1 Axes>"
      ]
     },
     "metadata": {
      "needs_background": "light"
     },
     "output_type": "display_data"
    }
   ],
   "source": [
    "df.isna().sum().plot.bar()"
   ]
  },
  {
   "cell_type": "code",
   "execution_count": 7,
   "metadata": {},
   "outputs": [
    {
     "name": "stdout",
     "output_type": "stream",
     "text": [
      "Shape: (1884, 23)\n"
     ]
    },
    {
     "data": {
      "text/plain": [
       "Bairro                0\n",
       "Codigo_wimoveis       0\n",
       "Endereco              0\n",
       "Forma                 0\n",
       "Municipio             0\n",
       "Site                  0\n",
       "Tipo                  0\n",
       "UF                    0\n",
       "URL                   0\n",
       "Dias_anuncio          0\n",
       "area_total            0\n",
       "area_util             0\n",
       "banheiros           337\n",
       "vagas               337\n",
       "quartos             105\n",
       "suites              695\n",
       "idade_do_imovel     635\n",
       "suite              1282\n",
       "venda                 0\n",
       "condominio         1176\n",
       "iptu               1496\n",
       "latitude            433\n",
       "longitude           433\n",
       "dtype: int64"
      ]
     },
     "execution_count": 7,
     "metadata": {},
     "output_type": "execute_result"
    }
   ],
   "source": [
    "df = df.dropna(subset=['venda','area_total','area_util'])\n",
    "print(\"Shape:\",df.shape)\n",
    "df.isna().sum()"
   ]
  },
  {
   "cell_type": "code",
   "execution_count": 8,
   "metadata": {},
   "outputs": [
    {
     "data": {
      "text/plain": [
       "\\nGrande Colorado\\n                          284\n",
       "\\nRegião Dos Lagos\\n                         250\n",
       "\\nSobradinho\\n                               238\n",
       "\\nSetor Habitacional Contagem\\n              172\n",
       "\\nAlto Da Boa Vista\\n                        156\n",
       "\\nAsa Norte\\n                                 94\n",
       "\\nPark Way\\n                                  80\n",
       "\\nLago Sul\\n                                  78\n",
       "\\nNoroeste\\n                                  74\n",
       "\\nSetor De Mansões De Sobradinho\\n            57\n",
       "\\nAsa Sul\\n                                   53\n",
       "\\nSetor Habitacional Jardim Botânico\\n        50\n",
       "\\nSudoeste\\n                                  50\n",
       "\\nPark Sul\\n                                  40\n",
       "\\nLago Norte\\n                                36\n",
       "\\nSetor Oeste\\n                               30\n",
       "\\nCentro\\n                                    29\n",
       "\\nNova Colina\\n                               27\n",
       "\\nCondomínio Império dos Nobres\\n             19\n",
       "\\nSobradinho Ii\\n                             18\n",
       "\\nSerra Azul\\n                                 5\n",
       "\\nSetor De Industrias\\n                        5\n",
       "\\nNúcleo Rural Lago Oeste\\n                    5\n",
       "\\nSetor Economico De Sobradinho\\n              3\n",
       "\\nEstancias Vila Rica\\n                        2\n",
       "\\nSetor Habitacional Tororo\\n                  2\n",
       "\\nCondomínio Vale dos Pinheiros\\n              2\n",
       "\\nCondomínio Mansões Sobradinho\\n              2\n",
       "\\nSetor De Clubes Esportivos Sul\\n             2\n",
       "\\nSetor Bancario Sul\\n                         2\n",
       "\\nVale Das Acacias\\n                           2\n",
       "\\nOctogonal\\n                                  2\n",
       "\\nSetor Habitacional Jardins Mangueiral\\n      1\n",
       "\\nSetor Hoteleiro Sul\\n                        1\n",
       "\\nSetor Habit. Fercal\\n                        1\n",
       "\\nVila Rabelo I\\n                              1\n",
       "\\nSetor de Hotéis e Turismo Norte\\n            1\n",
       "\\nSuperquadra Sudoeste\\n                       1\n",
       "\\nAlphaville\\n                                 1\n",
       "\\nSetor De Clubes Esportivos Norte\\n           1\n",
       "\\nZona Rural\\n                                 1\n",
       "\\nSetor Da Industria E Abastecimento\\n         1\n",
       "\\nSetores Complementares\\n                     1\n",
       "\\nCentro de Atividades\\n                       1\n",
       "\\nTaquari\\n                                    1\n",
       "\\nSetor de Habitações Individuais Norte\\n      1\n",
       "\\nSetor de Múltiplas Atividades Sul\\n          1\n",
       "Name: Bairro, dtype: int64"
      ]
     },
     "execution_count": 8,
     "metadata": {},
     "output_type": "execute_result"
    }
   ],
   "source": [
    "df.Bairro.value_counts()"
   ]
  },
  {
   "cell_type": "code",
   "execution_count": 9,
   "metadata": {},
   "outputs": [],
   "source": [
    "df.Bairro = df.Bairro.str.replace(\"\\n\",\"\")"
   ]
  },
  {
   "cell_type": "markdown",
   "metadata": {},
   "source": [
    "### Remove datapoints de bairros com menos de 18 imóveis (pega so 20 +)"
   ]
  },
  {
   "cell_type": "code",
   "execution_count": 10,
   "metadata": {},
   "outputs": [
    {
     "data": {
      "text/plain": [
       "Setor De Industrias                      5\n",
       "Núcleo Rural Lago Oeste                  5\n",
       "Serra Azul                               5\n",
       "Setor Economico De Sobradinho            3\n",
       "Condomínio Mansões Sobradinho            2\n",
       "Octogonal                                2\n",
       "Setor De Clubes Esportivos Sul           2\n",
       "Condomínio Vale dos Pinheiros            2\n",
       "Vale Das Acacias                         2\n",
       "Setor Habitacional Tororo                2\n",
       "Setor Bancario Sul                       2\n",
       "Estancias Vila Rica                      2\n",
       "Setores Complementares                   1\n",
       "Setor De Clubes Esportivos Norte         1\n",
       "Vila Rabelo I                            1\n",
       "Taquari                                  1\n",
       "Setor Hoteleiro Sul                      1\n",
       "Setor Habitacional Jardins Mangueiral    1\n",
       "Centro de Atividades                     1\n",
       "Setor de Hotéis e Turismo Norte          1\n",
       "Setor de Habitações Individuais Norte    1\n",
       "Superquadra Sudoeste                     1\n",
       "Zona Rural                               1\n",
       "Setor de Múltiplas Atividades Sul        1\n",
       "Alphaville                               1\n",
       "Setor Habit. Fercal                      1\n",
       "Setor Da Industria E Abastecimento       1\n",
       "Name: Bairro, dtype: int64"
      ]
     },
     "execution_count": 10,
     "metadata": {},
     "output_type": "execute_result"
    }
   ],
   "source": [
    "df.Bairro.value_counts()[20:]"
   ]
  },
  {
   "cell_type": "code",
   "execution_count": 11,
   "metadata": {},
   "outputs": [
    {
     "data": {
      "text/plain": [
       "array(['Setor De Industrias', 'Núcleo Rural Lago Oeste', 'Serra Azul',\n",
       "       'Setor Economico De Sobradinho', 'Condomínio Mansões Sobradinho',\n",
       "       'Octogonal', 'Setor De Clubes Esportivos Sul',\n",
       "       'Condomínio Vale dos Pinheiros', 'Vale Das Acacias',\n",
       "       'Setor Habitacional Tororo', 'Setor Bancario Sul',\n",
       "       'Estancias Vila Rica', 'Setores Complementares',\n",
       "       'Setor De Clubes Esportivos Norte', 'Vila Rabelo I', 'Taquari',\n",
       "       'Setor Hoteleiro Sul', 'Setor Habitacional Jardins Mangueiral',\n",
       "       'Centro de Atividades', 'Setor de Hotéis e Turismo Norte',\n",
       "       'Setor de Habitações Individuais Norte', 'Superquadra Sudoeste',\n",
       "       'Zona Rural', 'Setor de Múltiplas Atividades Sul', 'Alphaville',\n",
       "       'Setor Habit. Fercal', 'Setor Da Industria E Abastecimento'],\n",
       "      dtype=object)"
      ]
     },
     "execution_count": 11,
     "metadata": {},
     "output_type": "execute_result"
    }
   ],
   "source": [
    "bairros_reject = df.Bairro.value_counts()[20:].index.values\n",
    "bairros_reject"
   ]
  },
  {
   "cell_type": "code",
   "execution_count": 12,
   "metadata": {},
   "outputs": [
    {
     "name": "stdout",
     "output_type": "stream",
     "text": [
      "(1835, 23)\n"
     ]
    },
    {
     "data": {
      "text/html": [
       "<div>\n",
       "<style scoped>\n",
       "    .dataframe tbody tr th:only-of-type {\n",
       "        vertical-align: middle;\n",
       "    }\n",
       "\n",
       "    .dataframe tbody tr th {\n",
       "        vertical-align: top;\n",
       "    }\n",
       "\n",
       "    .dataframe thead th {\n",
       "        text-align: right;\n",
       "    }\n",
       "</style>\n",
       "<table border=\"1\" class=\"dataframe\">\n",
       "  <thead>\n",
       "    <tr style=\"text-align: right;\">\n",
       "      <th></th>\n",
       "      <th>Bairro</th>\n",
       "      <th>Codigo_wimoveis</th>\n",
       "      <th>Endereco</th>\n",
       "      <th>Forma</th>\n",
       "      <th>Municipio</th>\n",
       "      <th>Site</th>\n",
       "      <th>Tipo</th>\n",
       "      <th>UF</th>\n",
       "      <th>URL</th>\n",
       "      <th>Dias_anuncio</th>\n",
       "      <th>...</th>\n",
       "      <th>vagas</th>\n",
       "      <th>quartos</th>\n",
       "      <th>suites</th>\n",
       "      <th>idade_do_imovel</th>\n",
       "      <th>suite</th>\n",
       "      <th>venda</th>\n",
       "      <th>condominio</th>\n",
       "      <th>iptu</th>\n",
       "      <th>latitude</th>\n",
       "      <th>longitude</th>\n",
       "    </tr>\n",
       "  </thead>\n",
       "  <tbody>\n",
       "    <tr>\n",
       "      <th>0</th>\n",
       "      <td>Setor Habitacional Contagem</td>\n",
       "      <td>2942525335</td>\n",
       "      <td>Condominio Vivendas Serrana,  Setor Habitacion...</td>\n",
       "      <td>\\nComprar\\n</td>\n",
       "      <td>\\nSobradinho\\n</td>\n",
       "      <td>\\nWimoveis\\n</td>\n",
       "      <td>\\nCasas\\n</td>\n",
       "      <td>\\nDistrito Federal\\n</td>\n",
       "      <td>https://www.wimoveis.com.br/propriedades/casa-...</td>\n",
       "      <td>14</td>\n",
       "      <td>...</td>\n",
       "      <td>0.0</td>\n",
       "      <td>3.0</td>\n",
       "      <td>NaN</td>\n",
       "      <td>7</td>\n",
       "      <td>1.0</td>\n",
       "      <td>650000.0</td>\n",
       "      <td>NaN</td>\n",
       "      <td>NaN</td>\n",
       "      <td>-15.669039</td>\n",
       "      <td>-47.817472</td>\n",
       "    </tr>\n",
       "    <tr>\n",
       "      <th>3</th>\n",
       "      <td>Região Dos Lagos</td>\n",
       "      <td>2941341565</td>\n",
       "      <td>CONDOMINIO RK X,  Regiao Dos Lagos, Sobradinho</td>\n",
       "      <td>\\nComprar\\n</td>\n",
       "      <td>\\nSobradinho\\n</td>\n",
       "      <td>\\nWimoveis\\n</td>\n",
       "      <td>\\nCasas\\n</td>\n",
       "      <td>\\nDistrito Federal\\n</td>\n",
       "      <td>https://www.wimoveis.com.br/propriedades/casa-...</td>\n",
       "      <td>109</td>\n",
       "      <td>...</td>\n",
       "      <td>2.0</td>\n",
       "      <td>3.0</td>\n",
       "      <td>0.0</td>\n",
       "      <td>1</td>\n",
       "      <td>NaN</td>\n",
       "      <td>950000.0</td>\n",
       "      <td>NaN</td>\n",
       "      <td>NaN</td>\n",
       "      <td>-15.691065</td>\n",
       "      <td>-47.824731</td>\n",
       "    </tr>\n",
       "    <tr>\n",
       "      <th>4</th>\n",
       "      <td>Alto Da Boa Vista</td>\n",
       "      <td>2943419550</td>\n",
       "      <td>condominio Alto da Boa Vista,  Alto Da Boa Vis...</td>\n",
       "      <td>\\nComprar\\n</td>\n",
       "      <td>\\nSobradinho\\n</td>\n",
       "      <td>\\nWimoveis\\n</td>\n",
       "      <td>\\nCasas\\n</td>\n",
       "      <td>\\nDistrito Federal\\n</td>\n",
       "      <td>https://www.wimoveis.com.br/propriedades/casa-...</td>\n",
       "      <td>14</td>\n",
       "      <td>...</td>\n",
       "      <td>4.0</td>\n",
       "      <td>3.0</td>\n",
       "      <td>3.0</td>\n",
       "      <td>1</td>\n",
       "      <td>NaN</td>\n",
       "      <td>590000.0</td>\n",
       "      <td>400.0</td>\n",
       "      <td>NaN</td>\n",
       "      <td>-15.640650</td>\n",
       "      <td>-47.759264</td>\n",
       "    </tr>\n",
       "    <tr>\n",
       "      <th>5</th>\n",
       "      <td>Setor Habitacional Contagem</td>\n",
       "      <td>2930933252</td>\n",
       "      <td>CONDOMINIO VIVENDAS ALVORADA I ,  Setor Habita...</td>\n",
       "      <td>\\nComprar\\n</td>\n",
       "      <td>\\nSobradinho\\n</td>\n",
       "      <td>\\nWimoveis\\n</td>\n",
       "      <td>\\nCasas\\n</td>\n",
       "      <td>\\nDistrito Federal\\n</td>\n",
       "      <td>https://www.wimoveis.com.br/propriedades/casa-...</td>\n",
       "      <td>89</td>\n",
       "      <td>...</td>\n",
       "      <td>NaN</td>\n",
       "      <td>4.0</td>\n",
       "      <td>4.0</td>\n",
       "      <td>10</td>\n",
       "      <td>NaN</td>\n",
       "      <td>670000.0</td>\n",
       "      <td>650.0</td>\n",
       "      <td>NaN</td>\n",
       "      <td>-15.653887</td>\n",
       "      <td>-47.843234</td>\n",
       "    </tr>\n",
       "    <tr>\n",
       "      <th>6</th>\n",
       "      <td>Sobradinho</td>\n",
       "      <td>2941054134</td>\n",
       "      <td>Quadra  conjunto d,  Sobradinho, Sobradinho</td>\n",
       "      <td>\\nComprar\\n</td>\n",
       "      <td>\\nSobradinho\\n</td>\n",
       "      <td>\\nWimoveis\\n</td>\n",
       "      <td>\\nCasas\\n</td>\n",
       "      <td>\\nDistrito Federal\\n</td>\n",
       "      <td>https://www.wimoveis.com.br/propriedades/a-ven...</td>\n",
       "      <td>14</td>\n",
       "      <td>...</td>\n",
       "      <td>4.0</td>\n",
       "      <td>4.0</td>\n",
       "      <td>2.0</td>\n",
       "      <td>15</td>\n",
       "      <td>NaN</td>\n",
       "      <td>530000.0</td>\n",
       "      <td>NaN</td>\n",
       "      <td>NaN</td>\n",
       "      <td>-15.655362</td>\n",
       "      <td>-47.791509</td>\n",
       "    </tr>\n",
       "  </tbody>\n",
       "</table>\n",
       "<p>5 rows × 23 columns</p>\n",
       "</div>"
      ],
      "text/plain": [
       "                        Bairro Codigo_wimoveis  \\\n",
       "0  Setor Habitacional Contagem      2942525335   \n",
       "3             Região Dos Lagos      2941341565   \n",
       "4            Alto Da Boa Vista      2943419550   \n",
       "5  Setor Habitacional Contagem      2930933252   \n",
       "6                   Sobradinho      2941054134   \n",
       "\n",
       "                                            Endereco        Forma  \\\n",
       "0  Condominio Vivendas Serrana,  Setor Habitacion...  \\nComprar\\n   \n",
       "3     CONDOMINIO RK X,  Regiao Dos Lagos, Sobradinho  \\nComprar\\n   \n",
       "4  condominio Alto da Boa Vista,  Alto Da Boa Vis...  \\nComprar\\n   \n",
       "5  CONDOMINIO VIVENDAS ALVORADA I ,  Setor Habita...  \\nComprar\\n   \n",
       "6        Quadra  conjunto d,  Sobradinho, Sobradinho  \\nComprar\\n   \n",
       "\n",
       "        Municipio          Site       Tipo                    UF  \\\n",
       "0  \\nSobradinho\\n  \\nWimoveis\\n  \\nCasas\\n  \\nDistrito Federal\\n   \n",
       "3  \\nSobradinho\\n  \\nWimoveis\\n  \\nCasas\\n  \\nDistrito Federal\\n   \n",
       "4  \\nSobradinho\\n  \\nWimoveis\\n  \\nCasas\\n  \\nDistrito Federal\\n   \n",
       "5  \\nSobradinho\\n  \\nWimoveis\\n  \\nCasas\\n  \\nDistrito Federal\\n   \n",
       "6  \\nSobradinho\\n  \\nWimoveis\\n  \\nCasas\\n  \\nDistrito Federal\\n   \n",
       "\n",
       "                                                 URL Dias_anuncio    ...      \\\n",
       "0  https://www.wimoveis.com.br/propriedades/casa-...           14    ...       \n",
       "3  https://www.wimoveis.com.br/propriedades/casa-...          109    ...       \n",
       "4  https://www.wimoveis.com.br/propriedades/casa-...           14    ...       \n",
       "5  https://www.wimoveis.com.br/propriedades/casa-...           89    ...       \n",
       "6  https://www.wimoveis.com.br/propriedades/a-ven...           14    ...       \n",
       "\n",
       "   vagas  quartos  suites  idade_do_imovel  suite     venda condominio  iptu  \\\n",
       "0    0.0      3.0     NaN                7    1.0  650000.0        NaN   NaN   \n",
       "3    2.0      3.0     0.0                1    NaN  950000.0        NaN   NaN   \n",
       "4    4.0      3.0     3.0                1    NaN  590000.0      400.0   NaN   \n",
       "5    NaN      4.0     4.0               10    NaN  670000.0      650.0   NaN   \n",
       "6    4.0      4.0     2.0               15    NaN  530000.0        NaN   NaN   \n",
       "\n",
       "    latitude  longitude  \n",
       "0 -15.669039 -47.817472  \n",
       "3 -15.691065 -47.824731  \n",
       "4 -15.640650 -47.759264  \n",
       "5 -15.653887 -47.843234  \n",
       "6 -15.655362 -47.791509  \n",
       "\n",
       "[5 rows x 23 columns]"
      ]
     },
     "execution_count": 12,
     "metadata": {},
     "output_type": "execute_result"
    }
   ],
   "source": [
    "df = df[~df['Bairro'].isin(bairros_reject)]\n",
    "print(df.shape)\n",
    "df.head()"
   ]
  },
  {
   "cell_type": "code",
   "execution_count": 13,
   "metadata": {},
   "outputs": [
    {
     "data": {
      "text/plain": [
       "\\nCasas\\n           1492\n",
       "\\nApartamentos\\n     304\n",
       "\\nComerciais\\n        20\n",
       "\\nTerrenos\\n          17\n",
       "\\nRurais\\n             2\n",
       "Name: Tipo, dtype: int64"
      ]
     },
     "execution_count": 13,
     "metadata": {},
     "output_type": "execute_result"
    }
   ],
   "source": [
    "df.Tipo.value_counts()"
   ]
  },
  {
   "cell_type": "code",
   "execution_count": 14,
   "metadata": {},
   "outputs": [
    {
     "data": {
      "text/plain": [
       "Casas           1492\n",
       "Apartamentos     304\n",
       "Comerciais        20\n",
       "Terrenos          17\n",
       "Name: Tipo, dtype: int64"
      ]
     },
     "execution_count": 14,
     "metadata": {},
     "output_type": "execute_result"
    }
   ],
   "source": [
    "df.Tipo = df.Tipo.str.replace(\"\\n\",\"\")\n",
    "df = df[df.Tipo != \"Rurais\"]\n",
    "df.Tipo.value_counts()"
   ]
  },
  {
   "cell_type": "code",
   "execution_count": 15,
   "metadata": {},
   "outputs": [],
   "source": [
    "df.quartos = df.quartos.fillna(df.quartos.median())"
   ]
  },
  {
   "cell_type": "code",
   "execution_count": 16,
   "metadata": {},
   "outputs": [
    {
     "name": "stdout",
     "output_type": "stream",
     "text": [
      "(1833, 6)\n"
     ]
    },
    {
     "data": {
      "text/html": [
       "<div>\n",
       "<style scoped>\n",
       "    .dataframe tbody tr th:only-of-type {\n",
       "        vertical-align: middle;\n",
       "    }\n",
       "\n",
       "    .dataframe tbody tr th {\n",
       "        vertical-align: top;\n",
       "    }\n",
       "\n",
       "    .dataframe thead th {\n",
       "        text-align: right;\n",
       "    }\n",
       "</style>\n",
       "<table border=\"1\" class=\"dataframe\">\n",
       "  <thead>\n",
       "    <tr style=\"text-align: right;\">\n",
       "      <th></th>\n",
       "      <th>Bairro</th>\n",
       "      <th>area_total</th>\n",
       "      <th>area_util</th>\n",
       "      <th>Tipo</th>\n",
       "      <th>quartos</th>\n",
       "      <th>venda</th>\n",
       "    </tr>\n",
       "  </thead>\n",
       "  <tbody>\n",
       "    <tr>\n",
       "      <th>0</th>\n",
       "      <td>Setor Habitacional Contagem</td>\n",
       "      <td>600.0</td>\n",
       "      <td>227.0</td>\n",
       "      <td>Casas</td>\n",
       "      <td>3.0</td>\n",
       "      <td>650000.0</td>\n",
       "    </tr>\n",
       "    <tr>\n",
       "      <th>3</th>\n",
       "      <td>Região Dos Lagos</td>\n",
       "      <td>504.0</td>\n",
       "      <td>360.0</td>\n",
       "      <td>Casas</td>\n",
       "      <td>3.0</td>\n",
       "      <td>950000.0</td>\n",
       "    </tr>\n",
       "    <tr>\n",
       "      <th>4</th>\n",
       "      <td>Alto Da Boa Vista</td>\n",
       "      <td>504.0</td>\n",
       "      <td>201.0</td>\n",
       "      <td>Casas</td>\n",
       "      <td>3.0</td>\n",
       "      <td>590000.0</td>\n",
       "    </tr>\n",
       "    <tr>\n",
       "      <th>5</th>\n",
       "      <td>Setor Habitacional Contagem</td>\n",
       "      <td>500.0</td>\n",
       "      <td>380.0</td>\n",
       "      <td>Casas</td>\n",
       "      <td>4.0</td>\n",
       "      <td>670000.0</td>\n",
       "    </tr>\n",
       "    <tr>\n",
       "      <th>6</th>\n",
       "      <td>Sobradinho</td>\n",
       "      <td>250.0</td>\n",
       "      <td>250.0</td>\n",
       "      <td>Casas</td>\n",
       "      <td>4.0</td>\n",
       "      <td>530000.0</td>\n",
       "    </tr>\n",
       "  </tbody>\n",
       "</table>\n",
       "</div>"
      ],
      "text/plain": [
       "                        Bairro  area_total  area_util   Tipo  quartos  \\\n",
       "0  Setor Habitacional Contagem       600.0      227.0  Casas      3.0   \n",
       "3             Região Dos Lagos       504.0      360.0  Casas      3.0   \n",
       "4            Alto Da Boa Vista       504.0      201.0  Casas      3.0   \n",
       "5  Setor Habitacional Contagem       500.0      380.0  Casas      4.0   \n",
       "6                   Sobradinho       250.0      250.0  Casas      4.0   \n",
       "\n",
       "      venda  \n",
       "0  650000.0  \n",
       "3  950000.0  \n",
       "4  590000.0  \n",
       "5  670000.0  \n",
       "6  530000.0  "
      ]
     },
     "execution_count": 16,
     "metadata": {},
     "output_type": "execute_result"
    }
   ],
   "source": [
    "df_regression = df[['Bairro', 'area_total', 'area_util', 'Tipo', 'quartos','venda']]\n",
    "print(df_regression.shape)\n",
    "df_regression.head()"
   ]
  },
  {
   "cell_type": "code",
   "execution_count": 17,
   "metadata": {},
   "outputs": [
    {
     "data": {
      "text/plain": [
       "Bairro        0\n",
       "area_total    0\n",
       "area_util     0\n",
       "Tipo          0\n",
       "quartos       0\n",
       "venda         0\n",
       "dtype: int64"
      ]
     },
     "execution_count": 17,
     "metadata": {},
     "output_type": "execute_result"
    }
   ],
   "source": [
    "df_regression.isna().sum()"
   ]
  },
  {
   "cell_type": "code",
   "execution_count": 18,
   "metadata": {},
   "outputs": [
    {
     "data": {
      "text/plain": [
       "(1833, 10)"
      ]
     },
     "execution_count": 18,
     "metadata": {},
     "output_type": "execute_result"
    }
   ],
   "source": [
    "one_hot = pd.get_dummies(df_regression['Tipo'],prefix=\"tipo\")\n",
    "df_regression = df_regression.join(one_hot)\n",
    "df_regression.shape"
   ]
  },
  {
   "cell_type": "code",
   "execution_count": 19,
   "metadata": {},
   "outputs": [
    {
     "data": {
      "text/html": [
       "<div>\n",
       "<style scoped>\n",
       "    .dataframe tbody tr th:only-of-type {\n",
       "        vertical-align: middle;\n",
       "    }\n",
       "\n",
       "    .dataframe tbody tr th {\n",
       "        vertical-align: top;\n",
       "    }\n",
       "\n",
       "    .dataframe thead th {\n",
       "        text-align: right;\n",
       "    }\n",
       "</style>\n",
       "<table border=\"1\" class=\"dataframe\">\n",
       "  <thead>\n",
       "    <tr style=\"text-align: right;\">\n",
       "      <th></th>\n",
       "      <th>Bairro</th>\n",
       "      <th>area_total</th>\n",
       "      <th>area_util</th>\n",
       "      <th>Tipo</th>\n",
       "      <th>quartos</th>\n",
       "      <th>venda</th>\n",
       "      <th>tipo_Apartamentos</th>\n",
       "      <th>tipo_Casas</th>\n",
       "      <th>tipo_Comerciais</th>\n",
       "      <th>tipo_Terrenos</th>\n",
       "    </tr>\n",
       "  </thead>\n",
       "  <tbody>\n",
       "    <tr>\n",
       "      <th>0</th>\n",
       "      <td>Setor Habitacional Contagem</td>\n",
       "      <td>600.0</td>\n",
       "      <td>227.0</td>\n",
       "      <td>Casas</td>\n",
       "      <td>3.0</td>\n",
       "      <td>650000.0</td>\n",
       "      <td>0</td>\n",
       "      <td>1</td>\n",
       "      <td>0</td>\n",
       "      <td>0</td>\n",
       "    </tr>\n",
       "    <tr>\n",
       "      <th>3</th>\n",
       "      <td>Região Dos Lagos</td>\n",
       "      <td>504.0</td>\n",
       "      <td>360.0</td>\n",
       "      <td>Casas</td>\n",
       "      <td>3.0</td>\n",
       "      <td>950000.0</td>\n",
       "      <td>0</td>\n",
       "      <td>1</td>\n",
       "      <td>0</td>\n",
       "      <td>0</td>\n",
       "    </tr>\n",
       "    <tr>\n",
       "      <th>4</th>\n",
       "      <td>Alto Da Boa Vista</td>\n",
       "      <td>504.0</td>\n",
       "      <td>201.0</td>\n",
       "      <td>Casas</td>\n",
       "      <td>3.0</td>\n",
       "      <td>590000.0</td>\n",
       "      <td>0</td>\n",
       "      <td>1</td>\n",
       "      <td>0</td>\n",
       "      <td>0</td>\n",
       "    </tr>\n",
       "    <tr>\n",
       "      <th>5</th>\n",
       "      <td>Setor Habitacional Contagem</td>\n",
       "      <td>500.0</td>\n",
       "      <td>380.0</td>\n",
       "      <td>Casas</td>\n",
       "      <td>4.0</td>\n",
       "      <td>670000.0</td>\n",
       "      <td>0</td>\n",
       "      <td>1</td>\n",
       "      <td>0</td>\n",
       "      <td>0</td>\n",
       "    </tr>\n",
       "    <tr>\n",
       "      <th>6</th>\n",
       "      <td>Sobradinho</td>\n",
       "      <td>250.0</td>\n",
       "      <td>250.0</td>\n",
       "      <td>Casas</td>\n",
       "      <td>4.0</td>\n",
       "      <td>530000.0</td>\n",
       "      <td>0</td>\n",
       "      <td>1</td>\n",
       "      <td>0</td>\n",
       "      <td>0</td>\n",
       "    </tr>\n",
       "  </tbody>\n",
       "</table>\n",
       "</div>"
      ],
      "text/plain": [
       "                        Bairro  area_total  area_util   Tipo  quartos  \\\n",
       "0  Setor Habitacional Contagem       600.0      227.0  Casas      3.0   \n",
       "3             Região Dos Lagos       504.0      360.0  Casas      3.0   \n",
       "4            Alto Da Boa Vista       504.0      201.0  Casas      3.0   \n",
       "5  Setor Habitacional Contagem       500.0      380.0  Casas      4.0   \n",
       "6                   Sobradinho       250.0      250.0  Casas      4.0   \n",
       "\n",
       "      venda  tipo_Apartamentos  tipo_Casas  tipo_Comerciais  tipo_Terrenos  \n",
       "0  650000.0                  0           1                0              0  \n",
       "3  950000.0                  0           1                0              0  \n",
       "4  590000.0                  0           1                0              0  \n",
       "5  670000.0                  0           1                0              0  \n",
       "6  530000.0                  0           1                0              0  "
      ]
     },
     "execution_count": 19,
     "metadata": {},
     "output_type": "execute_result"
    }
   ],
   "source": [
    "df_regression.head()"
   ]
  },
  {
   "cell_type": "code",
   "execution_count": 20,
   "metadata": {},
   "outputs": [
    {
     "data": {
      "text/html": [
       "<div>\n",
       "<style scoped>\n",
       "    .dataframe tbody tr th:only-of-type {\n",
       "        vertical-align: middle;\n",
       "    }\n",
       "\n",
       "    .dataframe tbody tr th {\n",
       "        vertical-align: top;\n",
       "    }\n",
       "\n",
       "    .dataframe thead th {\n",
       "        text-align: right;\n",
       "    }\n",
       "</style>\n",
       "<table border=\"1\" class=\"dataframe\">\n",
       "  <thead>\n",
       "    <tr style=\"text-align: right;\">\n",
       "      <th></th>\n",
       "      <th>area_total</th>\n",
       "      <th>area_util</th>\n",
       "      <th>quartos</th>\n",
       "      <th>venda</th>\n",
       "      <th>tipo_Apartamentos</th>\n",
       "      <th>tipo_Casas</th>\n",
       "      <th>tipo_Comerciais</th>\n",
       "      <th>tipo_Terrenos</th>\n",
       "      <th>bairro_Alto Da Boa Vista</th>\n",
       "      <th>bairro_Asa Norte</th>\n",
       "      <th>...</th>\n",
       "      <th>bairro_Park Sul</th>\n",
       "      <th>bairro_Park Way</th>\n",
       "      <th>bairro_Região Dos Lagos</th>\n",
       "      <th>bairro_Setor De Mansões De Sobradinho</th>\n",
       "      <th>bairro_Setor Habitacional Contagem</th>\n",
       "      <th>bairro_Setor Habitacional Jardim Botânico</th>\n",
       "      <th>bairro_Setor Oeste</th>\n",
       "      <th>bairro_Sobradinho</th>\n",
       "      <th>bairro_Sobradinho Ii</th>\n",
       "      <th>bairro_Sudoeste</th>\n",
       "    </tr>\n",
       "  </thead>\n",
       "  <tbody>\n",
       "    <tr>\n",
       "      <th>0</th>\n",
       "      <td>600.0</td>\n",
       "      <td>227.0</td>\n",
       "      <td>3.0</td>\n",
       "      <td>650000.0</td>\n",
       "      <td>0</td>\n",
       "      <td>1</td>\n",
       "      <td>0</td>\n",
       "      <td>0</td>\n",
       "      <td>0</td>\n",
       "      <td>0</td>\n",
       "      <td>...</td>\n",
       "      <td>0</td>\n",
       "      <td>0</td>\n",
       "      <td>0</td>\n",
       "      <td>0</td>\n",
       "      <td>1</td>\n",
       "      <td>0</td>\n",
       "      <td>0</td>\n",
       "      <td>0</td>\n",
       "      <td>0</td>\n",
       "      <td>0</td>\n",
       "    </tr>\n",
       "    <tr>\n",
       "      <th>3</th>\n",
       "      <td>504.0</td>\n",
       "      <td>360.0</td>\n",
       "      <td>3.0</td>\n",
       "      <td>950000.0</td>\n",
       "      <td>0</td>\n",
       "      <td>1</td>\n",
       "      <td>0</td>\n",
       "      <td>0</td>\n",
       "      <td>0</td>\n",
       "      <td>0</td>\n",
       "      <td>...</td>\n",
       "      <td>0</td>\n",
       "      <td>0</td>\n",
       "      <td>1</td>\n",
       "      <td>0</td>\n",
       "      <td>0</td>\n",
       "      <td>0</td>\n",
       "      <td>0</td>\n",
       "      <td>0</td>\n",
       "      <td>0</td>\n",
       "      <td>0</td>\n",
       "    </tr>\n",
       "    <tr>\n",
       "      <th>4</th>\n",
       "      <td>504.0</td>\n",
       "      <td>201.0</td>\n",
       "      <td>3.0</td>\n",
       "      <td>590000.0</td>\n",
       "      <td>0</td>\n",
       "      <td>1</td>\n",
       "      <td>0</td>\n",
       "      <td>0</td>\n",
       "      <td>1</td>\n",
       "      <td>0</td>\n",
       "      <td>...</td>\n",
       "      <td>0</td>\n",
       "      <td>0</td>\n",
       "      <td>0</td>\n",
       "      <td>0</td>\n",
       "      <td>0</td>\n",
       "      <td>0</td>\n",
       "      <td>0</td>\n",
       "      <td>0</td>\n",
       "      <td>0</td>\n",
       "      <td>0</td>\n",
       "    </tr>\n",
       "    <tr>\n",
       "      <th>5</th>\n",
       "      <td>500.0</td>\n",
       "      <td>380.0</td>\n",
       "      <td>4.0</td>\n",
       "      <td>670000.0</td>\n",
       "      <td>0</td>\n",
       "      <td>1</td>\n",
       "      <td>0</td>\n",
       "      <td>0</td>\n",
       "      <td>0</td>\n",
       "      <td>0</td>\n",
       "      <td>...</td>\n",
       "      <td>0</td>\n",
       "      <td>0</td>\n",
       "      <td>0</td>\n",
       "      <td>0</td>\n",
       "      <td>1</td>\n",
       "      <td>0</td>\n",
       "      <td>0</td>\n",
       "      <td>0</td>\n",
       "      <td>0</td>\n",
       "      <td>0</td>\n",
       "    </tr>\n",
       "    <tr>\n",
       "      <th>6</th>\n",
       "      <td>250.0</td>\n",
       "      <td>250.0</td>\n",
       "      <td>4.0</td>\n",
       "      <td>530000.0</td>\n",
       "      <td>0</td>\n",
       "      <td>1</td>\n",
       "      <td>0</td>\n",
       "      <td>0</td>\n",
       "      <td>0</td>\n",
       "      <td>0</td>\n",
       "      <td>...</td>\n",
       "      <td>0</td>\n",
       "      <td>0</td>\n",
       "      <td>0</td>\n",
       "      <td>0</td>\n",
       "      <td>0</td>\n",
       "      <td>0</td>\n",
       "      <td>0</td>\n",
       "      <td>1</td>\n",
       "      <td>0</td>\n",
       "      <td>0</td>\n",
       "    </tr>\n",
       "  </tbody>\n",
       "</table>\n",
       "<p>5 rows × 28 columns</p>\n",
       "</div>"
      ],
      "text/plain": [
       "   area_total  area_util  quartos     venda  tipo_Apartamentos  tipo_Casas  \\\n",
       "0       600.0      227.0      3.0  650000.0                  0           1   \n",
       "3       504.0      360.0      3.0  950000.0                  0           1   \n",
       "4       504.0      201.0      3.0  590000.0                  0           1   \n",
       "5       500.0      380.0      4.0  670000.0                  0           1   \n",
       "6       250.0      250.0      4.0  530000.0                  0           1   \n",
       "\n",
       "   tipo_Comerciais  tipo_Terrenos  bairro_Alto Da Boa Vista  bairro_Asa Norte  \\\n",
       "0                0              0                         0                 0   \n",
       "3                0              0                         0                 0   \n",
       "4                0              0                         1                 0   \n",
       "5                0              0                         0                 0   \n",
       "6                0              0                         0                 0   \n",
       "\n",
       "        ...         bairro_Park Sul  bairro_Park Way  bairro_Região Dos Lagos  \\\n",
       "0       ...                       0                0                        0   \n",
       "3       ...                       0                0                        1   \n",
       "4       ...                       0                0                        0   \n",
       "5       ...                       0                0                        0   \n",
       "6       ...                       0                0                        0   \n",
       "\n",
       "   bairro_Setor De Mansões De Sobradinho  bairro_Setor Habitacional Contagem  \\\n",
       "0                                      0                                   1   \n",
       "3                                      0                                   0   \n",
       "4                                      0                                   0   \n",
       "5                                      0                                   1   \n",
       "6                                      0                                   0   \n",
       "\n",
       "   bairro_Setor Habitacional Jardim Botânico  bairro_Setor Oeste  \\\n",
       "0                                          0                   0   \n",
       "3                                          0                   0   \n",
       "4                                          0                   0   \n",
       "5                                          0                   0   \n",
       "6                                          0                   0   \n",
       "\n",
       "   bairro_Sobradinho  bairro_Sobradinho Ii  bairro_Sudoeste  \n",
       "0                  0                     0                0  \n",
       "3                  0                     0                0  \n",
       "4                  0                     0                0  \n",
       "5                  0                     0                0  \n",
       "6                  1                     0                0  \n",
       "\n",
       "[5 rows x 28 columns]"
      ]
     },
     "execution_count": 20,
     "metadata": {},
     "output_type": "execute_result"
    }
   ],
   "source": [
    "one_hot = pd.get_dummies(df_regression['Bairro'], prefix=\"bairro\")\n",
    "df_regression = df_regression.join(one_hot)\n",
    "\n",
    "df_regression = df_regression.drop(['Tipo', 'Bairro'], axis=1)\n",
    "\n",
    "df_regression.shape\n",
    "df_regression.head()"
   ]
  },
  {
   "cell_type": "code",
   "execution_count": 21,
   "metadata": {},
   "outputs": [
    {
     "data": {
      "text/plain": [
       "((1833, 27), (1833,))"
      ]
     },
     "execution_count": 21,
     "metadata": {},
     "output_type": "execute_result"
    }
   ],
   "source": [
    "X = df_regression.drop(['venda'],axis=1)\n",
    "y = df_regression['venda']\n",
    "X.shape, y.shape"
   ]
  },
  {
   "cell_type": "code",
   "execution_count": 22,
   "metadata": {},
   "outputs": [
    {
     "data": {
      "text/plain": [
       "((1649, 27), (184, 27), (1649,), (184,))"
      ]
     },
     "execution_count": 22,
     "metadata": {},
     "output_type": "execute_result"
    }
   ],
   "source": [
    "X_train, X_test, y_train, y_test = train_test_split(X, y, test_size=0.1, random_state=42)\n",
    "X_train.shape, X_test.shape, y_train.shape, y_test.shape"
   ]
  },
  {
   "cell_type": "code",
   "execution_count": 23,
   "metadata": {},
   "outputs": [
    {
     "data": {
      "text/plain": [
       "RandomForestRegressor(bootstrap=True, criterion='mse', max_depth=None,\n",
       "           max_features='auto', max_leaf_nodes=None,\n",
       "           min_impurity_decrease=0.0, min_impurity_split=None,\n",
       "           min_samples_leaf=1, min_samples_split=2,\n",
       "           min_weight_fraction_leaf=0.0, n_estimators=100, n_jobs=None,\n",
       "           oob_score=False, random_state=None, verbose=0, warm_start=False)"
      ]
     },
     "execution_count": 23,
     "metadata": {},
     "output_type": "execute_result"
    }
   ],
   "source": [
    "reg = RandomForestRegressor(n_estimators=100) \n",
    "reg"
   ]
  },
  {
   "cell_type": "code",
   "execution_count": 24,
   "metadata": {},
   "outputs": [],
   "source": [
    "reg.fit(X_train, y_train)\n",
    "train_predict = reg.predict(X_train)\n",
    "test_predict = reg.predict(X_test)"
   ]
  },
  {
   "cell_type": "code",
   "execution_count": 25,
   "metadata": {},
   "outputs": [
    {
     "name": "stdout",
     "output_type": "stream",
     "text": [
      "Mean squared error: 191475665613.88\n",
      "Root Mean squared error: 437579.32\n",
      "R2 score: 0.80\n"
     ]
    }
   ],
   "source": [
    "print(\"Mean squared error: %.2f\"\n",
    "      % mean_squared_error(y_test, test_predict))\n",
    "\n",
    "print(\"Root Mean squared error: %.2f\"\n",
    "      % math.sqrt(mean_squared_error(y_test, test_predict)))\n",
    "\n",
    "print('R2 score: %.2f' % r2_score(y_test, test_predict))"
   ]
  },
  {
   "cell_type": "code",
   "execution_count": 26,
   "metadata": {},
   "outputs": [
    {
     "name": "stdout",
     "output_type": "stream",
     "text": [
      "Feature ranking:\n",
      "1. feature bairro_Lago Sul (0.348384)\n",
      "2. feature area_util (0.346707)\n",
      "3. feature quartos (0.082781)\n",
      "4. feature tipo_Apartamentos (0.081596)\n",
      "5. feature area_total (0.072572)\n",
      "6. feature tipo_Casas (0.011840)\n",
      "7. feature bairro_Park Way (0.011560)\n",
      "8. feature bairro_Lago Norte (0.009761)\n",
      "9. feature bairro_Setor Habitacional Jardim Botânico (0.009099)\n",
      "10. feature bairro_Região Dos Lagos (0.005736)\n",
      "11. feature tipo_Terrenos (0.004342)\n",
      "12. feature bairro_Grande Colorado (0.002976)\n",
      "13. feature bairro_Noroeste (0.002530)\n",
      "14. feature bairro_Park Sul (0.002155)\n",
      "15. feature bairro_Asa Sul (0.002127)\n",
      "16. feature bairro_Setor De Mansões De Sobradinho (0.001408)\n",
      "17. feature bairro_Asa Norte (0.000987)\n",
      "18. feature bairro_Centro (0.000773)\n",
      "19. feature bairro_Sobradinho (0.000685)\n",
      "20. feature bairro_Sudoeste (0.000552)\n",
      "21. feature bairro_Alto Da Boa Vista (0.000386)\n",
      "22. feature bairro_Setor Habitacional Contagem (0.000378)\n",
      "23. feature bairro_Setor Oeste (0.000251)\n",
      "24. feature tipo_Comerciais (0.000175)\n",
      "25. feature bairro_Nova Colina (0.000131)\n",
      "26. feature bairro_Condomínio Império dos Nobres (0.000082)\n",
      "27. feature bairro_Sobradinho Ii (0.000023)\n"
     ]
    },
    {
     "data": {
      "image/png": "[encoded data removed]",
      "text/plain": [
       "<Figure size 720x360 with 1 Axes>"
      ]
     },
     "metadata": {
      "needs_background": "light"
     },
     "output_type": "display_data"
    }
   ],
   "source": [
    " plt.rcParams['figure.figsize'] = [10, 5]\n",
    "importances = reg.feature_importances_\n",
    "std = np.std([tree.feature_importances_ for tree in reg.estimators_],\n",
    "             axis=0)\n",
    "indices = np.argsort(importances)[::-1]\n",
    "\n",
    "# Print the feature ranking\n",
    "print(\"Feature ranking:\")\n",
    "\n",
    "for f in range(X_train.shape[1]):\n",
    "    print(\"%d. feature %s (%f)\" % (f + 1, X_train.columns[indices[f]], importances[indices[f]]))\n",
    "\n",
    "# Plot the feature importances of the forest\n",
    "plt.figure()\n",
    "plt.title(\"Feature importances\")\n",
    "plt.bar(range(X_train.shape[1]), importances[indices],\n",
    "       color=\"r\", yerr=std[indices], align=\"center\")\n",
    "plt.xticks(range(X_train.shape[1]), X_train.columns[indices],rotation=90)\n",
    "plt.xlim([-1, X_train.shape[1]])\n",
    "plt.show()"
   ]
  },
  {
   "cell_type": "code",
   "execution_count": 28,
   "metadata": {},
   "outputs": [
    {
     "data": {
      "image/png": "[encoded data removed]",
      "text/plain": [
       "<Figure size 720x360 with 2 Axes>"
      ]
     },
     "metadata": {
      "needs_background": "light"
     },
     "output_type": "display_data"
    }
   ],
   "source": [
    "reg2 = RandomForestRegressor(n_estimators=100) \n",
    "\n",
    "visualizer = ResidualsPlot(reg2)\n",
    "visualizer.fit(X_train, y_train)  # Fit the training data to the model\n",
    "visualizer.score(X_test, y_test)  # Evaluate the model on the test data\n",
    "visualizer.poof()                 # Draw/show/poof the data"
   ]
  },
  {
   "cell_type": "code",
   "execution_count": null,
   "metadata": {},
   "outputs": [],
   "source": []
  }
 ],
 "metadata": {
  "kernelspec": {
   "display_name": "Python 3",
   "language": "python",
   "name": "python3"
  },
  "language_info": {
   "codemirror_mode": {
    "name": "ipython",
    "version": 3
   },
   "file_extension": ".py",
   "mimetype": "text/x-python",
   "name": "python",
   "nbconvert_exporter": "python",
   "pygments_lexer": "ipython3",
   "version": "3.7.1"
  }
 },
 "nbformat": 4,
 "nbformat_minor": 2
}
