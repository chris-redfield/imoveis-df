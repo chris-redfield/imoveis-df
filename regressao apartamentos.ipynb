{
 "cells": [
  {
   "cell_type": "code",
   "execution_count": 1,
   "metadata": {},
   "outputs": [],
   "source": [
    "import pandas as pd\n",
    "import os\n",
    "import matplotlib.pyplot as plt\n",
    "\n",
    "from sklearn.ensemble import RandomForestRegressor\n",
    "from sklearn.model_selection import train_test_split\n",
    "from sklearn.metrics import mean_squared_error, r2_score, classification_report\n",
    "import math\n",
    "import numpy as np\n",
    "\n",
    "from sklearn.preprocessing import StandardScaler\n",
    "#from yellowbrick.regressor import ResidualsPlot"
   ]
  },
  {
   "cell_type": "markdown",
   "metadata": {},
   "source": [
    "##  Carrega dados"
   ]
  },
  {
   "cell_type": "code",
   "execution_count": 2,
   "metadata": {},
   "outputs": [
    {
     "name": "stdout",
     "output_type": "stream",
     "text": [
      "(30748, 17)\n"
     ]
    },
    {
     "data": {
      "text/html": [
       "<div>\n",
       "<style scoped>\n",
       "    .dataframe tbody tr th:only-of-type {\n",
       "        vertical-align: middle;\n",
       "    }\n",
       "\n",
       "    .dataframe tbody tr th {\n",
       "        vertical-align: top;\n",
       "    }\n",
       "\n",
       "    .dataframe thead th {\n",
       "        text-align: right;\n",
       "    }\n",
       "</style>\n",
       "<table border=\"1\" class=\"dataframe\">\n",
       "  <thead>\n",
       "    <tr style=\"text-align: right;\">\n",
       "      <th></th>\n",
       "      <th>nome</th>\n",
       "      <th>valor_venda</th>\n",
       "      <th>url</th>\n",
       "      <th>condominio</th>\n",
       "      <th>IPTU</th>\n",
       "      <th>lat</th>\n",
       "      <th>long</th>\n",
       "      <th>area_total</th>\n",
       "      <th>area_util</th>\n",
       "      <th>banheiros</th>\n",
       "      <th>vagas</th>\n",
       "      <th>quartos</th>\n",
       "      <th>suites</th>\n",
       "      <th>idade</th>\n",
       "      <th>endereco</th>\n",
       "      <th>bairro</th>\n",
       "      <th>idade_anuncio</th>\n",
       "    </tr>\n",
       "  </thead>\n",
       "  <tbody>\n",
       "    <tr>\n",
       "      <th>0</th>\n",
       "      <td>Tower duplex  90m2</td>\n",
       "      <td>550000</td>\n",
       "      <td>https://www.wimoveis.com.br/propriedades/tower...</td>\n",
       "      <td>R$ 730</td>\n",
       "      <td>R$ 690</td>\n",
       "      <td>-15.842635250484830</td>\n",
       "      <td>-48.024645807548495</td>\n",
       "      <td>89m²</td>\n",
       "      <td>89m²</td>\n",
       "      <td>3.0</td>\n",
       "      <td>2.0</td>\n",
       "      <td>2.0</td>\n",
       "      <td>2.0</td>\n",
       "      <td>6</td>\n",
       "      <td>Qd 206,  Aguas Sul, Águas Claras</td>\n",
       "      <td>,  Aguas Sul, Águas Claras</td>\n",
       "      <td>52</td>\n",
       "    </tr>\n",
       "    <tr>\n",
       "      <th>1</th>\n",
       "      <td>SELECTION 36</td>\n",
       "      <td>2150000</td>\n",
       "      <td>https://www.wimoveis.com.br/propriedades/selec...</td>\n",
       "      <td>NaN</td>\n",
       "      <td>NaN</td>\n",
       "      <td>-15.742129999999999</td>\n",
       "      <td>-47.910919999999997</td>\n",
       "      <td>224m²</td>\n",
       "      <td>224m²</td>\n",
       "      <td>6.0</td>\n",
       "      <td>3.0</td>\n",
       "      <td>4.0</td>\n",
       "      <td>4.0</td>\n",
       "      <td>4</td>\n",
       "      <td>Quadra SQNW 110,  Noroeste, Brasília</td>\n",
       "      <td>,  Noroeste, Brasília</td>\n",
       "      <td>6</td>\n",
       "    </tr>\n",
       "    <tr>\n",
       "      <th>2</th>\n",
       "      <td>Elevador + Apartamento de 3 Quartos + Excelent...</td>\n",
       "      <td>420000</td>\n",
       "      <td>https://www.wimoveis.com.br/propriedades/eleva...</td>\n",
       "      <td>NaN</td>\n",
       "      <td>NaN</td>\n",
       "      <td>-15.739203900000000</td>\n",
       "      <td>-47.902473900000020</td>\n",
       "      <td>NaN</td>\n",
       "      <td>65m²</td>\n",
       "      <td>2.0</td>\n",
       "      <td>0.0</td>\n",
       "      <td>3.0</td>\n",
       "      <td>0.0</td>\n",
       "      <td>NaN</td>\n",
       "      <td>SCRN 706/707 BLOCO F - COMPLETO ARMÁRIOS- EXCE...</td>\n",
       "      <td>,  Asa Norte, Brasília</td>\n",
       "      <td>9</td>\n",
       "    </tr>\n",
       "    <tr>\n",
       "      <th>3</th>\n",
       "      <td>01, 02 QUARTOS E LOJA COMERCIAL - MEET NOROESTE</td>\n",
       "      <td>332420</td>\n",
       "      <td>https://www.wimoveis.com.br/propriedades/01-02...</td>\n",
       "      <td>NaN</td>\n",
       "      <td>NaN</td>\n",
       "      <td>-15.748856500000000</td>\n",
       "      <td>-47.896520000000010</td>\n",
       "      <td>NaN</td>\n",
       "      <td>NaN</td>\n",
       "      <td>NaN</td>\n",
       "      <td>NaN</td>\n",
       "      <td>NaN</td>\n",
       "      <td>NaN</td>\n",
       "      <td>NaN</td>\n",
       "      <td>NaN</td>\n",
       "      <td>NaN</td>\n",
       "      <td>14</td>\n",
       "    </tr>\n",
       "    <tr>\n",
       "      <th>4</th>\n",
       "      <td>Elegance Park Sul de 03 Suítes</td>\n",
       "      <td>1333800</td>\n",
       "      <td>https://www.wimoveis.com.br/propriedades/elega...</td>\n",
       "      <td>NaN</td>\n",
       "      <td>NaN</td>\n",
       "      <td>-15.827143900000000</td>\n",
       "      <td>-47.952883600000010</td>\n",
       "      <td>117m²</td>\n",
       "      <td>117m²</td>\n",
       "      <td>5.0</td>\n",
       "      <td>2.0</td>\n",
       "      <td>3.0</td>\n",
       "      <td>3.0</td>\n",
       "      <td>1</td>\n",
       "      <td>Sgcv 23,  Park Sul, Brasília</td>\n",
       "      <td>,  Park Sul, Brasília</td>\n",
       "      <td>8</td>\n",
       "    </tr>\n",
       "  </tbody>\n",
       "</table>\n",
       "</div>"
      ],
      "text/plain": [
       "                                                nome  valor_venda  \\\n",
       "0                                 Tower duplex  90m2       550000   \n",
       "1                                       SELECTION 36      2150000   \n",
       "2  Elevador + Apartamento de 3 Quartos + Excelent...       420000   \n",
       "3    01, 02 QUARTOS E LOJA COMERCIAL - MEET NOROESTE       332420   \n",
       "4                     Elegance Park Sul de 03 Suítes      1333800   \n",
       "\n",
       "                                                 url condominio    IPTU  \\\n",
       "0  https://www.wimoveis.com.br/propriedades/tower...     R$ 730  R$ 690   \n",
       "1  https://www.wimoveis.com.br/propriedades/selec...        NaN     NaN   \n",
       "2  https://www.wimoveis.com.br/propriedades/eleva...        NaN     NaN   \n",
       "3  https://www.wimoveis.com.br/propriedades/01-02...        NaN     NaN   \n",
       "4  https://www.wimoveis.com.br/propriedades/elega...        NaN     NaN   \n",
       "\n",
       "                   lat                 long area_total area_util  banheiros  \\\n",
       "0  -15.842635250484830  -48.024645807548495       89m²      89m²        3.0   \n",
       "1  -15.742129999999999  -47.910919999999997      224m²     224m²        6.0   \n",
       "2  -15.739203900000000  -47.902473900000020        NaN      65m²        2.0   \n",
       "3  -15.748856500000000  -47.896520000000010        NaN       NaN        NaN   \n",
       "4  -15.827143900000000  -47.952883600000010      117m²     117m²        5.0   \n",
       "\n",
       "   vagas  quartos  suites idade  \\\n",
       "0    2.0      2.0     2.0     6   \n",
       "1    3.0      4.0     4.0     4   \n",
       "2    0.0      3.0     0.0   NaN   \n",
       "3    NaN      NaN     NaN   NaN   \n",
       "4    2.0      3.0     3.0     1   \n",
       "\n",
       "                                            endereco  \\\n",
       "0                   Qd 206,  Aguas Sul, Águas Claras   \n",
       "1               Quadra SQNW 110,  Noroeste, Brasília   \n",
       "2  SCRN 706/707 BLOCO F - COMPLETO ARMÁRIOS- EXCE...   \n",
       "3                                                NaN   \n",
       "4                       Sgcv 23,  Park Sul, Brasília   \n",
       "\n",
       "                       bairro idade_anuncio  \n",
       "0  ,  Aguas Sul, Águas Claras            52  \n",
       "1       ,  Noroeste, Brasília             6  \n",
       "2      ,  Asa Norte, Brasília             9  \n",
       "3                         NaN            14  \n",
       "4       ,  Park Sul, Brasília             8  "
      ]
     },
     "execution_count": 2,
     "metadata": {},
     "output_type": "execute_result"
    }
   ],
   "source": [
    "df = pd.read_csv(\"data/apartamentos_completo.csv\")\n",
    "\n",
    "df = df.drop(['Unnamed: 0'],axis=1)\n",
    "df.reset_index(inplace=True,drop=True)\n",
    "print(df.shape)\n",
    "df.head()"
   ]
  },
  {
   "cell_type": "code",
   "execution_count": 3,
   "metadata": {},
   "outputs": [
    {
     "data": {
      "text/plain": [
       "nome              object\n",
       "valor_venda        int64\n",
       "url               object\n",
       "condominio        object\n",
       "IPTU              object\n",
       "lat               object\n",
       "long              object\n",
       "area_total        object\n",
       "area_util         object\n",
       "banheiros        float64\n",
       "vagas            float64\n",
       "quartos          float64\n",
       "suites           float64\n",
       "idade             object\n",
       "endereco          object\n",
       "bairro            object\n",
       "idade_anuncio     object\n",
       "dtype: object"
      ]
     },
     "execution_count": 3,
     "metadata": {},
     "output_type": "execute_result"
    }
   ],
   "source": [
    "df.dtypes"
   ]
  },
  {
   "cell_type": "markdown",
   "metadata": {},
   "source": [
    "### Dropa imoveis que não tem latitude, longitude e área útil"
   ]
  },
  {
   "cell_type": "code",
   "execution_count": 4,
   "metadata": {},
   "outputs": [
    {
     "data": {
      "text/plain": [
       "(25493, 17)"
      ]
     },
     "execution_count": 4,
     "metadata": {},
     "output_type": "execute_result"
    }
   ],
   "source": [
    "df.dropna(subset=['lat', 'long','area_util','bairro'],inplace=True)\n",
    "df.shape"
   ]
  },
  {
   "cell_type": "markdown",
   "metadata": {},
   "source": [
    "### Quantidade de valores nulos por coluna"
   ]
  },
  {
   "cell_type": "code",
   "execution_count": 5,
   "metadata": {},
   "outputs": [
    {
     "data": {
      "text/plain": [
       "<matplotlib.axes._subplots.AxesSubplot at 0x21f6a4ead30>"
      ]
     },
     "execution_count": 5,
     "metadata": {},
     "output_type": "execute_result"
    },
    {
     "data": {
      "image/png": "[encoded data removed]",
      "text/plain": [
       "<Figure size 432x288 with 1 Axes>"
      ]
     },
     "metadata": {
      "needs_background": "light"
     },
     "output_type": "display_data"
    }
   ],
   "source": [
    "df.isna().sum().plot.bar()"
   ]
  },
  {
   "cell_type": "code",
   "execution_count": 6,
   "metadata": {},
   "outputs": [
    {
     "data": {
      "text/plain": [
       "nome                 0\n",
       "valor_venda          0\n",
       "url                  0\n",
       "condominio        9597\n",
       "IPTU             16985\n",
       "lat                  0\n",
       "long                 0\n",
       "area_total        9786\n",
       "area_util            0\n",
       "banheiros          642\n",
       "vagas             1691\n",
       "quartos             24\n",
       "suites            2206\n",
       "idade             8253\n",
       "endereco             0\n",
       "bairro               0\n",
       "idade_anuncio        0\n",
       "dtype: int64"
      ]
     },
     "execution_count": 6,
     "metadata": {},
     "output_type": "execute_result"
    }
   ],
   "source": [
    "df.isna().sum()"
   ]
  },
  {
   "cell_type": "markdown",
   "metadata": {},
   "source": [
    "### Remove outliers do preço de venda"
   ]
  },
  {
   "cell_type": "code",
   "execution_count": 7,
   "metadata": {},
   "outputs": [
    {
     "name": "stdout",
     "output_type": "stream",
     "text": [
      "(25493, 17)\n"
     ]
    },
    {
     "data": {
      "text/plain": [
       "count    2.549300e+04\n",
       "mean     2.591094e+06\n",
       "std      6.194202e+07\n",
       "min      1.440000e+02\n",
       "25%      2.800000e+05\n",
       "50%      4.800000e+05\n",
       "75%      1.000000e+06\n",
       "max      6.299000e+09\n",
       "Name: valor_venda, dtype: float64"
      ]
     },
     "execution_count": 7,
     "metadata": {},
     "output_type": "execute_result"
    }
   ],
   "source": [
    "print(df.shape)\n",
    "df.valor_venda.describe()"
   ]
  },
  {
   "cell_type": "markdown",
   "metadata": {},
   "source": [
    "### 6 bilhões parece muito para um imóvel\n",
    "Vamos remover aqueles que custam a partir de 65 milhões"
   ]
  },
  {
   "cell_type": "code",
   "execution_count": 8,
   "metadata": {},
   "outputs": [
    {
     "name": "stdout",
     "output_type": "stream",
     "text": [
      "(25422, 17)\n"
     ]
    },
    {
     "data": {
      "text/plain": [
       "count    2.542200e+04\n",
       "mean     7.602199e+05\n",
       "std      7.618316e+05\n",
       "min      1.440000e+02\n",
       "25%      2.800000e+05\n",
       "50%      4.800000e+05\n",
       "75%      1.000000e+06\n",
       "max      1.200000e+07\n",
       "Name: valor_venda, dtype: float64"
      ]
     },
     "execution_count": 8,
     "metadata": {},
     "output_type": "execute_result"
    }
   ],
   "source": [
    "df = df.loc[df.valor_venda < 65000000]\n",
    "print(df.shape)\n",
    "df.valor_venda.describe()"
   ]
  },
  {
   "cell_type": "markdown",
   "metadata": {},
   "source": [
    "### Remove outliers da area util"
   ]
  },
  {
   "cell_type": "code",
   "execution_count": 9,
   "metadata": {},
   "outputs": [],
   "source": [
    "df.area_util = df.area_util.str.replace('m²','')\n",
    "df.area_util = pd.to_numeric(df.area_util)"
   ]
  },
  {
   "cell_type": "code",
   "execution_count": 10,
   "metadata": {},
   "outputs": [
    {
     "name": "stdout",
     "output_type": "stream",
     "text": [
      "(25422, 17)\n"
     ]
    },
    {
     "data": {
      "text/plain": [
       "count     25422.000000\n",
       "mean        115.355598\n",
       "std        1274.183473\n",
       "min           1.000000\n",
       "25%          56.000000\n",
       "50%          78.000000\n",
       "75%         123.000000\n",
       "max      143167.000000\n",
       "Name: area_util, dtype: float64"
      ]
     },
     "execution_count": 10,
     "metadata": {},
     "output_type": "execute_result"
    }
   ],
   "source": [
    "print(df.shape)\n",
    "df.area_util.describe()"
   ]
  },
  {
   "cell_type": "markdown",
   "metadata": {},
   "source": [
    "## 143mil m2  parece muito para um apartamento\n",
    "Vamos remover aqueles que sao maiores que 6 mil m2"
   ]
  },
  {
   "cell_type": "code",
   "execution_count": 11,
   "metadata": {},
   "outputs": [
    {
     "name": "stdout",
     "output_type": "stream",
     "text": [
      "(25395, 17)\n"
     ]
    },
    {
     "data": {
      "text/plain": [
       "count    25395.000000\n",
       "mean        98.934751\n",
       "std         73.024629\n",
       "min         19.000000\n",
       "25%         56.000000\n",
       "50%         78.000000\n",
       "75%        123.000000\n",
       "max       2554.000000\n",
       "Name: area_util, dtype: float64"
      ]
     },
     "execution_count": 11,
     "metadata": {},
     "output_type": "execute_result"
    }
   ],
   "source": [
    "df = df.loc[(df.area_util < 2600) & (df.area_util > 18)]\n",
    "print(df.shape)\n",
    "df.area_util.describe()"
   ]
  },
  {
   "cell_type": "code",
   "execution_count": 12,
   "metadata": {},
   "outputs": [
    {
     "data": {
      "text/plain": [
       "1      2013\n",
       "0      1585\n",
       "8      1195\n",
       "7      1001\n",
       "3       730\n",
       "9       693\n",
       "5       610\n",
       "10      607\n",
       "38      579\n",
       "2       537\n",
       "72      528\n",
       "11      518\n",
       "15      507\n",
       "22      488\n",
       "4       416\n",
       "23      392\n",
       "81      382\n",
       "24      351\n",
       "73      348\n",
       "219     315\n",
       "17      300\n",
       "6       288\n",
       "18      283\n",
       "215     250\n",
       "87      248\n",
       "19      238\n",
       "57      221\n",
       "14      181\n",
       "16      178\n",
       "129     159\n",
       "       ... \n",
       "571       1\n",
       "367       1\n",
       "888       1\n",
       "898       1\n",
       "554       1\n",
       "813       1\n",
       "771       1\n",
       "423       1\n",
       "434       1\n",
       "669       1\n",
       "721       1\n",
       "789       1\n",
       "460       1\n",
       "557       1\n",
       "618       1\n",
       "497       1\n",
       "315       1\n",
       "371       1\n",
       "795       1\n",
       "418       1\n",
       "433       1\n",
       "512       1\n",
       "203       1\n",
       "600       1\n",
       "904       1\n",
       "786       1\n",
       "573       1\n",
       "852       1\n",
       "791       1\n",
       "815       1\n",
       "Name: idade_anuncio, Length: 587, dtype: int64"
      ]
     },
     "execution_count": 12,
     "metadata": {},
     "output_type": "execute_result"
    }
   ],
   "source": [
    "df.idade_anuncio = df.idade_anuncio.str.replace(\"\\r\\n Publicado desde ontem\\r\\n\",\"1\")\n",
    "df.idade_anuncio = df.idade_anuncio.str.replace(\"\\r\\n Publicado hoje\\r\\n\",\"0\")\n",
    "df.idade_anuncio.value_counts()"
   ]
  },
  {
   "cell_type": "markdown",
   "metadata": {},
   "source": [
    "### Checa distribuição dos Bairros"
   ]
  },
  {
   "cell_type": "code",
   "execution_count": 13,
   "metadata": {
    "scrolled": true
   },
   "outputs": [
    {
     "data": {
      "text/plain": [
       "Aguas Sul, Águas Claras                                 3485\n",
       "Noroeste, Brasília                                      3413\n",
       "Aguas Norte, Águas Claras                               3020\n",
       "Asa Norte, Brasília                                     2967\n",
       "Asa Sul, Brasília                                       2246\n",
       "Sudoeste, Brasília                                      1538\n",
       "Taguatinga Norte, Taguatinga                             815\n",
       "Park Sul, Brasília                                       705\n",
       "Guara II, Guará                                          605\n",
       "Samambaia Sul, Samambaia                                 501\n",
       "Areal, Águas Claras                                      465\n",
       "Setor Marista, Goiânia                                   465\n",
       "Lago Norte, Brasília                                     443\n",
       "Taguatinga Sul, Taguatinga                               422\n",
       "Setor Bueno, Goiânia                                     391\n",
       "Guara I, Guará                                           261\n",
       "Samambaia Norte, Samambaia                               252\n",
       "Cruzeiro Novo, Cruzeiro                                  212\n",
       "Centro, Brasília                                         187\n",
       "Ceilandia Norte, Ceilândia                               167\n",
       "Jardim Goiás, Goiânia                                    164\n",
       "Setor Oeste, Goiânia                                     138\n",
       "Setor Industrial, Taguatinga                             116\n",
       "Sobradinho, Sobradinho                                   108\n",
       "Vicente Pires, Vicente Pires                              96\n",
       "Lago Sul, Brasília                                        79\n",
       "Riacho Fundo I, Riacho Fundo                              78\n",
       "Parque Amazônia, Goiânia                                  78\n",
       "Taguatinga Centro, Taguatinga                             76\n",
       "Centro, Águas Claras                                      71\n",
       "                                                        ... \n",
       "Mansões do Lago, Brasília                                  1\n",
       "Centro, Anápolis                                           1\n",
       "Jardim das Esmeraldas, Goiânia                             1\n",
       "São Francisco, Goiânia                                     1\n",
       "Jardim Nova Era Acréscimo, Aparecida de Goiânia            1\n",
       "Jardim Flamboyant, Luziânia                                1\n",
       "Centro, Núcleo Bandeirante                                 1\n",
       "Residencial Eldorado Expansão, Goiânia                     1\n",
       "Chácara Bela Vista, Aparecida de Goiânia                   1\n",
       "Vila Lucy, Goiânia                                         1\n",
       "Cardoso Continuação, Aparecida de Goiânia                  1\n",
       "Centro, Planaltina                                         1\n",
       "Setor Habitacional Tororó, Santa Maria                     1\n",
       "Vila Jardim São Judas Tadeu, Goiânia                       1\n",
       "Parque Flamboyant, Goiânia                                 1\n",
       "Setor Terminal Sul, Brasília                               1\n",
       "Pacaembu, Valparaíso de Goiás                              1\n",
       "Zona Rural, Uruaçu                                         1\n",
       "Jardim Bela Vista, Aparecida de Goiânia                    1\n",
       "Parque das Nações, Aparecida de Goiânia                    1\n",
       "Setor de Grandes Áreas Norte, Brasília                     1\n",
       "Sao Francisco, São Sebastião                               1\n",
       "Setor Central, Vila Estrutural                             1\n",
       "Loteamento Grande Vale, Novo Gama                          1\n",
       "Centro, Riacho Fundo                                       1\n",
       "Vila Americano do Brasil, Goiânia                          1\n",
       "Setor Criméia Leste, Goiânia                               1\n",
       "Setor de Armazenagem e Abastecimento Norte, Brasília       1\n",
       "Condomínio Mansões Sobradinho, Sobradinho                  1\n",
       "Quadra Mista Sudoeste, Brasília                            1\n",
       "Name: bairro, Length: 264, dtype: int64"
      ]
     },
     "execution_count": 13,
     "metadata": {},
     "output_type": "execute_result"
    }
   ],
   "source": [
    "df.bairro = df.bairro.str.replace(\",  \",\"\")\n",
    "df.bairro.value_counts()"
   ]
  },
  {
   "cell_type": "code",
   "execution_count": 14,
   "metadata": {},
   "outputs": [
    {
     "data": {
      "text/plain": [
       "Aguas Sul, Águas Claras                                 3485\n",
       "Noroeste, Brasília                                      3413\n",
       "Aguas Norte, Águas Claras                               3020\n",
       "Asa Norte, Brasília                                     2967\n",
       "Asa Sul, Brasília                                       2246\n",
       "Sudoeste, Brasília                                      1538\n",
       "Taguatinga Norte, Taguatinga                             815\n",
       "Park Sul, Brasília                                       705\n",
       "Guara II, Guará                                          605\n",
       "Samambaia Sul, Samambaia                                 501\n",
       "Areal, Águas Claras                                      465\n",
       "Lago Norte, Brasília                                     443\n",
       "Taguatinga Sul, Taguatinga                               422\n",
       "Guara I, Guará                                           261\n",
       "Samambaia Norte, Samambaia                               252\n",
       "Cruzeiro Novo, Cruzeiro                                  212\n",
       "Centro, Brasília                                         187\n",
       "Ceilandia Norte, Ceilândia                               167\n",
       "Setor Industrial, Taguatinga                             116\n",
       "Sobradinho, Sobradinho                                   108\n",
       "Vicente Pires, Vicente Pires                              96\n",
       "Lago Sul, Brasília                                        79\n",
       "Riacho Fundo I, Riacho Fundo                              78\n",
       "Taguatinga Centro, Taguatinga                             76\n",
       "Centro, Águas Claras                                      71\n",
       "Setor De Clubes Esportivos Norte, Brasília                64\n",
       "Quadras Economicas Lucio Costa, Guará                     63\n",
       "Octogonal, Brasília                                       57\n",
       "Nucleo Bandeirante, Núcleo Bandeirante                    56\n",
       "Águas Claras, Distrito Federal                            39\n",
       "                                                        ... \n",
       "Parque das Flores, Valparaíso de Goiás                     1\n",
       "Centro, Anápolis                                           1\n",
       "Jardim das Esmeraldas, Goiânia                             1\n",
       "São Francisco, Goiânia                                     1\n",
       "Jardim Nova Era Acréscimo, Aparecida de Goiânia            1\n",
       "Jardim Flamboyant, Luziânia                                1\n",
       "Vila Jardim São Judas Tadeu, Goiânia                       1\n",
       "Residencial Eldorado Expansão, Goiânia                     1\n",
       "Vila Lucy, Goiânia                                         1\n",
       "Centro Comercial Sudoeste, Brasília                        1\n",
       "Cardoso Continuação, Aparecida de Goiânia                  1\n",
       "Centro, Planaltina                                         1\n",
       "Setor Habitacional Tororó, Santa Maria                     1\n",
       "Bela Vista, Goiânia                                        1\n",
       "Parque Flamboyant, Goiânia                                 1\n",
       "Setor Terminal Sul, Brasília                               1\n",
       "Pacaembu, Valparaíso de Goiás                              1\n",
       "Zona Rural, Uruaçu                                         1\n",
       "Jardim Bela Vista, Aparecida de Goiânia                    1\n",
       "Parque das Nações, Aparecida de Goiânia                    1\n",
       "Setor de Grandes Áreas Norte, Brasília                     1\n",
       "Sao Francisco, São Sebastião                               1\n",
       "Setor Central, Vila Estrutural                             1\n",
       "Loteamento Grande Vale, Novo Gama                          1\n",
       "Centro, Riacho Fundo                                       1\n",
       "Vila Americano do Brasil, Goiânia                          1\n",
       "Setor Criméia Leste, Goiânia                               1\n",
       "Setor de Armazenagem e Abastecimento Norte, Brasília       1\n",
       "Condomínio Mansões Sobradinho, Sobradinho                  1\n",
       "Mansões Aguas Quentes, Caldas Novas                        1\n",
       "Name: bairro, Length: 258, dtype: int64"
      ]
     },
     "execution_count": 14,
     "metadata": {},
     "output_type": "execute_result"
    }
   ],
   "source": [
    "bairros_goiania = ['Setor Bueno, Goiânia','Setor Marista, Goiânia','Jardim Goiás, Goiânia','Setor Oeste, Goiânia',\n",
    "                  'Parque Amazônia, Goiânia','Jardim América, Goiânia']\n",
    "df = df[~df['bairro'].isin(bairros_goiania)]\n",
    "df.bairro.value_counts()"
   ]
  },
  {
   "cell_type": "code",
   "execution_count": 15,
   "metadata": {},
   "outputs": [
    {
     "data": {
      "text/plain": [
       "<matplotlib.axes._subplots.AxesSubplot at 0x21f6b0def60>"
      ]
     },
     "execution_count": 15,
     "metadata": {},
     "output_type": "execute_result"
    },
    {
     "data": {
      "image/png": "[encoded data removed]",
      "text/plain": [
       "<Figure size 432x288 with 1 Axes>"
      ]
     },
     "metadata": {
      "needs_background": "light"
     },
     "output_type": "display_data"
    }
   ],
   "source": [
    "df.bairro.value_counts()[:25].plot.bar()"
   ]
  },
  {
   "cell_type": "markdown",
   "metadata": {},
   "source": [
    "### Remove bairros com menos imóveis (pega so 25 +)"
   ]
  },
  {
   "cell_type": "code",
   "execution_count": 16,
   "metadata": {},
   "outputs": [
    {
     "data": {
      "text/plain": [
       "Setor De Clubes Esportivos Norte, Brasília              64\n",
       "Quadras Economicas Lucio Costa, Guará                   63\n",
       "Octogonal, Brasília                                     57\n",
       "Nucleo Bandeirante, Núcleo Bandeirante                  56\n",
       "Águas Claras, Distrito Federal                          39\n",
       "Setor Industrial, Gama                                  38\n",
       "Grande Colorado, Sobradinho                             38\n",
       "Centro, Taguatinga                                      38\n",
       "QE Lucio Costa, Guará                                   38\n",
       "Setor Central, Gama                                     37\n",
       "Setor Nova Suiça, Goiânia                               36\n",
       "Setor Bela Vista, Goiânia                               35\n",
       "Ceilandia Sul, Ceilândia                                32\n",
       "Setor Pedro Ludovico, Goiânia                           32\n",
       "Setor Leste Universitário, Goiânia                      31\n",
       "Samambaia, Samambaia                                    31\n",
       "Setor Central, Goiânia                                  27\n",
       "Alto da Glória, Goiânia                                 27\n",
       "Turista I, Caldas Novas                                 27\n",
       "Parque Esplanada III, Valparaíso de Goiás               25\n",
       "Riacho Fundo, Riacho Fundo                              25\n",
       "Setor de Hotéis e Turismo Norte, Brasília               24\n",
       "Zona Industrial, Guará                                  24\n",
       "Cruzeiro Velho, Cruzeiro                                23\n",
       "Superquadra Noroeste, Brasília                          21\n",
       "Jardim Atlântico, Goiânia                               20\n",
       "Residencial Eldorado, Goiânia                           20\n",
       "Parque Esplanada II, Valparaíso de Goiás                20\n",
       "Area Especial, Guará                                    19\n",
       "Setor Total Ville, Santa Maria                          19\n",
       "                                                        ..\n",
       "Parque das Flores, Valparaíso de Goiás                   1\n",
       "Centro, Anápolis                                         1\n",
       "Jardim das Esmeraldas, Goiânia                           1\n",
       "São Francisco, Goiânia                                   1\n",
       "Jardim Nova Era Acréscimo, Aparecida de Goiânia          1\n",
       "Jardim Flamboyant, Luziânia                              1\n",
       "Vila Jardim São Judas Tadeu, Goiânia                     1\n",
       "Residencial Eldorado Expansão, Goiânia                   1\n",
       "Vila Lucy, Goiânia                                       1\n",
       "Centro Comercial Sudoeste, Brasília                      1\n",
       "Cardoso Continuação, Aparecida de Goiânia                1\n",
       "Centro, Planaltina                                       1\n",
       "Setor Habitacional Tororó, Santa Maria                   1\n",
       "Bela Vista, Goiânia                                      1\n",
       "Parque Flamboyant, Goiânia                               1\n",
       "Setor Terminal Sul, Brasília                             1\n",
       "Pacaembu, Valparaíso de Goiás                            1\n",
       "Zona Rural, Uruaçu                                       1\n",
       "Jardim Bela Vista, Aparecida de Goiânia                  1\n",
       "Parque das Nações, Aparecida de Goiânia                  1\n",
       "Setor de Grandes Áreas Norte, Brasília                   1\n",
       "Sao Francisco, São Sebastião                             1\n",
       "Setor Central, Vila Estrutural                           1\n",
       "Loteamento Grande Vale, Novo Gama                        1\n",
       "Centro, Riacho Fundo                                     1\n",
       "Vila Americano do Brasil, Goiânia                        1\n",
       "Setor Criméia Leste, Goiânia                             1\n",
       "Setor de Armazenagem e Abastecimento Norte, Brasília     1\n",
       "Condomínio Mansões Sobradinho, Sobradinho                1\n",
       "Mansões Aguas Quentes, Caldas Novas                      1\n",
       "Name: bairro, Length: 233, dtype: int64"
      ]
     },
     "execution_count": 16,
     "metadata": {},
     "output_type": "execute_result"
    }
   ],
   "source": [
    "df.bairro.value_counts()[25:]"
   ]
  },
  {
   "cell_type": "code",
   "execution_count": 17,
   "metadata": {},
   "outputs": [
    {
     "data": {
      "text/plain": [
       "array(['Setor De Clubes Esportivos Norte, Brasília',\n",
       "       'Quadras Economicas Lucio Costa, Guará', 'Octogonal, Brasília',\n",
       "       'Nucleo Bandeirante, Núcleo Bandeirante',\n",
       "       'Águas Claras, Distrito Federal', 'Setor Industrial, Gama',\n",
       "       'Grande Colorado, Sobradinho', 'Centro, Taguatinga',\n",
       "       'QE Lucio Costa, Guará', 'Setor Central, Gama',\n",
       "       'Setor Nova Suiça, Goiânia', 'Setor Bela Vista, Goiânia',\n",
       "       'Ceilandia Sul, Ceilândia', 'Setor Pedro Ludovico, Goiânia',\n",
       "       'Setor Leste Universitário, Goiânia', 'Samambaia, Samambaia',\n",
       "       'Setor Central, Goiânia', 'Alto da Glória, Goiânia',\n",
       "       'Turista I, Caldas Novas',\n",
       "       'Parque Esplanada III, Valparaíso de Goiás',\n",
       "       'Riacho Fundo, Riacho Fundo',\n",
       "       'Setor de Hotéis e Turismo Norte, Brasília',\n",
       "       'Zona Industrial, Guará', 'Cruzeiro Velho, Cruzeiro',\n",
       "       'Superquadra Noroeste, Brasília', 'Jardim Atlântico, Goiânia',\n",
       "       'Residencial Eldorado, Goiânia',\n",
       "       'Parque Esplanada II, Valparaíso de Goiás', 'Area Especial, Guará',\n",
       "       'Setor Total Ville, Santa Maria', 'Setor Aeroporto, Goiânia',\n",
       "       'Sia, Setor Industrial', 'Vila Rosa, Goiânia',\n",
       "       'Setor Negrão de Lima, Goiânia', 'Setor Central, Caldas Novas',\n",
       "       'Park Lozandes, Goiânia', 'Centro, Caldas Novas',\n",
       "       'Superquadra Sudoeste, Brasília', 'Ceilandia Centro, Ceilândia',\n",
       "       'Setor Habitacional Contagem, Sobradinho',\n",
       "       'Parque das Cachoeiras, Valparaíso de Goiás',\n",
       "       'Área de Desenvolvimento Econômico, Águas Claras',\n",
       "       'SQB - Super Quadra Brasilia, Guará', 'Santa Maria, Santa Maria',\n",
       "       'Vila dos Alpes, Goiânia',\n",
       "       'Residencial Santos Dumont, Santa Maria',\n",
       "       'Setor Hoteleiro Norte, Brasília', 'Setor Sudoeste, Goiânia',\n",
       "       'Serrinha, Goiânia', 'Setor Leste, Gama',\n",
       "       'Recanto das Emas, Recanto das Emas', 'Setor Coimbra, Goiânia',\n",
       "       'Centro, Guará', 'Cidade Jardins, Valparaíso de Goiás',\n",
       "       'Jardim Céu Azul, Valparaíso de Goiás',\n",
       "       'Centro de Atividades, Brasília',\n",
       "       'Setor Habitacional Jardins Mangueiral, Brasília',\n",
       "       'Condomínio Império dos Nobres, Sobradinho',\n",
       "       'Area Especial, Taguatinga', 'Centro, Vicente Pires',\n",
       "       'Setor De Clubes Esportivos Sul, Brasília',\n",
       "       'Setor Habitacional Jardim Botânico, Brasília', 'Bueno, Goiânia',\n",
       "       'Setor Industrial, Guará',\n",
       "       'Setor Habitacional Vicente Pires, Taguatinga',\n",
       "       'Parque Esplanada I, Valparaíso de Goiás',\n",
       "       'Jardins Mangueiral, São Sebastião',\n",
       "       'Olegário Pinto, Caldas Novas', 'Vila Maria José, Goiânia',\n",
       "       'Sítios Santa Luzia, Aparecida de Goiânia',\n",
       "       'Setor Faiçalville, Goiânia', 'Gama, Gama',\n",
       "       'Setor Meireles, Santa Maria',\n",
       "       'Setor dos Afonsos, Aparecida de Goiânia',\n",
       "       'Setor De Mansões De Sobradinho, Sobradinho',\n",
       "       'Caldas Novas, Caldas Novas',\n",
       "       'Parque Esplanada V, Valparaíso de Goiás',\n",
       "       'Condomínio Comercial e Residencial Sobradinho, Sobradinho',\n",
       "       'Centro, Cidade Ocidental', 'Jardim Belvedere, Caldas Novas',\n",
       "       'Setores Complementares, Brasília', 'Superquadra Norte, Brasília',\n",
       "       'Vila Brasília, Aparecida de Goiânia',\n",
       "       'Condomínio Vivendas Chácaras Ypiranga, Valparaíso de Goiás',\n",
       "       'Esplanada, Rio Quente',\n",
       "       'Setor de Habitações Individuais Norte, Brasília',\n",
       "       'Parque Oeste Industrial, Goiânia', 'Park Way, Brasília',\n",
       "       'Centro, Samambaia', 'Ipiranga, Valparaíso de Goiás',\n",
       "       'Setor Sul, Goiânia', 'Setor Habitacional Meireles, Santa Maria',\n",
       "       'Centro, Valparaíso de Goiás', 'Bandeirante, Caldas Novas',\n",
       "       'Planaltina, Planaltina',\n",
       "       'Colônia Agrícola Samambaia, Vicente Pires',\n",
       "       'Chácaras Alto da Glória, Goiânia', 'Centro, Sobradinho',\n",
       "       'Riacho Fundo II, Riacho Fundo', 'Setor Sul, Gama',\n",
       "       'Vila São João, Goiânia', 'Centro, Goiânia',\n",
       "       'Comércio Local Noroeste, Brasília',\n",
       "       'Setor Residencial Leste, Planaltina',\n",
       "       'Setor Placa da Mercedes, Núcleo Bandeirante',\n",
       "       'Vila Planalto, Brasília', 'Setor De Industrias, Brasília',\n",
       "       'Caminho do Lago, Caldas Novas', 'Centro, Ceilândia',\n",
       "       'Jardim Jeriquara, Caldas Novas', 'Setor Leste Vila Nova, Goiânia',\n",
       "       'Granja Do Torto, Brasília', 'Superquadra Sul, Brasília',\n",
       "       'Setor Sudoeste, Cruzeiro', 'Setor Universitario, Goiânia',\n",
       "       'Setor Goiânia 2, Goiânia',\n",
       "       'Parque São Bernardo, Valparaíso de Goiás',\n",
       "       'Vila Jaraguá, Goiânia', 'Santa Rita, Planaltina de Goiás',\n",
       "       'Aguas Lindas de Goias, Águas Lindas de Goiás',\n",
       "       'Turista, Caldas Novas',\n",
       "       'Condomínio Residencial Parque Oeste, Goiânia',\n",
       "       'Valparaiso I - Etapa E, Valparaíso de Goiás',\n",
       "       'Região Dos Lagos, Sobradinho', 'Cidade Jardim, Goiânia',\n",
       "       'Nova Suica, Goiânia', 'Quadra Mista Noroeste, Brasília',\n",
       "       'Itaici II, Caldas Novas', 'Setor Universitário, Rio Verde',\n",
       "       'Parque Marajó, Valparaíso de Goiás', 'Village Veneza, Goiânia',\n",
       "       'Arniqueiras, Águas Claras',\n",
       "       'Núcleo Habitacional Novo Gama, Novo Gama',\n",
       "       'Setor Santos Dumont, Goiânia', 'Centro, Uruaçu', 'Novo, Cruzeiro',\n",
       "       'Setor Cândida de Morais, Goiânia',\n",
       "       'Setor de Chácaras Anhangüera C, Valparaíso de Goiás',\n",
       "       'Centro Comercial Noroeste, Brasília',\n",
       "       'Residencial Granville, Goiânia',\n",
       "       'Valparaiso I - Etapa A, Valparaíso de Goiás',\n",
       "       'Jardim Ipanema, Valparaíso de Goiás',\n",
       "       'Setor Residencial Oeste, São Sebastião', 'Itaici I, Caldas Novas',\n",
       "       'Zona Civico-administrativa, Brasília', 'Nova Vila, Caldas Novas',\n",
       "       'Setor de Múltiplas Atividades Sul, Brasília', 'Centro, Luziânia',\n",
       "       'Jundiaí, Anápolis', 'Vila São Luiz, Goiânia',\n",
       "       'Setor Hoteleiro Sul, Brasília', 'Nova Colina, Sobradinho',\n",
       "       'Estancia Mestre D Armas I, Planaltina', 'Vila Estrutural, Guará',\n",
       "       'Mansões Pôr do Sol, Águas Lindas de Goiás',\n",
       "       'Serra Azul, Sobradinho', 'Centro, Núcleo Bandeirante',\n",
       "       'Vila Monticelli, Goiânia',\n",
       "       'Setor Comercial Local Residencial Norte, Brasília',\n",
       "       'Setor de Chácaras Anhangüera A, Valparaíso de Goiás',\n",
       "       'Formosinha, Formosa', 'Cidade Ocidental, Cidade Ocidental',\n",
       "       'Turista II, Caldas Novas', 'Paranoa, Paranoá',\n",
       "       'Setor Terminal Norte, Brasília', 'Setor Norte, Brazlandia',\n",
       "       'Feliz, Goiânia', 'Alphavile Paiva, Novo Gama',\n",
       "       'Residencial Vereda dos Buritis, Goiânia',\n",
       "       'Setor Oeste, Planaltina de Goiás',\n",
       "       'Setor de Chácaras Anhangüera B, Valparaíso de Goiás',\n",
       "       'Jardim Europa, Goiânia', 'Comércio Local Sudoeste, Brasília',\n",
       "       'Jardim Luz, Aparecida de Goiânia', 'Brazlandia, Brazlandia',\n",
       "       'Caldas do Oeste, Caldas Novas',\n",
       "       'Parque Napolis A, Cidade Ocidental',\n",
       "       'Jardim Nova Era, Aparecida de Goiânia',\n",
       "       'Vale Do Amanhecer, Planaltina', 'Centro, Gama',\n",
       "       'Setor De Industria Graficas, Brasília',\n",
       "       'Jardim Santo Antônio, Aparecida de Goiânia',\n",
       "       'Santos Dumont, Goiânia', 'Jardim do Ingá, Luziânia',\n",
       "       'Morro Azul, São Sebastião', 'Centro, Recanto das Emas',\n",
       "       'Valparaiso I - Etapa B, Valparaíso de Goiás',\n",
       "       'Cidade Satélite São Luiz, Aparecida de Goiânia',\n",
       "       'Centro, Paranoá', 'Quadra Mista Sudoeste, Brasília',\n",
       "       'Parque Estrela Dalva IX, Luziânia', 'Oeste, Goiânia',\n",
       "       'Condomínio barra do Pirapitinga, Caldas Novas', 'Varjao, Varjao',\n",
       "       'Setor de Garagens e Concessionárias de Veículos, Brasília',\n",
       "       'Condomínio Eldorado, Goiânia',\n",
       "       'Setor De Desenvolvimento Economico, Taguatinga',\n",
       "       'Setor de Hotéis e Turismo Sul, Brasília',\n",
       "       'Jardim Esmeraldas, Aparecida de Goiânia',\n",
       "       'Centro, Aparecida de Goiânia', 'Maracanã, Anápolis',\n",
       "       'Chácara Bela Vista, Aparecida de Goiânia',\n",
       "       'Mansões do Lago, Brasília',\n",
       "       'Parque das Flores, Valparaíso de Goiás', 'Centro, Anápolis',\n",
       "       'Jardim das Esmeraldas, Goiânia', 'São Francisco, Goiânia',\n",
       "       'Jardim Nova Era Acréscimo, Aparecida de Goiânia',\n",
       "       'Jardim Flamboyant, Luziânia',\n",
       "       'Vila Jardim São Judas Tadeu, Goiânia',\n",
       "       'Residencial Eldorado Expansão, Goiânia', 'Vila Lucy, Goiânia',\n",
       "       'Centro Comercial Sudoeste, Brasília',\n",
       "       'Cardoso Continuação, Aparecida de Goiânia', 'Centro, Planaltina',\n",
       "       'Setor Habitacional Tororó, Santa Maria', 'Bela Vista, Goiânia',\n",
       "       'Parque Flamboyant, Goiânia', 'Setor Terminal Sul, Brasília',\n",
       "       'Pacaembu, Valparaíso de Goiás', 'Zona Rural, Uruaçu',\n",
       "       'Jardim Bela Vista, Aparecida de Goiânia',\n",
       "       'Parque das Nações, Aparecida de Goiânia',\n",
       "       'Setor de Grandes Áreas Norte, Brasília',\n",
       "       'Sao Francisco, São Sebastião', 'Setor Central, Vila Estrutural',\n",
       "       'Loteamento Grande Vale, Novo Gama', 'Centro, Riacho Fundo',\n",
       "       'Vila Americano do Brasil, Goiânia',\n",
       "       'Setor Criméia Leste, Goiânia',\n",
       "       'Setor de Armazenagem e Abastecimento Norte, Brasília',\n",
       "       'Condomínio Mansões Sobradinho, Sobradinho',\n",
       "       'Mansões Aguas Quentes, Caldas Novas'], dtype=object)"
      ]
     },
     "execution_count": 17,
     "metadata": {},
     "output_type": "execute_result"
    }
   ],
   "source": [
    "bairros_reject = df.bairro.value_counts()[25:].index.values\n",
    "bairros_reject"
   ]
  },
  {
   "cell_type": "code",
   "execution_count": 18,
   "metadata": {},
   "outputs": [
    {
     "name": "stdout",
     "output_type": "stream",
     "text": [
      "(22328, 17)\n"
     ]
    },
    {
     "data": {
      "text/html": [
       "<div>\n",
       "<style scoped>\n",
       "    .dataframe tbody tr th:only-of-type {\n",
       "        vertical-align: middle;\n",
       "    }\n",
       "\n",
       "    .dataframe tbody tr th {\n",
       "        vertical-align: top;\n",
       "    }\n",
       "\n",
       "    .dataframe thead th {\n",
       "        text-align: right;\n",
       "    }\n",
       "</style>\n",
       "<table border=\"1\" class=\"dataframe\">\n",
       "  <thead>\n",
       "    <tr style=\"text-align: right;\">\n",
       "      <th></th>\n",
       "      <th>nome</th>\n",
       "      <th>valor_venda</th>\n",
       "      <th>url</th>\n",
       "      <th>condominio</th>\n",
       "      <th>IPTU</th>\n",
       "      <th>lat</th>\n",
       "      <th>long</th>\n",
       "      <th>area_total</th>\n",
       "      <th>area_util</th>\n",
       "      <th>banheiros</th>\n",
       "      <th>vagas</th>\n",
       "      <th>quartos</th>\n",
       "      <th>suites</th>\n",
       "      <th>idade</th>\n",
       "      <th>endereco</th>\n",
       "      <th>bairro</th>\n",
       "      <th>idade_anuncio</th>\n",
       "    </tr>\n",
       "  </thead>\n",
       "  <tbody>\n",
       "    <tr>\n",
       "      <th>0</th>\n",
       "      <td>Tower duplex  90m2</td>\n",
       "      <td>550000</td>\n",
       "      <td>https://www.wimoveis.com.br/propriedades/tower...</td>\n",
       "      <td>R$ 730</td>\n",
       "      <td>R$ 690</td>\n",
       "      <td>-15.842635250484830</td>\n",
       "      <td>-48.024645807548495</td>\n",
       "      <td>89m²</td>\n",
       "      <td>89</td>\n",
       "      <td>3.0</td>\n",
       "      <td>2.0</td>\n",
       "      <td>2.0</td>\n",
       "      <td>2.0</td>\n",
       "      <td>6</td>\n",
       "      <td>Qd 206,  Aguas Sul, Águas Claras</td>\n",
       "      <td>Aguas Sul, Águas Claras</td>\n",
       "      <td>52</td>\n",
       "    </tr>\n",
       "    <tr>\n",
       "      <th>1</th>\n",
       "      <td>SELECTION 36</td>\n",
       "      <td>2150000</td>\n",
       "      <td>https://www.wimoveis.com.br/propriedades/selec...</td>\n",
       "      <td>NaN</td>\n",
       "      <td>NaN</td>\n",
       "      <td>-15.742129999999999</td>\n",
       "      <td>-47.910919999999997</td>\n",
       "      <td>224m²</td>\n",
       "      <td>224</td>\n",
       "      <td>6.0</td>\n",
       "      <td>3.0</td>\n",
       "      <td>4.0</td>\n",
       "      <td>4.0</td>\n",
       "      <td>4</td>\n",
       "      <td>Quadra SQNW 110,  Noroeste, Brasília</td>\n",
       "      <td>Noroeste, Brasília</td>\n",
       "      <td>6</td>\n",
       "    </tr>\n",
       "    <tr>\n",
       "      <th>2</th>\n",
       "      <td>Elevador + Apartamento de 3 Quartos + Excelent...</td>\n",
       "      <td>420000</td>\n",
       "      <td>https://www.wimoveis.com.br/propriedades/eleva...</td>\n",
       "      <td>NaN</td>\n",
       "      <td>NaN</td>\n",
       "      <td>-15.739203900000000</td>\n",
       "      <td>-47.902473900000020</td>\n",
       "      <td>NaN</td>\n",
       "      <td>65</td>\n",
       "      <td>2.0</td>\n",
       "      <td>0.0</td>\n",
       "      <td>3.0</td>\n",
       "      <td>0.0</td>\n",
       "      <td>NaN</td>\n",
       "      <td>SCRN 706/707 BLOCO F - COMPLETO ARMÁRIOS- EXCE...</td>\n",
       "      <td>Asa Norte, Brasília</td>\n",
       "      <td>9</td>\n",
       "    </tr>\n",
       "    <tr>\n",
       "      <th>4</th>\n",
       "      <td>Elegance Park Sul de 03 Suítes</td>\n",
       "      <td>1333800</td>\n",
       "      <td>https://www.wimoveis.com.br/propriedades/elega...</td>\n",
       "      <td>NaN</td>\n",
       "      <td>NaN</td>\n",
       "      <td>-15.827143900000000</td>\n",
       "      <td>-47.952883600000010</td>\n",
       "      <td>117m²</td>\n",
       "      <td>117</td>\n",
       "      <td>5.0</td>\n",
       "      <td>2.0</td>\n",
       "      <td>3.0</td>\n",
       "      <td>3.0</td>\n",
       "      <td>1</td>\n",
       "      <td>Sgcv 23,  Park Sul, Brasília</td>\n",
       "      <td>Park Sul, Brasília</td>\n",
       "      <td>8</td>\n",
       "    </tr>\n",
       "    <tr>\n",
       "      <th>5</th>\n",
       "      <td>QI 31 Jardins Life Reformadíssimo Localização ...</td>\n",
       "      <td>580000</td>\n",
       "      <td>https://www.wimoveis.com.br/propriedades/qi-31...</td>\n",
       "      <td>NaN</td>\n",
       "      <td>NaN</td>\n",
       "      <td>-15.840017800000000</td>\n",
       "      <td>-47.975002600000038</td>\n",
       "      <td>NaN</td>\n",
       "      <td>68</td>\n",
       "      <td>2.0</td>\n",
       "      <td>1.0</td>\n",
       "      <td>2.0</td>\n",
       "      <td>1.0</td>\n",
       "      <td>3</td>\n",
       "      <td>QUADRA QI 31 LOTES 2/4,  Guara II, Guará</td>\n",
       "      <td>Guara II, Guará</td>\n",
       "      <td>6</td>\n",
       "    </tr>\n",
       "  </tbody>\n",
       "</table>\n",
       "</div>"
      ],
      "text/plain": [
       "                                                nome  valor_venda  \\\n",
       "0                                 Tower duplex  90m2       550000   \n",
       "1                                       SELECTION 36      2150000   \n",
       "2  Elevador + Apartamento de 3 Quartos + Excelent...       420000   \n",
       "4                     Elegance Park Sul de 03 Suítes      1333800   \n",
       "5  QI 31 Jardins Life Reformadíssimo Localização ...       580000   \n",
       "\n",
       "                                                 url condominio    IPTU  \\\n",
       "0  https://www.wimoveis.com.br/propriedades/tower...     R$ 730  R$ 690   \n",
       "1  https://www.wimoveis.com.br/propriedades/selec...        NaN     NaN   \n",
       "2  https://www.wimoveis.com.br/propriedades/eleva...        NaN     NaN   \n",
       "4  https://www.wimoveis.com.br/propriedades/elega...        NaN     NaN   \n",
       "5  https://www.wimoveis.com.br/propriedades/qi-31...        NaN     NaN   \n",
       "\n",
       "                   lat                 long area_total  area_util  banheiros  \\\n",
       "0  -15.842635250484830  -48.024645807548495       89m²         89        3.0   \n",
       "1  -15.742129999999999  -47.910919999999997      224m²        224        6.0   \n",
       "2  -15.739203900000000  -47.902473900000020        NaN         65        2.0   \n",
       "4  -15.827143900000000  -47.952883600000010      117m²        117        5.0   \n",
       "5  -15.840017800000000  -47.975002600000038        NaN         68        2.0   \n",
       "\n",
       "   vagas  quartos  suites idade  \\\n",
       "0    2.0      2.0     2.0     6   \n",
       "1    3.0      4.0     4.0     4   \n",
       "2    0.0      3.0     0.0   NaN   \n",
       "4    2.0      3.0     3.0     1   \n",
       "5    1.0      2.0     1.0     3   \n",
       "\n",
       "                                            endereco                   bairro  \\\n",
       "0                   Qd 206,  Aguas Sul, Águas Claras  Aguas Sul, Águas Claras   \n",
       "1               Quadra SQNW 110,  Noroeste, Brasília       Noroeste, Brasília   \n",
       "2  SCRN 706/707 BLOCO F - COMPLETO ARMÁRIOS- EXCE...      Asa Norte, Brasília   \n",
       "4                       Sgcv 23,  Park Sul, Brasília       Park Sul, Brasília   \n",
       "5           QUADRA QI 31 LOTES 2/4,  Guara II, Guará          Guara II, Guará   \n",
       "\n",
       "  idade_anuncio  \n",
       "0            52  \n",
       "1             6  \n",
       "2             9  \n",
       "4             8  \n",
       "5             6  "
      ]
     },
     "execution_count": 18,
     "metadata": {},
     "output_type": "execute_result"
    }
   ],
   "source": [
    "df = df[~df['bairro'].isin(bairros_reject)]\n",
    "print(df.shape)\n",
    "df.head()"
   ]
  },
  {
   "cell_type": "code",
   "execution_count": 19,
   "metadata": {},
   "outputs": [
    {
     "data": {
      "text/plain": [
       "Aguas Sul, Águas Claras          3485\n",
       "Noroeste, Brasília               3413\n",
       "Aguas Norte, Águas Claras        3020\n",
       "Asa Norte, Brasília              2967\n",
       "Asa Sul, Brasília                2246\n",
       "Sudoeste, Brasília               1538\n",
       "Taguatinga Norte, Taguatinga      815\n",
       "Park Sul, Brasília                705\n",
       "Guara II, Guará                   605\n",
       "Samambaia Sul, Samambaia          501\n",
       "Areal, Águas Claras               465\n",
       "Lago Norte, Brasília              443\n",
       "Taguatinga Sul, Taguatinga        422\n",
       "Guara I, Guará                    261\n",
       "Samambaia Norte, Samambaia        252\n",
       "Cruzeiro Novo, Cruzeiro           212\n",
       "Centro, Brasília                  187\n",
       "Ceilandia Norte, Ceilândia        167\n",
       "Setor Industrial, Taguatinga      116\n",
       "Sobradinho, Sobradinho            108\n",
       "Vicente Pires, Vicente Pires       96\n",
       "Lago Sul, Brasília                 79\n",
       "Riacho Fundo I, Riacho Fundo       78\n",
       "Taguatinga Centro, Taguatinga      76\n",
       "Centro, Águas Claras               71\n",
       "Name: bairro, dtype: int64"
      ]
     },
     "execution_count": 19,
     "metadata": {},
     "output_type": "execute_result"
    }
   ],
   "source": [
    "df.bairro.value_counts()"
   ]
  },
  {
   "cell_type": "code",
   "execution_count": 20,
   "metadata": {},
   "outputs": [],
   "source": [
    "df.quartos = df.quartos.fillna(df.quartos.median())"
   ]
  },
  {
   "cell_type": "code",
   "execution_count": 21,
   "metadata": {},
   "outputs": [
    {
     "name": "stdout",
     "output_type": "stream",
     "text": [
      "(22328, 5)\n"
     ]
    },
    {
     "data": {
      "text/html": [
       "<div>\n",
       "<style scoped>\n",
       "    .dataframe tbody tr th:only-of-type {\n",
       "        vertical-align: middle;\n",
       "    }\n",
       "\n",
       "    .dataframe tbody tr th {\n",
       "        vertical-align: top;\n",
       "    }\n",
       "\n",
       "    .dataframe thead th {\n",
       "        text-align: right;\n",
       "    }\n",
       "</style>\n",
       "<table border=\"1\" class=\"dataframe\">\n",
       "  <thead>\n",
       "    <tr style=\"text-align: right;\">\n",
       "      <th></th>\n",
       "      <th>area_util</th>\n",
       "      <th>quartos</th>\n",
       "      <th>valor_venda</th>\n",
       "      <th>lat</th>\n",
       "      <th>long</th>\n",
       "    </tr>\n",
       "  </thead>\n",
       "  <tbody>\n",
       "    <tr>\n",
       "      <th>0</th>\n",
       "      <td>89</td>\n",
       "      <td>2.0</td>\n",
       "      <td>550000</td>\n",
       "      <td>-15.842635250484830</td>\n",
       "      <td>-48.024645807548495</td>\n",
       "    </tr>\n",
       "    <tr>\n",
       "      <th>1</th>\n",
       "      <td>224</td>\n",
       "      <td>4.0</td>\n",
       "      <td>2150000</td>\n",
       "      <td>-15.742129999999999</td>\n",
       "      <td>-47.910919999999997</td>\n",
       "    </tr>\n",
       "    <tr>\n",
       "      <th>2</th>\n",
       "      <td>65</td>\n",
       "      <td>3.0</td>\n",
       "      <td>420000</td>\n",
       "      <td>-15.739203900000000</td>\n",
       "      <td>-47.902473900000020</td>\n",
       "    </tr>\n",
       "    <tr>\n",
       "      <th>4</th>\n",
       "      <td>117</td>\n",
       "      <td>3.0</td>\n",
       "      <td>1333800</td>\n",
       "      <td>-15.827143900000000</td>\n",
       "      <td>-47.952883600000010</td>\n",
       "    </tr>\n",
       "    <tr>\n",
       "      <th>5</th>\n",
       "      <td>68</td>\n",
       "      <td>2.0</td>\n",
       "      <td>580000</td>\n",
       "      <td>-15.840017800000000</td>\n",
       "      <td>-47.975002600000038</td>\n",
       "    </tr>\n",
       "  </tbody>\n",
       "</table>\n",
       "</div>"
      ],
      "text/plain": [
       "   area_util  quartos  valor_venda                  lat                 long\n",
       "0         89      2.0       550000  -15.842635250484830  -48.024645807548495\n",
       "1        224      4.0      2150000  -15.742129999999999  -47.910919999999997\n",
       "2         65      3.0       420000  -15.739203900000000  -47.902473900000020\n",
       "4        117      3.0      1333800  -15.827143900000000  -47.952883600000010\n",
       "5         68      2.0       580000  -15.840017800000000  -47.975002600000038"
      ]
     },
     "execution_count": 21,
     "metadata": {},
     "output_type": "execute_result"
    }
   ],
   "source": [
    "#df_regression = df[['bairro', 'area_util', 'quartos','valor_venda','lat','long',]]\n",
    "#df_regression = df[['area_util', 'quartos','valor_venda','lat','long','idade_anuncio']]\n",
    "df_regression = df[['area_util', 'quartos','valor_venda','lat','long']]\n",
    "print(df_regression.shape)\n",
    "df_regression.head()"
   ]
  },
  {
   "cell_type": "code",
   "execution_count": 22,
   "metadata": {},
   "outputs": [
    {
     "data": {
      "text/plain": [
       "area_util      0\n",
       "quartos        0\n",
       "valor_venda    0\n",
       "lat            0\n",
       "long           0\n",
       "dtype: int64"
      ]
     },
     "execution_count": 22,
     "metadata": {},
     "output_type": "execute_result"
    }
   ],
   "source": [
    "df_regression.isna().sum()"
   ]
  },
  {
   "cell_type": "code",
   "execution_count": 23,
   "metadata": {},
   "outputs": [
    {
     "data": {
      "text/html": [
       "<div>\n",
       "<style scoped>\n",
       "    .dataframe tbody tr th:only-of-type {\n",
       "        vertical-align: middle;\n",
       "    }\n",
       "\n",
       "    .dataframe tbody tr th {\n",
       "        vertical-align: top;\n",
       "    }\n",
       "\n",
       "    .dataframe thead th {\n",
       "        text-align: right;\n",
       "    }\n",
       "</style>\n",
       "<table border=\"1\" class=\"dataframe\">\n",
       "  <thead>\n",
       "    <tr style=\"text-align: right;\">\n",
       "      <th></th>\n",
       "      <th>area_util</th>\n",
       "      <th>quartos</th>\n",
       "      <th>valor_venda</th>\n",
       "      <th>lat</th>\n",
       "      <th>long</th>\n",
       "    </tr>\n",
       "  </thead>\n",
       "  <tbody>\n",
       "    <tr>\n",
       "      <th>0</th>\n",
       "      <td>89</td>\n",
       "      <td>2.0</td>\n",
       "      <td>550000</td>\n",
       "      <td>-15.842635250484830</td>\n",
       "      <td>-48.024645807548495</td>\n",
       "    </tr>\n",
       "    <tr>\n",
       "      <th>1</th>\n",
       "      <td>224</td>\n",
       "      <td>4.0</td>\n",
       "      <td>2150000</td>\n",
       "      <td>-15.742129999999999</td>\n",
       "      <td>-47.910919999999997</td>\n",
       "    </tr>\n",
       "    <tr>\n",
       "      <th>2</th>\n",
       "      <td>65</td>\n",
       "      <td>3.0</td>\n",
       "      <td>420000</td>\n",
       "      <td>-15.739203900000000</td>\n",
       "      <td>-47.902473900000020</td>\n",
       "    </tr>\n",
       "    <tr>\n",
       "      <th>4</th>\n",
       "      <td>117</td>\n",
       "      <td>3.0</td>\n",
       "      <td>1333800</td>\n",
       "      <td>-15.827143900000000</td>\n",
       "      <td>-47.952883600000010</td>\n",
       "    </tr>\n",
       "    <tr>\n",
       "      <th>5</th>\n",
       "      <td>68</td>\n",
       "      <td>2.0</td>\n",
       "      <td>580000</td>\n",
       "      <td>-15.840017800000000</td>\n",
       "      <td>-47.975002600000038</td>\n",
       "    </tr>\n",
       "  </tbody>\n",
       "</table>\n",
       "</div>"
      ],
      "text/plain": [
       "   area_util  quartos  valor_venda                  lat                 long\n",
       "0         89      2.0       550000  -15.842635250484830  -48.024645807548495\n",
       "1        224      4.0      2150000  -15.742129999999999  -47.910919999999997\n",
       "2         65      3.0       420000  -15.739203900000000  -47.902473900000020\n",
       "4        117      3.0      1333800  -15.827143900000000  -47.952883600000010\n",
       "5         68      2.0       580000  -15.840017800000000  -47.975002600000038"
      ]
     },
     "execution_count": 23,
     "metadata": {},
     "output_type": "execute_result"
    }
   ],
   "source": [
    "df_regression.head()"
   ]
  },
  {
   "cell_type": "code",
   "execution_count": 24,
   "metadata": {},
   "outputs": [],
   "source": [
    "#one_hot = pd.get_dummies(df_regression['bairro'], prefix=\"bairro\")\n",
    "#df_regression = df_regression.join(one_hot)\n",
    "\n",
    "#df_regression = df_regression.drop(['bairro'], axis=1)\n",
    "\n",
    "#df_regression.shape\n",
    "#df_regression.head()"
   ]
  },
  {
   "cell_type": "code",
   "execution_count": 25,
   "metadata": {},
   "outputs": [
    {
     "data": {
      "text/plain": [
       "area_util        int64\n",
       "quartos        float64\n",
       "valor_venda      int64\n",
       "lat            float64\n",
       "long           float64\n",
       "dtype: object"
      ]
     },
     "execution_count": 25,
     "metadata": {},
     "output_type": "execute_result"
    }
   ],
   "source": [
    "df_regression = df_regression.apply(pd.to_numeric)\n",
    "#, errors='coerce'\n",
    "df_regression.dtypes"
   ]
  },
  {
   "cell_type": "code",
   "execution_count": 26,
   "metadata": {},
   "outputs": [],
   "source": [
    "#zscore\n",
    "#mean = df_regression.mean(axis=0)\n",
    "#std = df_regression.std(axis=0)\n",
    "\n",
    "# zscore normalization\n",
    "#df_regression = ( df_regression - mean ) / std"
   ]
  },
  {
   "cell_type": "code",
   "execution_count": 27,
   "metadata": {},
   "outputs": [
    {
     "data": {
      "text/plain": [
       "((22328, 4), (22328,))"
      ]
     },
     "execution_count": 27,
     "metadata": {},
     "output_type": "execute_result"
    }
   ],
   "source": [
    "X = df_regression.drop(['valor_venda'],axis=1)\n",
    "y = df_regression['valor_venda']\n",
    "X.shape, y.shape"
   ]
  },
  {
   "cell_type": "code",
   "execution_count": 28,
   "metadata": {},
   "outputs": [],
   "source": [
    "#X_columns = X.columns.values\n",
    "#X = pd.DataFrame(StandardScaler().fit_transform(X),columns=X_columns)"
   ]
  },
  {
   "cell_type": "code",
   "execution_count": 29,
   "metadata": {},
   "outputs": [
    {
     "data": {
      "text/plain": [
       "((20095, 4), (2233, 4), (20095,), (2233,))"
      ]
     },
     "execution_count": 29,
     "metadata": {},
     "output_type": "execute_result"
    }
   ],
   "source": [
    "X_train, X_test, y_train, y_test = train_test_split(X, y, test_size=0.1, random_state=42)\n",
    "X_train.shape, X_test.shape, y_train.shape, y_test.shape"
   ]
  },
  {
   "cell_type": "code",
   "execution_count": 30,
   "metadata": {},
   "outputs": [
    {
     "data": {
      "text/plain": [
       "RandomForestRegressor(bootstrap=True, criterion='mse', max_depth=None,\n",
       "           max_features='auto', max_leaf_nodes=None,\n",
       "           min_impurity_decrease=0.0, min_impurity_split=None,\n",
       "           min_samples_leaf=1, min_samples_split=2,\n",
       "           min_weight_fraction_leaf=0.0, n_estimators=100, n_jobs=None,\n",
       "           oob_score=False, random_state=None, verbose=0, warm_start=False)"
      ]
     },
     "execution_count": 30,
     "metadata": {},
     "output_type": "execute_result"
    }
   ],
   "source": [
    "reg = RandomForestRegressor(n_estimators=100) \n",
    "reg"
   ]
  },
  {
   "cell_type": "code",
   "execution_count": 31,
   "metadata": {},
   "outputs": [],
   "source": [
    "reg.fit(X_train, y_train)\n",
    "train_predict = reg.predict(X_train)\n",
    "test_predict = reg.predict(X_test)"
   ]
  },
  {
   "cell_type": "code",
   "execution_count": 32,
   "metadata": {},
   "outputs": [
    {
     "name": "stdout",
     "output_type": "stream",
     "text": [
      "Mean squared error: 29749179041.95\n",
      "Root Mean squared error: 172479.50\n",
      "R2 score: 0.95\n"
     ]
    }
   ],
   "source": [
    "print(\"Mean squared error: %.2f\"\n",
    "      % mean_squared_error(y_test, test_predict))\n",
    "\n",
    "print(\"Root Mean squared error: %.2f\"\n",
    "      % math.sqrt(mean_squared_error(y_test, test_predict)))\n",
    "\n",
    "print('R2 score: %.2f' % r2_score(y_test, test_predict))"
   ]
  },
  {
   "cell_type": "code",
   "execution_count": 33,
   "metadata": {},
   "outputs": [
    {
     "name": "stdout",
     "output_type": "stream",
     "text": [
      "Feature ranking:\n",
      "1. feature area_util (0.826805)\n",
      "2. feature long (0.101163)\n",
      "3. feature lat (0.060807)\n",
      "4. feature quartos (0.011225)\n"
     ]
    },
    {
     "data": {
      "image/png": "[encoded data removed]",
      "text/plain": [
       "<Figure size 720x360 with 1 Axes>"
      ]
     },
     "metadata": {
      "needs_background": "light"
     },
     "output_type": "display_data"
    }
   ],
   "source": [
    " plt.rcParams['figure.figsize'] = [10, 5]\n",
    "importances = reg.feature_importances_\n",
    "std = np.std([tree.feature_importances_ for tree in reg.estimators_],\n",
    "             axis=0)\n",
    "indices = np.argsort(importances)[::-1]\n",
    "\n",
    "#Print the feature ranking\n",
    "print(\"Feature ranking:\")\n",
    "\n",
    "for f in range(X_train.shape[1]):\n",
    "\n",
    "    print(\"%d. feature %s (%f)\" % (f + 1, X_train.columns[indices[f]], importances[indices[f]]))\n",
    "\n",
    "# Plot the feature importances of the forest\n",
    "plt.figure()\n",
    "plt.title(\"Feature importances\")\n",
    "plt.bar(range(X_train.shape[1]), importances[indices],\n",
    "       color=\"r\", yerr=std[indices], align=\"center\")\n",
    "plt.xticks(range(X_train.shape[1]), X_train.columns[indices],rotation=90)\n",
    "plt.xlim([-1, X_train.shape[1]])\n",
    "plt.show()"
   ]
  },
  {
   "cell_type": "code",
   "execution_count": 34,
   "metadata": {},
   "outputs": [],
   "source": [
    "#reg2 = RandomForestRegressor(n_estimators=100) \n",
    "\n",
    "#visualizer = ResidualsPlot(reg2)\n",
    "#visualizer.fit(X_train, y_train)  # Fit the training data to the model\n",
    "#visualizer.score(X_test, y_test)  # Evaluate the model on the test data\n",
    "#visualizer.poof()                 # Draw/show/poof the data"
   ]
  },
  {
   "cell_type": "markdown",
   "metadata": {},
   "source": [
    "### TODO: scatterplot valor_venda x area util"
   ]
  },
  {
   "cell_type": "code",
   "execution_count": 35,
   "metadata": {},
   "outputs": [
    {
     "data": {
      "image/png": "[encoded data removed]",
      "text/plain": [
       "<Figure size 720x360 with 1 Axes>"
      ]
     },
     "metadata": {
      "needs_background": "light"
     },
     "output_type": "display_data"
    }
   ],
   "source": [
    "\n",
    "ax1 = df.plot.scatter(x='area_util',\n",
    "                       y='valor_venda',\n",
    "                       c='DarkBlue')"
   ]
  },
  {
   "cell_type": "code",
   "execution_count": 36,
   "metadata": {},
   "outputs": [
    {
     "data": {
      "image/png": "[encoded data removed]",
      "text/plain": [
       "<Figure size 720x360 with 1 Axes>"
      ]
     },
     "metadata": {
      "needs_background": "light"
     },
     "output_type": "display_data"
    }
   ],
   "source": [
    "df_zoom = df.loc[df.area_util < 2001]\n",
    "ax2 = df_zoom.plot.scatter(x='area_util',\n",
    "                       y='valor_venda',\n",
    "                       c='DarkBlue')"
   ]
  },
  {
   "cell_type": "code",
   "execution_count": 37,
   "metadata": {},
   "outputs": [
    {
     "data": {
      "image/png": "[encoded data removed]",
      "text/plain": [
       "<Figure size 720x360 with 1 Axes>"
      ]
     },
     "metadata": {
      "needs_background": "light"
     },
     "output_type": "display_data"
    }
   ],
   "source": [
    "df_zoom = df.loc[df.area_util < 751]\n",
    "ax2 = df_zoom.plot.scatter(x='area_util',\n",
    "                       y='valor_venda',\n",
    "                       c='DarkBlue')"
   ]
  },
  {
   "cell_type": "code",
   "execution_count": 38,
   "metadata": {},
   "outputs": [
    {
     "data": {
      "image/png": "[encoded data removed]",
      "text/plain": [
       "<Figure size 720x360 with 1 Axes>"
      ]
     },
     "metadata": {
      "needs_background": "light"
     },
     "output_type": "display_data"
    }
   ],
   "source": [
    "df_zoom = df.loc[df.area_util < 301]\n",
    "ax2 = df_zoom.plot.scatter(x='area_util',\n",
    "                       y='valor_venda',\n",
    "                       c='DarkBlue')"
   ]
  },
  {
   "cell_type": "code",
   "execution_count": 39,
   "metadata": {},
   "outputs": [
    {
     "name": "stdout",
     "output_type": "stream",
     "text": [
      "(21890, 17)\n"
     ]
    },
    {
     "data": {
      "image/png": "[encoded data removed]",
      "text/plain": [
       "<Figure size 720x360 with 1 Axes>"
      ]
     },
     "metadata": {
      "needs_background": "light"
     },
     "output_type": "display_data"
    }
   ],
   "source": [
    "df_zoom = df.loc[(df.area_util < 300) & (df.valor_venda < 4000000)]\n",
    "print(df_zoom.shape)\n",
    "ax2 = df_zoom.plot.scatter(x='area_util',\n",
    "                       y='valor_venda',\n",
    "                       c='DarkBlue')"
   ]
  },
  {
   "cell_type": "code",
   "execution_count": 40,
   "metadata": {},
   "outputs": [
    {
     "name": "stdout",
     "output_type": "stream",
     "text": [
      "(13693, 17)\n"
     ]
    },
    {
     "data": {
      "image/png": "[encoded data removed]",
      "text/plain": [
       "<Figure size 720x360 with 1 Axes>"
      ]
     },
     "metadata": {
      "needs_background": "light"
     },
     "output_type": "display_data"
    }
   ],
   "source": [
    "df_zoom = df.loc[(df.area_util < 100) & (df.valor_venda < 1000000)]\n",
    "print(df_zoom.shape)\n",
    "ax2 = df_zoom.plot.scatter(x='area_util',\n",
    "                       y='valor_venda',\n",
    "                       c='DarkBlue')"
   ]
  },
  {
   "cell_type": "code",
   "execution_count": null,
   "metadata": {},
   "outputs": [],
   "source": []
  }
 ],
 "metadata": {
  "kernelspec": {
   "display_name": "Python 3",
   "language": "python",
   "name": "python3"
  },
  "language_info": {
   "codemirror_mode": {
    "name": "ipython",
    "version": 3
   },
   "file_extension": ".py",
   "mimetype": "text/x-python",
   "name": "python",
   "nbconvert_exporter": "python",
   "pygments_lexer": "ipython3",
   "version": "3.7.3"
  }
 },
 "nbformat": 4,
 "nbformat_minor": 2
}
